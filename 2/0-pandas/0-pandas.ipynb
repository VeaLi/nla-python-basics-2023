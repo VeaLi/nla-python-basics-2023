{
 "cells": [
  {
   "cell_type": "markdown",
   "id": "73dfe226",
   "metadata": {
    "toc": true
   },
   "source": [
    "<h1>Table of Contents<span class=\"tocSkip\"></span></h1>\n",
    "<div class=\"toc\"><ul class=\"toc-item\"><li><span><a href=\"#Модуль-OS\" data-toc-modified-id=\"Модуль-OS-1\"><span class=\"toc-item-num\">1&nbsp;&nbsp;</span>Модуль OS</a></span><ul class=\"toc-item\"><li><span><a href=\"#Получить-список-из-файлов-в-папке---os.listdir()\" data-toc-modified-id=\"Получить-список-из-файлов-в-папке---os.listdir()-1.1\"><span class=\"toc-item-num\">1.1&nbsp;&nbsp;</span>Получить список из файлов в папке - <code>os.listdir()</code></a></span></li><li><span><a href=\"#Проверить-существует-ли-файл/путь---os.path.exists()\" data-toc-modified-id=\"Проверить-существует-ли-файл/путь---os.path.exists()-1.2\"><span class=\"toc-item-num\">1.2&nbsp;&nbsp;</span>Проверить существует ли файл/путь - <code>os.path.exists()</code></a></span></li><li><span><a href=\"#Посмотреть/изменить-переменные-среды---os.environ[]\" data-toc-modified-id=\"Посмотреть/изменить-переменные-среды---os.environ[]-1.3\"><span class=\"toc-item-num\">1.3&nbsp;&nbsp;</span>Посмотреть/изменить переменные среды - <code>os.environ[]</code></a></span></li></ul></li><li><span><a href=\"#Pandas---для-работы-с-данными\" data-toc-modified-id=\"Pandas---для-работы-с-данными-2\"><span class=\"toc-item-num\">2&nbsp;&nbsp;</span>Pandas - для работы с данными</a></span></li><li><span><a href=\"#Загрузите-библиотеку,-чтобы-воспользоваться-её-функциями\" data-toc-modified-id=\"Загрузите-библиотеку,-чтобы-воспользоваться-её-функциями-3\"><span class=\"toc-item-num\">3&nbsp;&nbsp;</span>Загрузите библиотеку, чтобы воспользоваться её функциями</a></span><ul class=\"toc-item\"><li><span><a href=\"#import-pandas-as-pd\" data-toc-modified-id=\"import-pandas-as-pd-3.1\"><span class=\"toc-item-num\">3.1&nbsp;&nbsp;</span><code>import pandas as pd</code></a></span></li></ul></li><li><span><a href=\"#Cоздать-DataFrame-вручную---pd.DataFrame()\" data-toc-modified-id=\"Cоздать-DataFrame-вручную---pd.DataFrame()-4\"><span class=\"toc-item-num\">4&nbsp;&nbsp;</span>Cоздать DataFrame вручную - <code>pd.DataFrame()</code></a></span></li><li><span><a href=\"#Показать-DataFrame\" data-toc-modified-id=\"Показать-DataFrame-5\"><span class=\"toc-item-num\">5&nbsp;&nbsp;</span>Показать DataFrame</a></span><ul class=\"toc-item\"><li><span><a href=\"#Показать-первые-N-строк---data.head(N)\" data-toc-modified-id=\"Показать-первые-N-строк---data.head(N)-5.1\"><span class=\"toc-item-num\">5.1&nbsp;&nbsp;</span>Показать первые N строк - <code>data.head(N)</code></a></span></li><li><span><a href=\"#Показать-последние-N-строк---data.tail(N)\" data-toc-modified-id=\"Показать-последние-N-строк---data.tail(N)-5.2\"><span class=\"toc-item-num\">5.2&nbsp;&nbsp;</span>Показать последние N строк - <code>data.tail(N)</code></a></span></li></ul></li><li><span><a href=\"#Сохранить-DataFrame-в-файл---data.to_csv()/data.to_excel()\" data-toc-modified-id=\"Сохранить-DataFrame-в-файл---data.to_csv()/data.to_excel()-6\"><span class=\"toc-item-num\">6&nbsp;&nbsp;</span>Сохранить DataFrame в файл - <code>data.to_csv()/data.to_excel()</code></a></span></li><li><span><a href=\"#Загрузить-Dataframe-из-файла---pd.read_csv()/pd.read_excel()\" data-toc-modified-id=\"Загрузить-Dataframe-из-файла---pd.read_csv()/pd.read_excel()-7\"><span class=\"toc-item-num\">7&nbsp;&nbsp;</span>Загрузить Dataframe из файла - <code>pd.read_csv()/pd.read_excel()</code></a></span><ul class=\"toc-item\"><li><span><a href=\"#Exel\" data-toc-modified-id=\"Exel-7.1\"><span class=\"toc-item-num\">7.1&nbsp;&nbsp;</span>Exel</a></span><ul class=\"toc-item\"><li><span><a href=\"#Загрузить-определенные-данные\" data-toc-modified-id=\"Загрузить-определенные-данные-7.1.1\"><span class=\"toc-item-num\">7.1.1&nbsp;&nbsp;</span>Загрузить определенные данные</a></span></li></ul></li><li><span><a href=\"#CSV\" data-toc-modified-id=\"CSV-7.2\"><span class=\"toc-item-num\">7.2&nbsp;&nbsp;</span>CSV</a></span></li><li><span><a href=\"#TSV\" data-toc-modified-id=\"TSV-7.3\"><span class=\"toc-item-num\">7.3&nbsp;&nbsp;</span>TSV</a></span></li><li><span><a href=\"#Parquet\" data-toc-modified-id=\"Parquet-7.4\"><span class=\"toc-item-num\">7.4&nbsp;&nbsp;</span>Parquet</a></span></li><li><span><a href=\"#Json\" data-toc-modified-id=\"Json-7.5\"><span class=\"toc-item-num\">7.5&nbsp;&nbsp;</span>Json</a></span></li><li><span><a href=\"#Указать-&quot;код&quot;-пропущенных-значений-при-чтении\" data-toc-modified-id=\"Указать-&quot;код&quot;-пропущенных-значений-при-чтении-7.6\"><span class=\"toc-item-num\">7.6&nbsp;&nbsp;</span>Указать \"код\" пропущенных значений при чтении</a></span></li><li><span><a href=\"#Удалить-колоноку---data.drop(col_name,-axis=1)\" data-toc-modified-id=\"Удалить-колоноку---data.drop(col_name,-axis=1)-7.7\"><span class=\"toc-item-num\">7.7&nbsp;&nbsp;</span>Удалить колоноку - <code>data.drop(col_name, axis=1)</code></a></span></li><li><span><a href=\"#Индексация---data.iloc[row_index,-col_index]\" data-toc-modified-id=\"Индексация---data.iloc[row_index,-col_index]-7.8\"><span class=\"toc-item-num\">7.8&nbsp;&nbsp;</span>Индексация - <code>data.iloc[row_index, col_index]</code></a></span><ul class=\"toc-item\"><li><span><a href=\"#Сделать-колонку-индексом---data.set_index()\" data-toc-modified-id=\"Сделать-колонку-индексом---data.set_index()-7.8.1\"><span class=\"toc-item-num\">7.8.1&nbsp;&nbsp;</span>Сделать колонку индексом - <code>data.set_index()</code></a></span></li><li><span><a href=\"#Сбросить-колонку-индекса---data.reset_index(drop=True)\" data-toc-modified-id=\"Сбросить-колонку-индекса---data.reset_index(drop=True)-7.8.2\"><span class=\"toc-item-num\">7.8.2&nbsp;&nbsp;</span>Сбросить колонку индекса - <code>data.reset_index(drop=True)</code></a></span></li><li><span><a href=\"#Поменять-порядок-колонок-списком---data[col_list]\" data-toc-modified-id=\"Поменять-порядок-колонок-списком---data[col_list]-7.8.3\"><span class=\"toc-item-num\">7.8.3&nbsp;&nbsp;</span>Поменять порядок колонок списком - <code>data[col_list]</code></a></span></li></ul></li><li><span><a href=\"#Частоиспользуемые-функции\" data-toc-modified-id=\"Частоиспользуемые-функции-7.9\"><span class=\"toc-item-num\">7.9&nbsp;&nbsp;</span>Частоиспользуемые функции</a></span><ul class=\"toc-item\"><li><span><a href=\"#Вывести-summay-o-данных---data.describe()/data.info()\" data-toc-modified-id=\"Вывести-summay-o-данных---data.describe()/data.info()-7.9.1\"><span class=\"toc-item-num\">7.9.1&nbsp;&nbsp;</span>Вывести summay o данных - <code>data.describe()/data.info()</code></a></span></li><li><span><a href=\"#Получить-индекс-и-название-колонок---data.index/data.columns\" data-toc-modified-id=\"Получить-индекс-и-название-колонок---data.index/data.columns-7.9.2\"><span class=\"toc-item-num\">7.9.2&nbsp;&nbsp;</span>Получить индекс и название колонок - <code>data.index/data.columns</code></a></span></li><li><span><a href=\"#Вывести-типы-данных---data.dtypes\" data-toc-modified-id=\"Вывести-типы-данных---data.dtypes-7.9.3\"><span class=\"toc-item-num\">7.9.3&nbsp;&nbsp;</span>Вывести типы данных - <code>data.dtypes</code></a></span></li><li><span><a href=\"#Изменть-тип-данных---data[col_name].astype()\" data-toc-modified-id=\"Изменть-тип-данных---data[col_name].astype()-7.9.4\"><span class=\"toc-item-num\">7.9.4&nbsp;&nbsp;</span>Изменть тип данных - <code>data[col_name].astype()</code></a></span></li><li><span><a href=\"#Фильтровать-по-типу-данных---data.select_dtypes()\" data-toc-modified-id=\"Фильтровать-по-типу-данных---data.select_dtypes()-7.9.5\"><span class=\"toc-item-num\">7.9.5&nbsp;&nbsp;</span>Фильтровать по типу данных - <code>data.select_dtypes()</code></a></span></li><li><span><a href=\"#Фильтровать-по-названию---'data.filter()'\" data-toc-modified-id=\"Фильтровать-по-названию---'data.filter()'-7.9.6\"><span class=\"toc-item-num\">7.9.6&nbsp;&nbsp;</span>Фильтровать по названию - 'data.filter()'</a></span></li><li><span><a href=\"#Подсчёт-встречаемости---data.value_counts(normalize=True)\" data-toc-modified-id=\"Подсчёт-встречаемости---data.value_counts(normalize=True)-7.9.7\"><span class=\"toc-item-num\">7.9.7&nbsp;&nbsp;</span>Подсчёт встречаемости - <code>data.value_counts(normalize=True)</code></a></span></li><li><span><a href=\"#Сгруппировать-данные---data.groupby()\" data-toc-modified-id=\"Сгруппировать-данные---data.groupby()-7.9.8\"><span class=\"toc-item-num\">7.9.8&nbsp;&nbsp;</span>Сгруппировать данные - <code>data.groupby()</code></a></span></li><li><span><a href=\"#Применить-функцию---data.apply()\" data-toc-modified-id=\"Применить-функцию---data.apply()-7.9.9\"><span class=\"toc-item-num\">7.9.9&nbsp;&nbsp;</span>Применить функцию - <code>data.apply()</code></a></span></li><li><span><a href=\"#Создать-копию-data.copy()\" data-toc-modified-id=\"Создать-копию-data.copy()-7.9.10\"><span class=\"toc-item-num\">7.9.10&nbsp;&nbsp;</span>Создать копию <code>data.copy()</code></a></span></li><li><span><a href=\"#Вывести-уникальные-значения---data[col_name].unique()\" data-toc-modified-id=\"Вывести-уникальные-значения---data[col_name].unique()-7.9.11\"><span class=\"toc-item-num\">7.9.11&nbsp;&nbsp;</span>Вывести уникальные значения - <code>data[col_name].unique()</code></a></span></li><li><span><a href=\"#Заменть-переменные-data.map()\" data-toc-modified-id=\"Заменть-переменные-data.map()-7.9.12\"><span class=\"toc-item-num\">7.9.12&nbsp;&nbsp;</span>Заменть переменные <code>data.map()</code></a></span></li><li><span><a href=\"#Показвать,-подсчитать,-заполнить-или-удалить-пропущенные-значения---data.notna()/data.fillna()/data.dropna()\" data-toc-modified-id=\"Показвать,-подсчитать,-заполнить-или-удалить-пропущенные-значения---data.notna()/data.fillna()/data.dropna()-7.9.13\"><span class=\"toc-item-num\">7.9.13&nbsp;&nbsp;</span>Показвать, подсчитать, заполнить или удалить пропущенные значения - <code>data.notna()/data.fillna()/data.dropna()</code></a></span></li><li><span><a href=\"#Логические-условия\" data-toc-modified-id=\"Логические-условия-7.9.14\"><span class=\"toc-item-num\">7.9.14&nbsp;&nbsp;</span>Логические условия</a></span><ul class=\"toc-item\"><li><span><a href=\"#and---&amp;\" data-toc-modified-id=\"and---&amp;-7.9.14.1\"><span class=\"toc-item-num\">7.9.14.1&nbsp;&nbsp;</span>and - <code>&amp;</code></a></span></li><li><span><a href=\"#or--|\" data-toc-modified-id=\"or--|-7.9.14.2\"><span class=\"toc-item-num\">7.9.14.2&nbsp;&nbsp;</span>or -<code>|</code></a></span></li><li><span><a href=\"#xor---^\" data-toc-modified-id=\"xor---^-7.9.14.3\"><span class=\"toc-item-num\">7.9.14.3&nbsp;&nbsp;</span>xor - <code>^</code></a></span></li><li><span><a href=\"#equal---==\" data-toc-modified-id=\"equal---==-7.9.14.4\"><span class=\"toc-item-num\">7.9.14.4&nbsp;&nbsp;</span>equal - <code>==</code></a></span></li><li><span><a href=\"#not-equal---!=\" data-toc-modified-id=\"not-equal---!=-7.9.14.5\"><span class=\"toc-item-num\">7.9.14.5&nbsp;&nbsp;</span>not equal - <code>!=</code></a></span></li><li><span><a href=\"#data[col_name].isin()\" data-toc-modified-id=\"data[col_name].isin()-7.9.14.6\"><span class=\"toc-item-num\">7.9.14.6&nbsp;&nbsp;</span><code>data[col_name].isin()</code></a></span></li><li><span><a href=\"#data[col_name].str.contains()\" data-toc-modified-id=\"data[col_name].str.contains()-7.9.14.7\"><span class=\"toc-item-num\">7.9.14.7&nbsp;&nbsp;</span><code>data[col_name].str.contains()</code></a></span></li><li><span><a href=\"#Запросы-data.query()\" data-toc-modified-id=\"Запросы-data.query()-7.9.14.8\"><span class=\"toc-item-num\">7.9.14.8&nbsp;&nbsp;</span>Запросы <code>data.query()</code></a></span></li></ul></li><li><span><a href=\"#'data.rename()'\" data-toc-modified-id=\"'data.rename()'-7.9.15\"><span class=\"toc-item-num\">7.9.15&nbsp;&nbsp;</span>'data.rename()'</a></span></li><li><span><a href=\"#'pd.merge'\" data-toc-modified-id=\"'pd.merge'-7.9.16\"><span class=\"toc-item-num\">7.9.16&nbsp;&nbsp;</span>'pd.merge'</a></span></li></ul></li><li><span><a href=\"#Чтение-батчами---pd.read_csv(chunk_size=N)\" data-toc-modified-id=\"Чтение-батчами---pd.read_csv(chunk_size=N)-7.10\"><span class=\"toc-item-num\">7.10&nbsp;&nbsp;</span>Чтение батчами - <code>pd.read_csv(chunk_size=N)</code></a></span></li><li><span><a href=\"#Запись-батчами---chunk.to_csv(mode='a',-header=None)\" data-toc-modified-id=\"Запись-батчами---chunk.to_csv(mode='a',-header=None)-7.11\"><span class=\"toc-item-num\">7.11&nbsp;&nbsp;</span>Запись батчами - <code>chunk.to_csv(mode='a', header=None)</code></a></span></li></ul></li><li><span><a href=\"#Pandasparallel\" data-toc-modified-id=\"Pandasparallel-8\"><span class=\"toc-item-num\">8&nbsp;&nbsp;</span><a href=\"https://github.com/nalepae/pandarallel?ysclid=ldb9qrkk1h261074156\" target=\"_blank\">Pandasparallel</a></a></span></li></ul></div>"
   ]
  },
  {
   "cell_type": "code",
   "execution_count": 1,
   "id": "7e51f73c",
   "metadata": {
    "ExecuteTime": {
     "end_time": "2023-01-25T08:11:33.374860Z",
     "start_time": "2023-01-25T08:11:33.354857Z"
    }
   },
   "outputs": [],
   "source": [
    "import warnings\n",
    "\n",
    "warnings.filterwarnings('ignore')"
   ]
  },
  {
   "cell_type": "markdown",
   "id": "6ade7f06",
   "metadata": {},
   "source": [
    "# Модуль OS\n",
    "\n",
    "Модуль `OS` - это модуль из стандартной библиотеки `Python` (его не нужно устанавливать), он полезен для получения списка файлов, проверки наличия файлов и изменения переменных окружения.\n",
    "\n",
    "## Получить список из файлов в папке - `os.listdir()`\n",
    "## Проверить существует ли файл/путь - `os.path.exists()`\n",
    "## Посмотреть/изменить переменные среды - `os.environ[]`"
   ]
  },
  {
   "cell_type": "code",
   "execution_count": 2,
   "id": "631d1de2",
   "metadata": {
    "ExecuteTime": {
     "end_time": "2023-01-25T08:12:23.183362Z",
     "start_time": "2023-01-25T08:12:23.140968Z"
    }
   },
   "outputs": [
    {
     "data": {
      "text/plain": [
       "['.ipynb_checkpoints',\n",
       " '0-pandas.ipynb',\n",
       " '0-pandas.md',\n",
       " 'output_78_0.png',\n",
       " 'output_79_0.png',\n",
       " 'output_98_1.png']"
      ]
     },
     "execution_count": 2,
     "metadata": {},
     "output_type": "execute_result"
    }
   ],
   "source": [
    "import os\n",
    "\n",
    "os.listdir() # Аналогично %ls или !ls, но возвращает список"
   ]
  },
  {
   "cell_type": "code",
   "execution_count": 3,
   "id": "0647431a",
   "metadata": {
    "ExecuteTime": {
     "end_time": "2023-01-25T08:12:39.349980Z",
     "start_time": "2023-01-25T08:12:39.326984Z"
    }
   },
   "outputs": [
    {
     "data": {
      "text/plain": [
       "['.ipynb_checkpoints',\n",
       " '0-pandas.ipynb',\n",
       " '0-pandas.md',\n",
       " 'output_78_0.png',\n",
       " 'output_79_0.png',\n",
       " 'output_98_1.png']"
      ]
     },
     "execution_count": 3,
     "metadata": {},
     "output_type": "execute_result"
    }
   ],
   "source": [
    "v = os.listdir(\"\")\n",
    "v"
   ]
  },
  {
   "cell_type": "code",
   "execution_count": 4,
   "id": "b4bec44e",
   "metadata": {
    "ExecuteTime": {
     "end_time": "2023-01-25T08:13:34.660301Z",
     "start_time": "2023-01-25T08:13:34.643301Z"
    }
   },
   "outputs": [
    {
     "data": {
      "text/plain": [
       "False"
      ]
     },
     "execution_count": 4,
     "metadata": {},
     "output_type": "execute_result"
    }
   ],
   "source": [
    "os.path.exists('data.csv')"
   ]
  },
  {
   "cell_type": "code",
   "execution_count": 4,
   "id": "8b36104a",
   "metadata": {
    "ExecuteTime": {
     "end_time": "2023-01-25T07:39:07.878678Z",
     "start_time": "2023-01-25T07:39:07.627334Z"
    }
   },
   "outputs": [
    {
     "ename": "AssertionError",
     "evalue": "",
     "output_type": "error",
     "traceback": [
      "\u001b[1;31m---------------------------------------------------------------------------\u001b[0m",
      "\u001b[1;31mAssertionError\u001b[0m                            Traceback (most recent call last)",
      "\u001b[1;32m<ipython-input-4-8ed7c2fcd79c>\u001b[0m in \u001b[0;36m<module>\u001b[1;34m\u001b[0m\n\u001b[1;32m----> 1\u001b[1;33m \u001b[1;32massert\u001b[0m \u001b[0mos\u001b[0m\u001b[1;33m.\u001b[0m\u001b[0mpath\u001b[0m\u001b[1;33m.\u001b[0m\u001b[0mexists\u001b[0m\u001b[1;33m(\u001b[0m\u001b[1;34m'data.csv'\u001b[0m\u001b[1;33m)\u001b[0m\u001b[1;33m\u001b[0m\u001b[1;33m\u001b[0m\u001b[0m\n\u001b[0m",
      "\u001b[1;31mAssertionError\u001b[0m: "
     ]
    }
   ],
   "source": [
    "assert os.path.exists('data.csv')"
   ]
  },
  {
   "cell_type": "markdown",
   "id": "f907a354",
   "metadata": {},
   "source": [
    "# Pandas - для работы с данными\n",
    "\n",
    "[Pandas](https://pandas.pydata.org/) - самая популярная библиотека для работы с данными.\n",
    "\n",
    "Чтобы установить `pandas` и __большинство других библиотек__, используйте команду `!pip install pandas"
   ]
  },
  {
   "cell_type": "markdown",
   "id": "cce153aa",
   "metadata": {},
   "source": [
    "# Загрузите библиотеку, чтобы воспользоваться её функциями \n",
    "\n",
    "## `import pandas as pd`"
   ]
  },
  {
   "cell_type": "code",
   "execution_count": 5,
   "id": "f9f9200c",
   "metadata": {
    "ExecuteTime": {
     "end_time": "2023-01-25T08:15:07.479463Z",
     "start_time": "2023-01-25T08:14:59.583233Z"
    }
   },
   "outputs": [],
   "source": [
    "# pd - это псевдоним (сокращение) для Pandas, он ничего не означает.\n",
    "# но доступ к функциям pandas будет осуществляться через него\n",
    "import pandas as pd # для работы с данными\n",
    "import numpy as np # для математики\n",
    "\n",
    "#!pip install pandas "
   ]
  },
  {
   "cell_type": "markdown",
   "id": "f06b6229",
   "metadata": {
    "ExecuteTime": {
     "end_time": "2023-01-25T04:54:50.212840Z",
     "start_time": "2023-01-25T04:54:50.203309Z"
    }
   },
   "source": [
    "# Cоздать DataFrame вручную - `pd.DataFrame()`"
   ]
  },
  {
   "cell_type": "code",
   "execution_count": 6,
   "id": "e37ddae7",
   "metadata": {
    "ExecuteTime": {
     "end_time": "2023-01-25T08:16:11.290652Z",
     "start_time": "2023-01-25T08:16:11.124457Z"
    }
   },
   "outputs": [],
   "source": [
    "# Пример создания Dataframe вручную\n",
    "data = pd.DataFrame()\n",
    "\n",
    "data['Numericals Int'] = list(range(5))\n",
    "data['Numericals Float'] = np.linspace(0, 1, 5)\n",
    "data['Ordered Categoricals'] = ['F', 'C', 'B', 'A', 'A+']\n",
    "data['Categoricals'] = ['Akerke', 'Ali', 'Alisher', 'Ablay', 'Adilet']\n",
    "data['Broken Numericals Float'] = ['1.5', '1,5', '2', '2', '0']\n",
    "data['Broken Numericals Float'] = ['1.5', '1,5', '2', '2', '0']\n",
    "data['Broken Exponentials'] = ['1E-2', '1e-2', '1E-10', ' 1E-2', '1e2']\n",
    "data['Inconsistent Categoricals'] = ['Kazakh', 'kazakh', ' Kazakh', 'KAZAKH', 'china']\n",
    "data['Missing Data'] = [np.nan, '', '-1', '?', 'N/A']"
   ]
  },
  {
   "cell_type": "markdown",
   "id": "0049a5c1",
   "metadata": {
    "ExecuteTime": {
     "end_time": "2023-01-25T05:14:49.768508Z",
     "start_time": "2023-01-25T05:14:49.726377Z"
    }
   },
   "source": [
    "# Показать DataFrame"
   ]
  },
  {
   "cell_type": "code",
   "execution_count": 8,
   "id": "01a433e4",
   "metadata": {
    "ExecuteTime": {
     "end_time": "2023-01-25T08:16:29.731167Z",
     "start_time": "2023-01-25T08:16:29.699614Z"
    }
   },
   "outputs": [
    {
     "data": {
      "text/html": [
       "<div>\n",
       "<style scoped>\n",
       "    .dataframe tbody tr th:only-of-type {\n",
       "        vertical-align: middle;\n",
       "    }\n",
       "\n",
       "    .dataframe tbody tr th {\n",
       "        vertical-align: top;\n",
       "    }\n",
       "\n",
       "    .dataframe thead th {\n",
       "        text-align: right;\n",
       "    }\n",
       "</style>\n",
       "<table border=\"1\" class=\"dataframe\">\n",
       "  <thead>\n",
       "    <tr style=\"text-align: right;\">\n",
       "      <th></th>\n",
       "      <th>Numericals Int</th>\n",
       "      <th>Numericals Float</th>\n",
       "      <th>Ordered Categoricals</th>\n",
       "      <th>Categoricals</th>\n",
       "      <th>Broken Numericals Float</th>\n",
       "      <th>Broken Exponentials</th>\n",
       "      <th>Inconsistent Categoricals</th>\n",
       "      <th>Missing Data</th>\n",
       "    </tr>\n",
       "  </thead>\n",
       "  <tbody>\n",
       "    <tr>\n",
       "      <th>0</th>\n",
       "      <td>0</td>\n",
       "      <td>0.00</td>\n",
       "      <td>F</td>\n",
       "      <td>Akerke</td>\n",
       "      <td>1.5</td>\n",
       "      <td>1E-2</td>\n",
       "      <td>Kazakh</td>\n",
       "      <td>NaN</td>\n",
       "    </tr>\n",
       "    <tr>\n",
       "      <th>1</th>\n",
       "      <td>1</td>\n",
       "      <td>0.25</td>\n",
       "      <td>C</td>\n",
       "      <td>Ali</td>\n",
       "      <td>1,5</td>\n",
       "      <td>1e-2</td>\n",
       "      <td>kazakh</td>\n",
       "      <td></td>\n",
       "    </tr>\n",
       "    <tr>\n",
       "      <th>2</th>\n",
       "      <td>2</td>\n",
       "      <td>0.50</td>\n",
       "      <td>B</td>\n",
       "      <td>Alisher</td>\n",
       "      <td>2</td>\n",
       "      <td>1E-10</td>\n",
       "      <td>Kazakh</td>\n",
       "      <td>-1</td>\n",
       "    </tr>\n",
       "    <tr>\n",
       "      <th>3</th>\n",
       "      <td>3</td>\n",
       "      <td>0.75</td>\n",
       "      <td>A</td>\n",
       "      <td>Ablay</td>\n",
       "      <td>2</td>\n",
       "      <td>1E-2</td>\n",
       "      <td>KAZAKH</td>\n",
       "      <td>?</td>\n",
       "    </tr>\n",
       "    <tr>\n",
       "      <th>4</th>\n",
       "      <td>4</td>\n",
       "      <td>1.00</td>\n",
       "      <td>A+</td>\n",
       "      <td>Adilet</td>\n",
       "      <td>0</td>\n",
       "      <td>1e2</td>\n",
       "      <td>china</td>\n",
       "      <td>N/A</td>\n",
       "    </tr>\n",
       "  </tbody>\n",
       "</table>\n",
       "</div>"
      ],
      "text/plain": [
       "   Numericals Int  Numericals Float Ordered Categoricals Categoricals  \\\n",
       "0               0              0.00                    F       Akerke   \n",
       "1               1              0.25                    C          Ali   \n",
       "2               2              0.50                    B      Alisher   \n",
       "3               3              0.75                    A        Ablay   \n",
       "4               4              1.00                   A+       Adilet   \n",
       "\n",
       "  Broken Numericals Float Broken Exponentials Inconsistent Categoricals  \\\n",
       "0                     1.5                1E-2                    Kazakh   \n",
       "1                     1,5                1e-2                    kazakh   \n",
       "2                       2               1E-10                    Kazakh   \n",
       "3                       2                1E-2                    KAZAKH   \n",
       "4                       0                 1e2                     china   \n",
       "\n",
       "  Missing Data  \n",
       "0          NaN  \n",
       "1               \n",
       "2           -1  \n",
       "3            ?  \n",
       "4          N/A  "
      ]
     },
     "metadata": {},
     "output_type": "display_data"
    }
   ],
   "source": [
    "data # \n",
    "display(data)"
   ]
  },
  {
   "cell_type": "markdown",
   "id": "ab21ab4c",
   "metadata": {},
   "source": [
    "## Показать первые N строк - `data.head(N)`"
   ]
  },
  {
   "cell_type": "code",
   "execution_count": 9,
   "id": "192bdc0b",
   "metadata": {
    "ExecuteTime": {
     "end_time": "2023-01-25T08:18:29.177579Z",
     "start_time": "2023-01-25T08:18:29.151583Z"
    }
   },
   "outputs": [
    {
     "data": {
      "text/html": [
       "<div>\n",
       "<style scoped>\n",
       "    .dataframe tbody tr th:only-of-type {\n",
       "        vertical-align: middle;\n",
       "    }\n",
       "\n",
       "    .dataframe tbody tr th {\n",
       "        vertical-align: top;\n",
       "    }\n",
       "\n",
       "    .dataframe thead th {\n",
       "        text-align: right;\n",
       "    }\n",
       "</style>\n",
       "<table border=\"1\" class=\"dataframe\">\n",
       "  <thead>\n",
       "    <tr style=\"text-align: right;\">\n",
       "      <th></th>\n",
       "      <th>Numericals Int</th>\n",
       "      <th>Numericals Float</th>\n",
       "      <th>Ordered Categoricals</th>\n",
       "      <th>Categoricals</th>\n",
       "      <th>Broken Numericals Float</th>\n",
       "      <th>Broken Exponentials</th>\n",
       "      <th>Inconsistent Categoricals</th>\n",
       "      <th>Missing Data</th>\n",
       "    </tr>\n",
       "  </thead>\n",
       "  <tbody>\n",
       "    <tr>\n",
       "      <th>0</th>\n",
       "      <td>0</td>\n",
       "      <td>0.00</td>\n",
       "      <td>F</td>\n",
       "      <td>Akerke</td>\n",
       "      <td>1.5</td>\n",
       "      <td>1E-2</td>\n",
       "      <td>Kazakh</td>\n",
       "      <td>NaN</td>\n",
       "    </tr>\n",
       "    <tr>\n",
       "      <th>1</th>\n",
       "      <td>1</td>\n",
       "      <td>0.25</td>\n",
       "      <td>C</td>\n",
       "      <td>Ali</td>\n",
       "      <td>1,5</td>\n",
       "      <td>1e-2</td>\n",
       "      <td>kazakh</td>\n",
       "      <td></td>\n",
       "    </tr>\n",
       "    <tr>\n",
       "      <th>2</th>\n",
       "      <td>2</td>\n",
       "      <td>0.50</td>\n",
       "      <td>B</td>\n",
       "      <td>Alisher</td>\n",
       "      <td>2</td>\n",
       "      <td>1E-10</td>\n",
       "      <td>Kazakh</td>\n",
       "      <td>-1</td>\n",
       "    </tr>\n",
       "  </tbody>\n",
       "</table>\n",
       "</div>"
      ],
      "text/plain": [
       "   Numericals Int  Numericals Float Ordered Categoricals Categoricals  \\\n",
       "0               0              0.00                    F       Akerke   \n",
       "1               1              0.25                    C          Ali   \n",
       "2               2              0.50                    B      Alisher   \n",
       "\n",
       "  Broken Numericals Float Broken Exponentials Inconsistent Categoricals  \\\n",
       "0                     1.5                1E-2                    Kazakh   \n",
       "1                     1,5                1e-2                    kazakh   \n",
       "2                       2               1E-10                    Kazakh   \n",
       "\n",
       "  Missing Data  \n",
       "0          NaN  \n",
       "1               \n",
       "2           -1  "
      ]
     },
     "execution_count": 9,
     "metadata": {},
     "output_type": "execute_result"
    }
   ],
   "source": [
    "data.head(3)"
   ]
  },
  {
   "cell_type": "markdown",
   "id": "10aea47e",
   "metadata": {},
   "source": [
    "## Показать последние N строк - `data.tail(N)`"
   ]
  },
  {
   "cell_type": "code",
   "execution_count": 13,
   "id": "75c04bfa",
   "metadata": {
    "ExecuteTime": {
     "end_time": "2023-01-25T08:19:17.085386Z",
     "start_time": "2023-01-25T08:19:17.058182Z"
    }
   },
   "outputs": [
    {
     "data": {
      "text/html": [
       "<div>\n",
       "<style scoped>\n",
       "    .dataframe tbody tr th:only-of-type {\n",
       "        vertical-align: middle;\n",
       "    }\n",
       "\n",
       "    .dataframe tbody tr th {\n",
       "        vertical-align: top;\n",
       "    }\n",
       "\n",
       "    .dataframe thead th {\n",
       "        text-align: right;\n",
       "    }\n",
       "</style>\n",
       "<table border=\"1\" class=\"dataframe\">\n",
       "  <thead>\n",
       "    <tr style=\"text-align: right;\">\n",
       "      <th></th>\n",
       "      <th>Numericals Int</th>\n",
       "      <th>Numericals Float</th>\n",
       "      <th>Ordered Categoricals</th>\n",
       "      <th>Categoricals</th>\n",
       "      <th>Broken Numericals Float</th>\n",
       "      <th>Broken Exponentials</th>\n",
       "      <th>Inconsistent Categoricals</th>\n",
       "      <th>Missing Data</th>\n",
       "    </tr>\n",
       "  </thead>\n",
       "  <tbody>\n",
       "    <tr>\n",
       "      <th>0</th>\n",
       "      <td>0</td>\n",
       "      <td>0.00</td>\n",
       "      <td>F</td>\n",
       "      <td>Akerke</td>\n",
       "      <td>1.5</td>\n",
       "      <td>1E-2</td>\n",
       "      <td>Kazakh</td>\n",
       "      <td>NaN</td>\n",
       "    </tr>\n",
       "    <tr>\n",
       "      <th>1</th>\n",
       "      <td>1</td>\n",
       "      <td>0.25</td>\n",
       "      <td>C</td>\n",
       "      <td>Ali</td>\n",
       "      <td>1,5</td>\n",
       "      <td>1e-2</td>\n",
       "      <td>kazakh</td>\n",
       "      <td></td>\n",
       "    </tr>\n",
       "    <tr>\n",
       "      <th>2</th>\n",
       "      <td>2</td>\n",
       "      <td>0.50</td>\n",
       "      <td>B</td>\n",
       "      <td>Alisher</td>\n",
       "      <td>2</td>\n",
       "      <td>1E-10</td>\n",
       "      <td>Kazakh</td>\n",
       "      <td>-1</td>\n",
       "    </tr>\n",
       "    <tr>\n",
       "      <th>3</th>\n",
       "      <td>3</td>\n",
       "      <td>0.75</td>\n",
       "      <td>A</td>\n",
       "      <td>Ablay</td>\n",
       "      <td>2</td>\n",
       "      <td>1E-2</td>\n",
       "      <td>KAZAKH</td>\n",
       "      <td>?</td>\n",
       "    </tr>\n",
       "    <tr>\n",
       "      <th>4</th>\n",
       "      <td>4</td>\n",
       "      <td>1.00</td>\n",
       "      <td>A+</td>\n",
       "      <td>Adilet</td>\n",
       "      <td>0</td>\n",
       "      <td>1e2</td>\n",
       "      <td>china</td>\n",
       "      <td>N/A</td>\n",
       "    </tr>\n",
       "  </tbody>\n",
       "</table>\n",
       "</div>"
      ],
      "text/plain": [
       "   Numericals Int  Numericals Float Ordered Categoricals Categoricals  \\\n",
       "0               0              0.00                    F       Akerke   \n",
       "1               1              0.25                    C          Ali   \n",
       "2               2              0.50                    B      Alisher   \n",
       "3               3              0.75                    A        Ablay   \n",
       "4               4              1.00                   A+       Adilet   \n",
       "\n",
       "  Broken Numericals Float Broken Exponentials Inconsistent Categoricals  \\\n",
       "0                     1.5                1E-2                    Kazakh   \n",
       "1                     1,5                1e-2                    kazakh   \n",
       "2                       2               1E-10                    Kazakh   \n",
       "3                       2                1E-2                    KAZAKH   \n",
       "4                       0                 1e2                     china   \n",
       "\n",
       "  Missing Data  \n",
       "0          NaN  \n",
       "1               \n",
       "2           -1  \n",
       "3            ?  \n",
       "4          N/A  "
      ]
     },
     "execution_count": 13,
     "metadata": {},
     "output_type": "execute_result"
    }
   ],
   "source": [
    "data.tail()"
   ]
  },
  {
   "cell_type": "markdown",
   "id": "0340c714",
   "metadata": {},
   "source": [
    "# Сохранить DataFrame в файл - `data.to_csv()/data.to_excel()`\n",
    "\n",
    "Для сохранения DataFrame - воспользуйтесь функциями вида `data.to_csv()`\n",
    "\n",
    "```python\n",
    "# Сохранить с индексом\n",
    "data.to_csv('data.csv')\n",
    "\n",
    "# Сохранить без индексом\n",
    "data.to_csv('data.csv', index=False)\n",
    "```"
   ]
  },
  {
   "cell_type": "code",
   "execution_count": 14,
   "id": "6be3b8a6",
   "metadata": {
    "ExecuteTime": {
     "end_time": "2023-01-25T08:22:53.684993Z",
     "start_time": "2023-01-25T08:22:50.616417Z"
    }
   },
   "outputs": [],
   "source": [
    "data.index.name = 'Index'\n",
    "\n",
    "data.to_excel('data.xlsx')\n",
    "\n",
    "data.to_csv('data.csv') # data.to_csv('data.csv', index=False)\n",
    "data.to_csv('data.tsv', sep = '\\t') # <sep>\n",
    "\n",
    "data.to_parquet('data.pq')\n",
    "\n",
    "data.to_json('data.json') # lines = True"
   ]
  },
  {
   "cell_type": "markdown",
   "id": "fca305b8",
   "metadata": {
    "ExecuteTime": {
     "end_time": "2023-01-25T04:56:50.453873Z",
     "start_time": "2023-01-25T04:56:50.444537Z"
    }
   },
   "source": [
    "# Загрузить Dataframe из файла - `pd.read_csv()/pd.read_excel()`"
   ]
  },
  {
   "cell_type": "markdown",
   "id": "74035be1",
   "metadata": {},
   "source": [
    "## Exel"
   ]
  },
  {
   "cell_type": "code",
   "execution_count": 11,
   "id": "07dd932b",
   "metadata": {
    "ExecuteTime": {
     "end_time": "2023-01-25T07:39:12.196063Z",
     "start_time": "2023-01-25T07:39:11.610182Z"
    }
   },
   "outputs": [
    {
     "data": {
      "text/html": [
       "<div>\n",
       "<style scoped>\n",
       "    .dataframe tbody tr th:only-of-type {\n",
       "        vertical-align: middle;\n",
       "    }\n",
       "\n",
       "    .dataframe tbody tr th {\n",
       "        vertical-align: top;\n",
       "    }\n",
       "\n",
       "    .dataframe thead th {\n",
       "        text-align: right;\n",
       "    }\n",
       "</style>\n",
       "<table border=\"1\" class=\"dataframe\">\n",
       "  <thead>\n",
       "    <tr style=\"text-align: right;\">\n",
       "      <th></th>\n",
       "      <th>Numericals Int</th>\n",
       "      <th>Numericals Float</th>\n",
       "      <th>Ordered Categoricals</th>\n",
       "      <th>Categoricals</th>\n",
       "      <th>Broken Numericals Float</th>\n",
       "      <th>Broken Exponentials</th>\n",
       "      <th>Inconsistent Categoricals</th>\n",
       "      <th>Missing Data</th>\n",
       "    </tr>\n",
       "    <tr>\n",
       "      <th>Index</th>\n",
       "      <th></th>\n",
       "      <th></th>\n",
       "      <th></th>\n",
       "      <th></th>\n",
       "      <th></th>\n",
       "      <th></th>\n",
       "      <th></th>\n",
       "      <th></th>\n",
       "    </tr>\n",
       "  </thead>\n",
       "  <tbody>\n",
       "    <tr>\n",
       "      <th>0</th>\n",
       "      <td>0</td>\n",
       "      <td>0.00</td>\n",
       "      <td>F</td>\n",
       "      <td>Akerke</td>\n",
       "      <td>1.5</td>\n",
       "      <td>1.000000e-02</td>\n",
       "      <td>Kazakh</td>\n",
       "      <td>NaN</td>\n",
       "    </tr>\n",
       "    <tr>\n",
       "      <th>1</th>\n",
       "      <td>1</td>\n",
       "      <td>0.25</td>\n",
       "      <td>C</td>\n",
       "      <td>Ali</td>\n",
       "      <td>1,5</td>\n",
       "      <td>1.000000e-02</td>\n",
       "      <td>kazakh</td>\n",
       "      <td>NaN</td>\n",
       "    </tr>\n",
       "    <tr>\n",
       "      <th>2</th>\n",
       "      <td>2</td>\n",
       "      <td>0.50</td>\n",
       "      <td>B</td>\n",
       "      <td>Alisher</td>\n",
       "      <td>2</td>\n",
       "      <td>1.000000e-10</td>\n",
       "      <td>Kazakh</td>\n",
       "      <td>-1</td>\n",
       "    </tr>\n",
       "    <tr>\n",
       "      <th>3</th>\n",
       "      <td>3</td>\n",
       "      <td>0.75</td>\n",
       "      <td>A</td>\n",
       "      <td>Ablay</td>\n",
       "      <td>2</td>\n",
       "      <td>1.000000e-02</td>\n",
       "      <td>KAZAKH</td>\n",
       "      <td>?</td>\n",
       "    </tr>\n",
       "    <tr>\n",
       "      <th>4</th>\n",
       "      <td>4</td>\n",
       "      <td>1.00</td>\n",
       "      <td>A+</td>\n",
       "      <td>Adilet</td>\n",
       "      <td>0</td>\n",
       "      <td>1.000000e+02</td>\n",
       "      <td>china</td>\n",
       "      <td>NaN</td>\n",
       "    </tr>\n",
       "  </tbody>\n",
       "</table>\n",
       "</div>"
      ],
      "text/plain": [
       "       Numericals Int  Numericals Float Ordered Categoricals Categoricals  \\\n",
       "Index                                                                       \n",
       "0                   0              0.00                    F       Akerke   \n",
       "1                   1              0.25                    C          Ali   \n",
       "2                   2              0.50                    B      Alisher   \n",
       "3                   3              0.75                    A        Ablay   \n",
       "4                   4              1.00                   A+       Adilet   \n",
       "\n",
       "      Broken Numericals Float  Broken Exponentials Inconsistent Categoricals  \\\n",
       "Index                                                                          \n",
       "0                         1.5         1.000000e-02                    Kazakh   \n",
       "1                         1,5         1.000000e-02                    kazakh   \n",
       "2                           2         1.000000e-10                    Kazakh   \n",
       "3                           2         1.000000e-02                    KAZAKH   \n",
       "4                           0         1.000000e+02                     china   \n",
       "\n",
       "      Missing Data  \n",
       "Index               \n",
       "0              NaN  \n",
       "1              NaN  \n",
       "2               -1  \n",
       "3                ?  \n",
       "4              NaN  "
      ]
     },
     "execution_count": 11,
     "metadata": {},
     "output_type": "execute_result"
    }
   ],
   "source": [
    "pd.read_excel('data.xlsx', index_col='Index') # sheet_name=0"
   ]
  },
  {
   "cell_type": "markdown",
   "id": "2486a085",
   "metadata": {},
   "source": [
    "### Загрузить определенные данные"
   ]
  },
  {
   "cell_type": "code",
   "execution_count": 15,
   "id": "22457659",
   "metadata": {
    "ExecuteTime": {
     "end_time": "2023-01-25T08:25:17.357536Z",
     "start_time": "2023-01-25T08:25:14.347532Z"
    }
   },
   "outputs": [
    {
     "data": {
      "text/html": [
       "<div>\n",
       "<style scoped>\n",
       "    .dataframe tbody tr th:only-of-type {\n",
       "        vertical-align: middle;\n",
       "    }\n",
       "\n",
       "    .dataframe tbody tr th {\n",
       "        vertical-align: top;\n",
       "    }\n",
       "\n",
       "    .dataframe thead th {\n",
       "        text-align: right;\n",
       "    }\n",
       "</style>\n",
       "<table border=\"1\" class=\"dataframe\">\n",
       "  <thead>\n",
       "    <tr style=\"text-align: right;\">\n",
       "      <th></th>\n",
       "      <th>Numericals Int</th>\n",
       "      <th>Numericals Float</th>\n",
       "    </tr>\n",
       "  </thead>\n",
       "  <tbody>\n",
       "    <tr>\n",
       "      <th>0</th>\n",
       "      <td>0</td>\n",
       "      <td>0.00</td>\n",
       "    </tr>\n",
       "    <tr>\n",
       "      <th>1</th>\n",
       "      <td>1</td>\n",
       "      <td>0.25</td>\n",
       "    </tr>\n",
       "  </tbody>\n",
       "</table>\n",
       "</div>"
      ],
      "text/plain": [
       "   Numericals Int  Numericals Float\n",
       "0               0              0.00\n",
       "1               1              0.25"
      ]
     },
     "execution_count": 15,
     "metadata": {},
     "output_type": "execute_result"
    }
   ],
   "source": [
    "pd.read_excel('data.xlsx', usecols=['Numericals Int', 'Numericals Float'], nrows=2)"
   ]
  },
  {
   "cell_type": "markdown",
   "id": "f0f6b910",
   "metadata": {},
   "source": [
    "## CSV"
   ]
  },
  {
   "cell_type": "code",
   "execution_count": 13,
   "id": "339a2d62",
   "metadata": {
    "ExecuteTime": {
     "end_time": "2023-01-25T07:39:12.810575Z",
     "start_time": "2023-01-25T07:39:12.782294Z"
    }
   },
   "outputs": [
    {
     "data": {
      "text/html": [
       "<div>\n",
       "<style scoped>\n",
       "    .dataframe tbody tr th:only-of-type {\n",
       "        vertical-align: middle;\n",
       "    }\n",
       "\n",
       "    .dataframe tbody tr th {\n",
       "        vertical-align: top;\n",
       "    }\n",
       "\n",
       "    .dataframe thead th {\n",
       "        text-align: right;\n",
       "    }\n",
       "</style>\n",
       "<table border=\"1\" class=\"dataframe\">\n",
       "  <thead>\n",
       "    <tr style=\"text-align: right;\">\n",
       "      <th></th>\n",
       "      <th>Numericals Int</th>\n",
       "      <th>Numericals Float</th>\n",
       "      <th>Ordered Categoricals</th>\n",
       "      <th>Categoricals</th>\n",
       "      <th>Broken Numericals Float</th>\n",
       "      <th>Broken Exponentials</th>\n",
       "      <th>Inconsistent Categoricals</th>\n",
       "      <th>Missing Data</th>\n",
       "    </tr>\n",
       "    <tr>\n",
       "      <th>Index</th>\n",
       "      <th></th>\n",
       "      <th></th>\n",
       "      <th></th>\n",
       "      <th></th>\n",
       "      <th></th>\n",
       "      <th></th>\n",
       "      <th></th>\n",
       "      <th></th>\n",
       "    </tr>\n",
       "  </thead>\n",
       "  <tbody>\n",
       "    <tr>\n",
       "      <th>0</th>\n",
       "      <td>0</td>\n",
       "      <td>0.00</td>\n",
       "      <td>F</td>\n",
       "      <td>Akerke</td>\n",
       "      <td>1.5</td>\n",
       "      <td>1.000000e-02</td>\n",
       "      <td>Kazakh</td>\n",
       "      <td>NaN</td>\n",
       "    </tr>\n",
       "    <tr>\n",
       "      <th>1</th>\n",
       "      <td>1</td>\n",
       "      <td>0.25</td>\n",
       "      <td>C</td>\n",
       "      <td>Ali</td>\n",
       "      <td>1,5</td>\n",
       "      <td>1.000000e-02</td>\n",
       "      <td>kazakh</td>\n",
       "      <td>NaN</td>\n",
       "    </tr>\n",
       "    <tr>\n",
       "      <th>2</th>\n",
       "      <td>2</td>\n",
       "      <td>0.50</td>\n",
       "      <td>B</td>\n",
       "      <td>Alisher</td>\n",
       "      <td>2</td>\n",
       "      <td>1.000000e-10</td>\n",
       "      <td>Kazakh</td>\n",
       "      <td>-1</td>\n",
       "    </tr>\n",
       "    <tr>\n",
       "      <th>3</th>\n",
       "      <td>3</td>\n",
       "      <td>0.75</td>\n",
       "      <td>A</td>\n",
       "      <td>Ablay</td>\n",
       "      <td>2</td>\n",
       "      <td>1.000000e-02</td>\n",
       "      <td>KAZAKH</td>\n",
       "      <td>?</td>\n",
       "    </tr>\n",
       "    <tr>\n",
       "      <th>4</th>\n",
       "      <td>4</td>\n",
       "      <td>1.00</td>\n",
       "      <td>A+</td>\n",
       "      <td>Adilet</td>\n",
       "      <td>0</td>\n",
       "      <td>1.000000e+02</td>\n",
       "      <td>china</td>\n",
       "      <td>NaN</td>\n",
       "    </tr>\n",
       "  </tbody>\n",
       "</table>\n",
       "</div>"
      ],
      "text/plain": [
       "       Numericals Int  Numericals Float Ordered Categoricals Categoricals  \\\n",
       "Index                                                                       \n",
       "0                   0              0.00                    F       Akerke   \n",
       "1                   1              0.25                    C          Ali   \n",
       "2                   2              0.50                    B      Alisher   \n",
       "3                   3              0.75                    A        Ablay   \n",
       "4                   4              1.00                   A+       Adilet   \n",
       "\n",
       "      Broken Numericals Float  Broken Exponentials Inconsistent Categoricals  \\\n",
       "Index                                                                          \n",
       "0                         1.5         1.000000e-02                    Kazakh   \n",
       "1                         1,5         1.000000e-02                    kazakh   \n",
       "2                           2         1.000000e-10                    Kazakh   \n",
       "3                           2         1.000000e-02                    KAZAKH   \n",
       "4                           0         1.000000e+02                     china   \n",
       "\n",
       "      Missing Data  \n",
       "Index               \n",
       "0              NaN  \n",
       "1              NaN  \n",
       "2               -1  \n",
       "3                ?  \n",
       "4              NaN  "
      ]
     },
     "execution_count": 13,
     "metadata": {},
     "output_type": "execute_result"
    }
   ],
   "source": [
    "pd.read_csv('data.csv', index_col='Index')"
   ]
  },
  {
   "cell_type": "markdown",
   "id": "04871b3f",
   "metadata": {},
   "source": [
    "## TSV"
   ]
  },
  {
   "cell_type": "code",
   "execution_count": 14,
   "id": "eb52ef3e",
   "metadata": {
    "ExecuteTime": {
     "end_time": "2023-01-25T07:39:13.300421Z",
     "start_time": "2023-01-25T07:39:13.252269Z"
    }
   },
   "outputs": [
    {
     "data": {
      "text/html": [
       "<div>\n",
       "<style scoped>\n",
       "    .dataframe tbody tr th:only-of-type {\n",
       "        vertical-align: middle;\n",
       "    }\n",
       "\n",
       "    .dataframe tbody tr th {\n",
       "        vertical-align: top;\n",
       "    }\n",
       "\n",
       "    .dataframe thead th {\n",
       "        text-align: right;\n",
       "    }\n",
       "</style>\n",
       "<table border=\"1\" class=\"dataframe\">\n",
       "  <thead>\n",
       "    <tr style=\"text-align: right;\">\n",
       "      <th></th>\n",
       "      <th>Numericals Int</th>\n",
       "      <th>Numericals Float</th>\n",
       "      <th>Ordered Categoricals</th>\n",
       "      <th>Categoricals</th>\n",
       "      <th>Broken Numericals Float</th>\n",
       "      <th>Broken Exponentials</th>\n",
       "      <th>Inconsistent Categoricals</th>\n",
       "      <th>Missing Data</th>\n",
       "    </tr>\n",
       "    <tr>\n",
       "      <th>Index</th>\n",
       "      <th></th>\n",
       "      <th></th>\n",
       "      <th></th>\n",
       "      <th></th>\n",
       "      <th></th>\n",
       "      <th></th>\n",
       "      <th></th>\n",
       "      <th></th>\n",
       "    </tr>\n",
       "  </thead>\n",
       "  <tbody>\n",
       "    <tr>\n",
       "      <th>0</th>\n",
       "      <td>0</td>\n",
       "      <td>0.00</td>\n",
       "      <td>F</td>\n",
       "      <td>Akerke</td>\n",
       "      <td>1.5</td>\n",
       "      <td>1.000000e-02</td>\n",
       "      <td>Kazakh</td>\n",
       "      <td>NaN</td>\n",
       "    </tr>\n",
       "    <tr>\n",
       "      <th>1</th>\n",
       "      <td>1</td>\n",
       "      <td>0.25</td>\n",
       "      <td>C</td>\n",
       "      <td>Ali</td>\n",
       "      <td>1,5</td>\n",
       "      <td>1.000000e-02</td>\n",
       "      <td>kazakh</td>\n",
       "      <td>NaN</td>\n",
       "    </tr>\n",
       "    <tr>\n",
       "      <th>2</th>\n",
       "      <td>2</td>\n",
       "      <td>0.50</td>\n",
       "      <td>B</td>\n",
       "      <td>Alisher</td>\n",
       "      <td>2</td>\n",
       "      <td>1.000000e-10</td>\n",
       "      <td>Kazakh</td>\n",
       "      <td>-1</td>\n",
       "    </tr>\n",
       "    <tr>\n",
       "      <th>3</th>\n",
       "      <td>3</td>\n",
       "      <td>0.75</td>\n",
       "      <td>A</td>\n",
       "      <td>Ablay</td>\n",
       "      <td>2</td>\n",
       "      <td>1.000000e-02</td>\n",
       "      <td>KAZAKH</td>\n",
       "      <td>?</td>\n",
       "    </tr>\n",
       "    <tr>\n",
       "      <th>4</th>\n",
       "      <td>4</td>\n",
       "      <td>1.00</td>\n",
       "      <td>A+</td>\n",
       "      <td>Adilet</td>\n",
       "      <td>0</td>\n",
       "      <td>1.000000e+02</td>\n",
       "      <td>china</td>\n",
       "      <td>NaN</td>\n",
       "    </tr>\n",
       "  </tbody>\n",
       "</table>\n",
       "</div>"
      ],
      "text/plain": [
       "       Numericals Int  Numericals Float Ordered Categoricals Categoricals  \\\n",
       "Index                                                                       \n",
       "0                   0              0.00                    F       Akerke   \n",
       "1                   1              0.25                    C          Ali   \n",
       "2                   2              0.50                    B      Alisher   \n",
       "3                   3              0.75                    A        Ablay   \n",
       "4                   4              1.00                   A+       Adilet   \n",
       "\n",
       "      Broken Numericals Float  Broken Exponentials Inconsistent Categoricals  \\\n",
       "Index                                                                          \n",
       "0                         1.5         1.000000e-02                    Kazakh   \n",
       "1                         1,5         1.000000e-02                    kazakh   \n",
       "2                           2         1.000000e-10                    Kazakh   \n",
       "3                           2         1.000000e-02                    KAZAKH   \n",
       "4                           0         1.000000e+02                     china   \n",
       "\n",
       "      Missing Data  \n",
       "Index               \n",
       "0              NaN  \n",
       "1              NaN  \n",
       "2               -1  \n",
       "3                ?  \n",
       "4              NaN  "
      ]
     },
     "execution_count": 14,
     "metadata": {},
     "output_type": "execute_result"
    }
   ],
   "source": [
    "pd.read_csv('data.tsv', sep = '\\t', index_col='Index')"
   ]
  },
  {
   "cell_type": "markdown",
   "id": "b1e1f0a2",
   "metadata": {},
   "source": [
    "## Parquet"
   ]
  },
  {
   "cell_type": "code",
   "execution_count": 15,
   "id": "c073192d",
   "metadata": {
    "ExecuteTime": {
     "end_time": "2023-01-25T07:39:13.853700Z",
     "start_time": "2023-01-25T07:39:13.753410Z"
    }
   },
   "outputs": [
    {
     "data": {
      "text/html": [
       "<div>\n",
       "<style scoped>\n",
       "    .dataframe tbody tr th:only-of-type {\n",
       "        vertical-align: middle;\n",
       "    }\n",
       "\n",
       "    .dataframe tbody tr th {\n",
       "        vertical-align: top;\n",
       "    }\n",
       "\n",
       "    .dataframe thead th {\n",
       "        text-align: right;\n",
       "    }\n",
       "</style>\n",
       "<table border=\"1\" class=\"dataframe\">\n",
       "  <thead>\n",
       "    <tr style=\"text-align: right;\">\n",
       "      <th></th>\n",
       "      <th>Numericals Int</th>\n",
       "      <th>Numericals Float</th>\n",
       "      <th>Ordered Categoricals</th>\n",
       "      <th>Categoricals</th>\n",
       "      <th>Broken Numericals Float</th>\n",
       "      <th>Broken Exponentials</th>\n",
       "      <th>Inconsistent Categoricals</th>\n",
       "      <th>Missing Data</th>\n",
       "    </tr>\n",
       "    <tr>\n",
       "      <th>Index</th>\n",
       "      <th></th>\n",
       "      <th></th>\n",
       "      <th></th>\n",
       "      <th></th>\n",
       "      <th></th>\n",
       "      <th></th>\n",
       "      <th></th>\n",
       "      <th></th>\n",
       "    </tr>\n",
       "  </thead>\n",
       "  <tbody>\n",
       "    <tr>\n",
       "      <th>0</th>\n",
       "      <td>0</td>\n",
       "      <td>0.00</td>\n",
       "      <td>F</td>\n",
       "      <td>Akerke</td>\n",
       "      <td>1.5</td>\n",
       "      <td>1E-2</td>\n",
       "      <td>Kazakh</td>\n",
       "      <td>None</td>\n",
       "    </tr>\n",
       "    <tr>\n",
       "      <th>1</th>\n",
       "      <td>1</td>\n",
       "      <td>0.25</td>\n",
       "      <td>C</td>\n",
       "      <td>Ali</td>\n",
       "      <td>1,5</td>\n",
       "      <td>1e-2</td>\n",
       "      <td>kazakh</td>\n",
       "      <td></td>\n",
       "    </tr>\n",
       "    <tr>\n",
       "      <th>2</th>\n",
       "      <td>2</td>\n",
       "      <td>0.50</td>\n",
       "      <td>B</td>\n",
       "      <td>Alisher</td>\n",
       "      <td>2</td>\n",
       "      <td>1E-10</td>\n",
       "      <td>Kazakh</td>\n",
       "      <td>-1</td>\n",
       "    </tr>\n",
       "    <tr>\n",
       "      <th>3</th>\n",
       "      <td>3</td>\n",
       "      <td>0.75</td>\n",
       "      <td>A</td>\n",
       "      <td>Ablay</td>\n",
       "      <td>2</td>\n",
       "      <td>1E-2</td>\n",
       "      <td>KAZAKH</td>\n",
       "      <td>?</td>\n",
       "    </tr>\n",
       "    <tr>\n",
       "      <th>4</th>\n",
       "      <td>4</td>\n",
       "      <td>1.00</td>\n",
       "      <td>A+</td>\n",
       "      <td>Adilet</td>\n",
       "      <td>0</td>\n",
       "      <td>1e2</td>\n",
       "      <td>china</td>\n",
       "      <td>N/A</td>\n",
       "    </tr>\n",
       "  </tbody>\n",
       "</table>\n",
       "</div>"
      ],
      "text/plain": [
       "       Numericals Int  Numericals Float Ordered Categoricals Categoricals  \\\n",
       "Index                                                                       \n",
       "0                   0              0.00                    F       Akerke   \n",
       "1                   1              0.25                    C          Ali   \n",
       "2                   2              0.50                    B      Alisher   \n",
       "3                   3              0.75                    A        Ablay   \n",
       "4                   4              1.00                   A+       Adilet   \n",
       "\n",
       "      Broken Numericals Float Broken Exponentials Inconsistent Categoricals  \\\n",
       "Index                                                                         \n",
       "0                         1.5                1E-2                    Kazakh   \n",
       "1                         1,5                1e-2                    kazakh   \n",
       "2                           2               1E-10                    Kazakh   \n",
       "3                           2                1E-2                    KAZAKH   \n",
       "4                           0                 1e2                     china   \n",
       "\n",
       "      Missing Data  \n",
       "Index               \n",
       "0             None  \n",
       "1                   \n",
       "2               -1  \n",
       "3                ?  \n",
       "4              N/A  "
      ]
     },
     "execution_count": 15,
     "metadata": {},
     "output_type": "execute_result"
    }
   ],
   "source": [
    "pd.read_parquet('data.pq')"
   ]
  },
  {
   "cell_type": "markdown",
   "id": "e79d6f91",
   "metadata": {},
   "source": [
    "## Json"
   ]
  },
  {
   "cell_type": "code",
   "execution_count": 16,
   "id": "81992ee9",
   "metadata": {
    "ExecuteTime": {
     "end_time": "2023-01-25T07:39:14.286673Z",
     "start_time": "2023-01-25T07:39:14.216814Z"
    }
   },
   "outputs": [
    {
     "data": {
      "text/html": [
       "<div>\n",
       "<style scoped>\n",
       "    .dataframe tbody tr th:only-of-type {\n",
       "        vertical-align: middle;\n",
       "    }\n",
       "\n",
       "    .dataframe tbody tr th {\n",
       "        vertical-align: top;\n",
       "    }\n",
       "\n",
       "    .dataframe thead th {\n",
       "        text-align: right;\n",
       "    }\n",
       "</style>\n",
       "<table border=\"1\" class=\"dataframe\">\n",
       "  <thead>\n",
       "    <tr style=\"text-align: right;\">\n",
       "      <th></th>\n",
       "      <th>Numericals Int</th>\n",
       "      <th>Numericals Float</th>\n",
       "      <th>Ordered Categoricals</th>\n",
       "      <th>Categoricals</th>\n",
       "      <th>Broken Numericals Float</th>\n",
       "      <th>Broken Exponentials</th>\n",
       "      <th>Inconsistent Categoricals</th>\n",
       "      <th>Missing Data</th>\n",
       "    </tr>\n",
       "  </thead>\n",
       "  <tbody>\n",
       "    <tr>\n",
       "      <th>0</th>\n",
       "      <td>0</td>\n",
       "      <td>0.00</td>\n",
       "      <td>F</td>\n",
       "      <td>Akerke</td>\n",
       "      <td>1.5</td>\n",
       "      <td>1.000000e-02</td>\n",
       "      <td>Kazakh</td>\n",
       "      <td>None</td>\n",
       "    </tr>\n",
       "    <tr>\n",
       "      <th>1</th>\n",
       "      <td>1</td>\n",
       "      <td>0.25</td>\n",
       "      <td>C</td>\n",
       "      <td>Ali</td>\n",
       "      <td>1,5</td>\n",
       "      <td>1.000000e-02</td>\n",
       "      <td>kazakh</td>\n",
       "      <td></td>\n",
       "    </tr>\n",
       "    <tr>\n",
       "      <th>2</th>\n",
       "      <td>2</td>\n",
       "      <td>0.50</td>\n",
       "      <td>B</td>\n",
       "      <td>Alisher</td>\n",
       "      <td>2</td>\n",
       "      <td>1.000000e-10</td>\n",
       "      <td>Kazakh</td>\n",
       "      <td>-1</td>\n",
       "    </tr>\n",
       "    <tr>\n",
       "      <th>3</th>\n",
       "      <td>3</td>\n",
       "      <td>0.75</td>\n",
       "      <td>A</td>\n",
       "      <td>Ablay</td>\n",
       "      <td>2</td>\n",
       "      <td>1.000000e-02</td>\n",
       "      <td>KAZAKH</td>\n",
       "      <td>?</td>\n",
       "    </tr>\n",
       "    <tr>\n",
       "      <th>4</th>\n",
       "      <td>4</td>\n",
       "      <td>1.00</td>\n",
       "      <td>A+</td>\n",
       "      <td>Adilet</td>\n",
       "      <td>0</td>\n",
       "      <td>1.000000e+02</td>\n",
       "      <td>china</td>\n",
       "      <td>N/A</td>\n",
       "    </tr>\n",
       "  </tbody>\n",
       "</table>\n",
       "</div>"
      ],
      "text/plain": [
       "   Numericals Int  Numericals Float Ordered Categoricals Categoricals  \\\n",
       "0               0              0.00                    F       Akerke   \n",
       "1               1              0.25                    C          Ali   \n",
       "2               2              0.50                    B      Alisher   \n",
       "3               3              0.75                    A        Ablay   \n",
       "4               4              1.00                   A+       Adilet   \n",
       "\n",
       "  Broken Numericals Float  Broken Exponentials Inconsistent Categoricals  \\\n",
       "0                     1.5         1.000000e-02                    Kazakh   \n",
       "1                     1,5         1.000000e-02                    kazakh   \n",
       "2                       2         1.000000e-10                    Kazakh   \n",
       "3                       2         1.000000e-02                    KAZAKH   \n",
       "4                       0         1.000000e+02                     china   \n",
       "\n",
       "  Missing Data  \n",
       "0         None  \n",
       "1               \n",
       "2           -1  \n",
       "3            ?  \n",
       "4          N/A  "
      ]
     },
     "execution_count": 16,
     "metadata": {},
     "output_type": "execute_result"
    }
   ],
   "source": [
    "pd.read_json('data.json') # lines=True"
   ]
  },
  {
   "cell_type": "markdown",
   "id": "d35959bb",
   "metadata": {},
   "source": [
    "## Указать \"код\" пропущенных значений при чтении"
   ]
  },
  {
   "cell_type": "code",
   "execution_count": 17,
   "id": "a79fdafd",
   "metadata": {
    "ExecuteTime": {
     "end_time": "2023-01-25T07:39:14.759060Z",
     "start_time": "2023-01-25T07:39:14.718113Z"
    }
   },
   "outputs": [
    {
     "data": {
      "text/html": [
       "<div>\n",
       "<style scoped>\n",
       "    .dataframe tbody tr th:only-of-type {\n",
       "        vertical-align: middle;\n",
       "    }\n",
       "\n",
       "    .dataframe tbody tr th {\n",
       "        vertical-align: top;\n",
       "    }\n",
       "\n",
       "    .dataframe thead th {\n",
       "        text-align: right;\n",
       "    }\n",
       "</style>\n",
       "<table border=\"1\" class=\"dataframe\">\n",
       "  <thead>\n",
       "    <tr style=\"text-align: right;\">\n",
       "      <th></th>\n",
       "      <th>Index</th>\n",
       "      <th>Numericals Int</th>\n",
       "      <th>Numericals Float</th>\n",
       "      <th>Ordered Categoricals</th>\n",
       "      <th>Categoricals</th>\n",
       "      <th>Broken Numericals Float</th>\n",
       "      <th>Broken Exponentials</th>\n",
       "      <th>Inconsistent Categoricals</th>\n",
       "      <th>Missing Data</th>\n",
       "    </tr>\n",
       "  </thead>\n",
       "  <tbody>\n",
       "    <tr>\n",
       "      <th>0</th>\n",
       "      <td>0</td>\n",
       "      <td>0</td>\n",
       "      <td>0.00</td>\n",
       "      <td>F</td>\n",
       "      <td>Akerke</td>\n",
       "      <td>1.5</td>\n",
       "      <td>1.000000e-02</td>\n",
       "      <td>Kazakh</td>\n",
       "      <td>NaN</td>\n",
       "    </tr>\n",
       "    <tr>\n",
       "      <th>1</th>\n",
       "      <td>1</td>\n",
       "      <td>1</td>\n",
       "      <td>0.25</td>\n",
       "      <td>C</td>\n",
       "      <td>Ali</td>\n",
       "      <td>1,5</td>\n",
       "      <td>1.000000e-02</td>\n",
       "      <td>kazakh</td>\n",
       "      <td>NaN</td>\n",
       "    </tr>\n",
       "    <tr>\n",
       "      <th>2</th>\n",
       "      <td>2</td>\n",
       "      <td>2</td>\n",
       "      <td>0.50</td>\n",
       "      <td>B</td>\n",
       "      <td>Alisher</td>\n",
       "      <td>2</td>\n",
       "      <td>1.000000e-10</td>\n",
       "      <td>Kazakh</td>\n",
       "      <td>NaN</td>\n",
       "    </tr>\n",
       "    <tr>\n",
       "      <th>3</th>\n",
       "      <td>3</td>\n",
       "      <td>3</td>\n",
       "      <td>0.75</td>\n",
       "      <td>A</td>\n",
       "      <td>Ablay</td>\n",
       "      <td>2</td>\n",
       "      <td>1.000000e-02</td>\n",
       "      <td>KAZAKH</td>\n",
       "      <td>NaN</td>\n",
       "    </tr>\n",
       "    <tr>\n",
       "      <th>4</th>\n",
       "      <td>4</td>\n",
       "      <td>4</td>\n",
       "      <td>1.00</td>\n",
       "      <td>A+</td>\n",
       "      <td>Adilet</td>\n",
       "      <td>0</td>\n",
       "      <td>1.000000e+02</td>\n",
       "      <td>china</td>\n",
       "      <td>NaN</td>\n",
       "    </tr>\n",
       "  </tbody>\n",
       "</table>\n",
       "</div>"
      ],
      "text/plain": [
       "   Index  Numericals Int  Numericals Float Ordered Categoricals Categoricals  \\\n",
       "0      0               0              0.00                    F       Akerke   \n",
       "1      1               1              0.25                    C          Ali   \n",
       "2      2               2              0.50                    B      Alisher   \n",
       "3      3               3              0.75                    A        Ablay   \n",
       "4      4               4              1.00                   A+       Adilet   \n",
       "\n",
       "  Broken Numericals Float  Broken Exponentials Inconsistent Categoricals  \\\n",
       "0                     1.5         1.000000e-02                    Kazakh   \n",
       "1                     1,5         1.000000e-02                    kazakh   \n",
       "2                       2         1.000000e-10                    Kazakh   \n",
       "3                       2         1.000000e-02                    KAZAKH   \n",
       "4                       0         1.000000e+02                     china   \n",
       "\n",
       "   Missing Data  \n",
       "0           NaN  \n",
       "1           NaN  \n",
       "2           NaN  \n",
       "3           NaN  \n",
       "4           NaN  "
      ]
     },
     "execution_count": 17,
     "metadata": {},
     "output_type": "execute_result"
    }
   ],
   "source": [
    "data = pd.read_csv('data.csv', na_values=['N/A', np.nan, '', '-1', '-', '?'])\n",
    "data"
   ]
  },
  {
   "cell_type": "markdown",
   "id": "16d6c5c0",
   "metadata": {},
   "source": [
    "## Удалить колоноку - `data.drop(col_name, axis=1)`"
   ]
  },
  {
   "cell_type": "code",
   "execution_count": 16,
   "id": "de84e7fc",
   "metadata": {
    "ExecuteTime": {
     "end_time": "2023-01-25T08:28:30.608124Z",
     "start_time": "2023-01-25T08:28:30.508056Z"
    }
   },
   "outputs": [
    {
     "data": {
      "text/html": [
       "<div>\n",
       "<style scoped>\n",
       "    .dataframe tbody tr th:only-of-type {\n",
       "        vertical-align: middle;\n",
       "    }\n",
       "\n",
       "    .dataframe tbody tr th {\n",
       "        vertical-align: top;\n",
       "    }\n",
       "\n",
       "    .dataframe thead th {\n",
       "        text-align: right;\n",
       "    }\n",
       "</style>\n",
       "<table border=\"1\" class=\"dataframe\">\n",
       "  <thead>\n",
       "    <tr style=\"text-align: right;\">\n",
       "      <th></th>\n",
       "      <th>Numericals Float</th>\n",
       "      <th>Ordered Categoricals</th>\n",
       "      <th>Categoricals</th>\n",
       "      <th>Broken Numericals Float</th>\n",
       "      <th>Broken Exponentials</th>\n",
       "      <th>Inconsistent Categoricals</th>\n",
       "      <th>Missing Data</th>\n",
       "    </tr>\n",
       "    <tr>\n",
       "      <th>Index</th>\n",
       "      <th></th>\n",
       "      <th></th>\n",
       "      <th></th>\n",
       "      <th></th>\n",
       "      <th></th>\n",
       "      <th></th>\n",
       "      <th></th>\n",
       "    </tr>\n",
       "  </thead>\n",
       "  <tbody>\n",
       "    <tr>\n",
       "      <th>0</th>\n",
       "      <td>0.00</td>\n",
       "      <td>F</td>\n",
       "      <td>Akerke</td>\n",
       "      <td>1.5</td>\n",
       "      <td>1E-2</td>\n",
       "      <td>Kazakh</td>\n",
       "      <td>NaN</td>\n",
       "    </tr>\n",
       "    <tr>\n",
       "      <th>1</th>\n",
       "      <td>0.25</td>\n",
       "      <td>C</td>\n",
       "      <td>Ali</td>\n",
       "      <td>1,5</td>\n",
       "      <td>1e-2</td>\n",
       "      <td>kazakh</td>\n",
       "      <td></td>\n",
       "    </tr>\n",
       "    <tr>\n",
       "      <th>2</th>\n",
       "      <td>0.50</td>\n",
       "      <td>B</td>\n",
       "      <td>Alisher</td>\n",
       "      <td>2</td>\n",
       "      <td>1E-10</td>\n",
       "      <td>Kazakh</td>\n",
       "      <td>-1</td>\n",
       "    </tr>\n",
       "    <tr>\n",
       "      <th>3</th>\n",
       "      <td>0.75</td>\n",
       "      <td>A</td>\n",
       "      <td>Ablay</td>\n",
       "      <td>2</td>\n",
       "      <td>1E-2</td>\n",
       "      <td>KAZAKH</td>\n",
       "      <td>?</td>\n",
       "    </tr>\n",
       "    <tr>\n",
       "      <th>4</th>\n",
       "      <td>1.00</td>\n",
       "      <td>A+</td>\n",
       "      <td>Adilet</td>\n",
       "      <td>0</td>\n",
       "      <td>1e2</td>\n",
       "      <td>china</td>\n",
       "      <td>N/A</td>\n",
       "    </tr>\n",
       "  </tbody>\n",
       "</table>\n",
       "</div>"
      ],
      "text/plain": [
       "       Numericals Float Ordered Categoricals Categoricals  \\\n",
       "Index                                                       \n",
       "0                  0.00                    F       Akerke   \n",
       "1                  0.25                    C          Ali   \n",
       "2                  0.50                    B      Alisher   \n",
       "3                  0.75                    A        Ablay   \n",
       "4                  1.00                   A+       Adilet   \n",
       "\n",
       "      Broken Numericals Float Broken Exponentials Inconsistent Categoricals  \\\n",
       "Index                                                                         \n",
       "0                         1.5                1E-2                    Kazakh   \n",
       "1                         1,5                1e-2                    kazakh   \n",
       "2                           2               1E-10                    Kazakh   \n",
       "3                           2                1E-2                    KAZAKH   \n",
       "4                           0                 1e2                     china   \n",
       "\n",
       "      Missing Data  \n",
       "Index               \n",
       "0              NaN  \n",
       "1                   \n",
       "2               -1  \n",
       "3                ?  \n",
       "4              N/A  "
      ]
     },
     "execution_count": 16,
     "metadata": {},
     "output_type": "execute_result"
    }
   ],
   "source": [
    "# data = data.drop('Numericals Int', axis=1)\n",
    "# data.drop('Numericals Int', axis=1, inplace=True)\n",
    "data.drop(['Numericals Int'], axis=1)"
   ]
  },
  {
   "cell_type": "markdown",
   "id": "c0235ac9",
   "metadata": {},
   "source": [
    "## Индексация - `data.iloc[row_index, col_index]`"
   ]
  },
  {
   "cell_type": "code",
   "execution_count": 17,
   "id": "ee9eac8e",
   "metadata": {
    "ExecuteTime": {
     "end_time": "2023-01-25T08:30:12.600102Z",
     "start_time": "2023-01-25T08:30:12.586935Z"
    }
   },
   "outputs": [
    {
     "data": {
      "text/plain": [
       "'B'"
      ]
     },
     "execution_count": 17,
     "metadata": {},
     "output_type": "execute_result"
    }
   ],
   "source": [
    "data.iloc[2, 2] # row, col"
   ]
  },
  {
   "cell_type": "code",
   "execution_count": 20,
   "id": "46f1505a",
   "metadata": {
    "ExecuteTime": {
     "end_time": "2023-01-25T07:39:15.873438Z",
     "start_time": "2023-01-25T07:39:15.857822Z"
    }
   },
   "outputs": [
    {
     "data": {
      "text/plain": [
       "'B'"
      ]
     },
     "execution_count": 20,
     "metadata": {},
     "output_type": "execute_result"
    }
   ],
   "source": [
    "data.iloc[2, 3]"
   ]
  },
  {
   "cell_type": "code",
   "execution_count": 18,
   "id": "226e6a83",
   "metadata": {
    "ExecuteTime": {
     "end_time": "2023-01-25T08:30:37.714385Z",
     "start_time": "2023-01-25T08:30:37.693933Z"
    }
   },
   "outputs": [
    {
     "data": {
      "text/plain": [
       "Index\n",
       "0    F\n",
       "1    C\n",
       "Name: Ordered Categoricals, dtype: object"
      ]
     },
     "execution_count": 18,
     "metadata": {},
     "output_type": "execute_result"
    }
   ],
   "source": [
    "data.iloc[:2, 2]"
   ]
  },
  {
   "cell_type": "code",
   "execution_count": 19,
   "id": "00f83b68",
   "metadata": {
    "ExecuteTime": {
     "end_time": "2023-01-25T08:30:41.448480Z",
     "start_time": "2023-01-25T08:30:41.393890Z"
    }
   },
   "outputs": [
    {
     "data": {
      "text/html": [
       "<div>\n",
       "<style scoped>\n",
       "    .dataframe tbody tr th:only-of-type {\n",
       "        vertical-align: middle;\n",
       "    }\n",
       "\n",
       "    .dataframe tbody tr th {\n",
       "        vertical-align: top;\n",
       "    }\n",
       "\n",
       "    .dataframe thead th {\n",
       "        text-align: right;\n",
       "    }\n",
       "</style>\n",
       "<table border=\"1\" class=\"dataframe\">\n",
       "  <thead>\n",
       "    <tr style=\"text-align: right;\">\n",
       "      <th></th>\n",
       "      <th>Numericals Int</th>\n",
       "      <th>Numericals Float</th>\n",
       "    </tr>\n",
       "    <tr>\n",
       "      <th>Index</th>\n",
       "      <th></th>\n",
       "      <th></th>\n",
       "    </tr>\n",
       "  </thead>\n",
       "  <tbody>\n",
       "    <tr>\n",
       "      <th>0</th>\n",
       "      <td>0</td>\n",
       "      <td>0.00</td>\n",
       "    </tr>\n",
       "    <tr>\n",
       "      <th>1</th>\n",
       "      <td>1</td>\n",
       "      <td>0.25</td>\n",
       "    </tr>\n",
       "  </tbody>\n",
       "</table>\n",
       "</div>"
      ],
      "text/plain": [
       "       Numericals Int  Numericals Float\n",
       "Index                                  \n",
       "0                   0              0.00\n",
       "1                   1              0.25"
      ]
     },
     "execution_count": 19,
     "metadata": {},
     "output_type": "execute_result"
    }
   ],
   "source": [
    "data.iloc[:2, :2]"
   ]
  },
  {
   "cell_type": "code",
   "execution_count": 20,
   "id": "e4b50c60",
   "metadata": {
    "ExecuteTime": {
     "end_time": "2023-01-25T08:31:07.087446Z",
     "start_time": "2023-01-25T08:31:07.068446Z"
    }
   },
   "outputs": [
    {
     "data": {
      "text/html": [
       "<div>\n",
       "<style scoped>\n",
       "    .dataframe tbody tr th:only-of-type {\n",
       "        vertical-align: middle;\n",
       "    }\n",
       "\n",
       "    .dataframe tbody tr th {\n",
       "        vertical-align: top;\n",
       "    }\n",
       "\n",
       "    .dataframe thead th {\n",
       "        text-align: right;\n",
       "    }\n",
       "</style>\n",
       "<table border=\"1\" class=\"dataframe\">\n",
       "  <thead>\n",
       "    <tr style=\"text-align: right;\">\n",
       "      <th></th>\n",
       "      <th>Numericals Float</th>\n",
       "      <th>Numericals Int</th>\n",
       "    </tr>\n",
       "    <tr>\n",
       "      <th>Index</th>\n",
       "      <th></th>\n",
       "      <th></th>\n",
       "    </tr>\n",
       "  </thead>\n",
       "  <tbody>\n",
       "    <tr>\n",
       "      <th>0</th>\n",
       "      <td>0.00</td>\n",
       "      <td>0</td>\n",
       "    </tr>\n",
       "    <tr>\n",
       "      <th>1</th>\n",
       "      <td>0.25</td>\n",
       "      <td>1</td>\n",
       "    </tr>\n",
       "    <tr>\n",
       "      <th>2</th>\n",
       "      <td>0.50</td>\n",
       "      <td>2</td>\n",
       "    </tr>\n",
       "    <tr>\n",
       "      <th>3</th>\n",
       "      <td>0.75</td>\n",
       "      <td>3</td>\n",
       "    </tr>\n",
       "    <tr>\n",
       "      <th>4</th>\n",
       "      <td>1.00</td>\n",
       "      <td>4</td>\n",
       "    </tr>\n",
       "  </tbody>\n",
       "</table>\n",
       "</div>"
      ],
      "text/plain": [
       "       Numericals Float  Numericals Int\n",
       "Index                                  \n",
       "0                  0.00               0\n",
       "1                  0.25               1\n",
       "2                  0.50               2\n",
       "3                  0.75               3\n",
       "4                  1.00               4"
      ]
     },
     "execution_count": 20,
     "metadata": {},
     "output_type": "execute_result"
    }
   ],
   "source": [
    "data.loc[:, ('Numericals Float', 'Numericals Int')]"
   ]
  },
  {
   "cell_type": "markdown",
   "id": "d796cb73",
   "metadata": {},
   "source": [
    "### Сделать колонку индексом - `data.set_index()`"
   ]
  },
  {
   "cell_type": "code",
   "execution_count": 24,
   "id": "2acaa8d5",
   "metadata": {
    "ExecuteTime": {
     "end_time": "2023-01-25T07:39:16.677144Z",
     "start_time": "2023-01-25T07:39:16.638049Z"
    }
   },
   "outputs": [
    {
     "data": {
      "text/html": [
       "<div>\n",
       "<style scoped>\n",
       "    .dataframe tbody tr th:only-of-type {\n",
       "        vertical-align: middle;\n",
       "    }\n",
       "\n",
       "    .dataframe tbody tr th {\n",
       "        vertical-align: top;\n",
       "    }\n",
       "\n",
       "    .dataframe thead th {\n",
       "        text-align: right;\n",
       "    }\n",
       "</style>\n",
       "<table border=\"1\" class=\"dataframe\">\n",
       "  <thead>\n",
       "    <tr style=\"text-align: right;\">\n",
       "      <th></th>\n",
       "      <th>Index</th>\n",
       "      <th>Numericals Int</th>\n",
       "      <th>Numericals Float</th>\n",
       "      <th>Ordered Categoricals</th>\n",
       "      <th>Broken Numericals Float</th>\n",
       "      <th>Broken Exponentials</th>\n",
       "      <th>Inconsistent Categoricals</th>\n",
       "      <th>Missing Data</th>\n",
       "    </tr>\n",
       "    <tr>\n",
       "      <th>Categoricals</th>\n",
       "      <th></th>\n",
       "      <th></th>\n",
       "      <th></th>\n",
       "      <th></th>\n",
       "      <th></th>\n",
       "      <th></th>\n",
       "      <th></th>\n",
       "      <th></th>\n",
       "    </tr>\n",
       "  </thead>\n",
       "  <tbody>\n",
       "    <tr>\n",
       "      <th>Akerke</th>\n",
       "      <td>0</td>\n",
       "      <td>0</td>\n",
       "      <td>0.00</td>\n",
       "      <td>F</td>\n",
       "      <td>1.5</td>\n",
       "      <td>1.000000e-02</td>\n",
       "      <td>Kazakh</td>\n",
       "      <td>NaN</td>\n",
       "    </tr>\n",
       "    <tr>\n",
       "      <th>Ali</th>\n",
       "      <td>1</td>\n",
       "      <td>1</td>\n",
       "      <td>0.25</td>\n",
       "      <td>C</td>\n",
       "      <td>1,5</td>\n",
       "      <td>1.000000e-02</td>\n",
       "      <td>kazakh</td>\n",
       "      <td>NaN</td>\n",
       "    </tr>\n",
       "    <tr>\n",
       "      <th>Alisher</th>\n",
       "      <td>2</td>\n",
       "      <td>2</td>\n",
       "      <td>0.50</td>\n",
       "      <td>B</td>\n",
       "      <td>2</td>\n",
       "      <td>1.000000e-10</td>\n",
       "      <td>Kazakh</td>\n",
       "      <td>NaN</td>\n",
       "    </tr>\n",
       "    <tr>\n",
       "      <th>Ablay</th>\n",
       "      <td>3</td>\n",
       "      <td>3</td>\n",
       "      <td>0.75</td>\n",
       "      <td>A</td>\n",
       "      <td>2</td>\n",
       "      <td>1.000000e-02</td>\n",
       "      <td>KAZAKH</td>\n",
       "      <td>NaN</td>\n",
       "    </tr>\n",
       "    <tr>\n",
       "      <th>Adilet</th>\n",
       "      <td>4</td>\n",
       "      <td>4</td>\n",
       "      <td>1.00</td>\n",
       "      <td>A+</td>\n",
       "      <td>0</td>\n",
       "      <td>1.000000e+02</td>\n",
       "      <td>china</td>\n",
       "      <td>NaN</td>\n",
       "    </tr>\n",
       "  </tbody>\n",
       "</table>\n",
       "</div>"
      ],
      "text/plain": [
       "              Index  Numericals Int  Numericals Float Ordered Categoricals  \\\n",
       "Categoricals                                                                 \n",
       "Akerke            0               0              0.00                    F   \n",
       "Ali               1               1              0.25                    C   \n",
       "Alisher           2               2              0.50                    B   \n",
       "Ablay             3               3              0.75                    A   \n",
       "Adilet            4               4              1.00                   A+   \n",
       "\n",
       "             Broken Numericals Float  Broken Exponentials  \\\n",
       "Categoricals                                                \n",
       "Akerke                           1.5         1.000000e-02   \n",
       "Ali                              1,5         1.000000e-02   \n",
       "Alisher                            2         1.000000e-10   \n",
       "Ablay                              2         1.000000e-02   \n",
       "Adilet                             0         1.000000e+02   \n",
       "\n",
       "             Inconsistent Categoricals  Missing Data  \n",
       "Categoricals                                          \n",
       "Akerke                          Kazakh           NaN  \n",
       "Ali                             kazakh           NaN  \n",
       "Alisher                         Kazakh           NaN  \n",
       "Ablay                           KAZAKH           NaN  \n",
       "Adilet                           china           NaN  "
      ]
     },
     "execution_count": 24,
     "metadata": {},
     "output_type": "execute_result"
    }
   ],
   "source": [
    "data = data.set_index('Categoricals')\n",
    "data"
   ]
  },
  {
   "cell_type": "code",
   "execution_count": 25,
   "id": "abb79025",
   "metadata": {
    "ExecuteTime": {
     "end_time": "2023-01-25T07:39:16.739645Z",
     "start_time": "2023-01-25T07:39:16.708394Z"
    }
   },
   "outputs": [
    {
     "data": {
      "text/html": [
       "<div>\n",
       "<style scoped>\n",
       "    .dataframe tbody tr th:only-of-type {\n",
       "        vertical-align: middle;\n",
       "    }\n",
       "\n",
       "    .dataframe tbody tr th {\n",
       "        vertical-align: top;\n",
       "    }\n",
       "\n",
       "    .dataframe thead th {\n",
       "        text-align: right;\n",
       "    }\n",
       "</style>\n",
       "<table border=\"1\" class=\"dataframe\">\n",
       "  <thead>\n",
       "    <tr style=\"text-align: right;\">\n",
       "      <th></th>\n",
       "      <th>Numericals Float</th>\n",
       "      <th>Numericals Int</th>\n",
       "    </tr>\n",
       "    <tr>\n",
       "      <th>Categoricals</th>\n",
       "      <th></th>\n",
       "      <th></th>\n",
       "    </tr>\n",
       "  </thead>\n",
       "  <tbody>\n",
       "    <tr>\n",
       "      <th>Akerke</th>\n",
       "      <td>0.00</td>\n",
       "      <td>0</td>\n",
       "    </tr>\n",
       "    <tr>\n",
       "      <th>Ablay</th>\n",
       "      <td>0.75</td>\n",
       "      <td>3</td>\n",
       "    </tr>\n",
       "  </tbody>\n",
       "</table>\n",
       "</div>"
      ],
      "text/plain": [
       "              Numericals Float  Numericals Int\n",
       "Categoricals                                  \n",
       "Akerke                    0.00               0\n",
       "Ablay                     0.75               3"
      ]
     },
     "execution_count": 25,
     "metadata": {},
     "output_type": "execute_result"
    }
   ],
   "source": [
    "data.loc[('Akerke', 'Ablay'), ('Numericals Float', 'Numericals Int')]"
   ]
  },
  {
   "cell_type": "markdown",
   "id": "234d6fc3",
   "metadata": {},
   "source": [
    "### Сбросить колонку индекса - `data.reset_index(drop=True)`"
   ]
  },
  {
   "cell_type": "code",
   "execution_count": 26,
   "id": "36b8f0cd",
   "metadata": {
    "ExecuteTime": {
     "end_time": "2023-01-25T07:39:17.300509Z",
     "start_time": "2023-01-25T07:39:17.246146Z"
    }
   },
   "outputs": [
    {
     "data": {
      "text/html": [
       "<div>\n",
       "<style scoped>\n",
       "    .dataframe tbody tr th:only-of-type {\n",
       "        vertical-align: middle;\n",
       "    }\n",
       "\n",
       "    .dataframe tbody tr th {\n",
       "        vertical-align: top;\n",
       "    }\n",
       "\n",
       "    .dataframe thead th {\n",
       "        text-align: right;\n",
       "    }\n",
       "</style>\n",
       "<table border=\"1\" class=\"dataframe\">\n",
       "  <thead>\n",
       "    <tr style=\"text-align: right;\">\n",
       "      <th></th>\n",
       "      <th>Index</th>\n",
       "      <th>Numericals Int</th>\n",
       "      <th>Numericals Float</th>\n",
       "      <th>Ordered Categoricals</th>\n",
       "      <th>Broken Numericals Float</th>\n",
       "      <th>Broken Exponentials</th>\n",
       "      <th>Inconsistent Categoricals</th>\n",
       "      <th>Missing Data</th>\n",
       "    </tr>\n",
       "  </thead>\n",
       "  <tbody>\n",
       "    <tr>\n",
       "      <th>0</th>\n",
       "      <td>0</td>\n",
       "      <td>0</td>\n",
       "      <td>0.00</td>\n",
       "      <td>F</td>\n",
       "      <td>1.5</td>\n",
       "      <td>1.000000e-02</td>\n",
       "      <td>Kazakh</td>\n",
       "      <td>NaN</td>\n",
       "    </tr>\n",
       "    <tr>\n",
       "      <th>1</th>\n",
       "      <td>1</td>\n",
       "      <td>1</td>\n",
       "      <td>0.25</td>\n",
       "      <td>C</td>\n",
       "      <td>1,5</td>\n",
       "      <td>1.000000e-02</td>\n",
       "      <td>kazakh</td>\n",
       "      <td>NaN</td>\n",
       "    </tr>\n",
       "    <tr>\n",
       "      <th>2</th>\n",
       "      <td>2</td>\n",
       "      <td>2</td>\n",
       "      <td>0.50</td>\n",
       "      <td>B</td>\n",
       "      <td>2</td>\n",
       "      <td>1.000000e-10</td>\n",
       "      <td>Kazakh</td>\n",
       "      <td>NaN</td>\n",
       "    </tr>\n",
       "    <tr>\n",
       "      <th>3</th>\n",
       "      <td>3</td>\n",
       "      <td>3</td>\n",
       "      <td>0.75</td>\n",
       "      <td>A</td>\n",
       "      <td>2</td>\n",
       "      <td>1.000000e-02</td>\n",
       "      <td>KAZAKH</td>\n",
       "      <td>NaN</td>\n",
       "    </tr>\n",
       "    <tr>\n",
       "      <th>4</th>\n",
       "      <td>4</td>\n",
       "      <td>4</td>\n",
       "      <td>1.00</td>\n",
       "      <td>A+</td>\n",
       "      <td>0</td>\n",
       "      <td>1.000000e+02</td>\n",
       "      <td>china</td>\n",
       "      <td>NaN</td>\n",
       "    </tr>\n",
       "  </tbody>\n",
       "</table>\n",
       "</div>"
      ],
      "text/plain": [
       "   Index  Numericals Int  Numericals Float Ordered Categoricals  \\\n",
       "0      0               0              0.00                    F   \n",
       "1      1               1              0.25                    C   \n",
       "2      2               2              0.50                    B   \n",
       "3      3               3              0.75                    A   \n",
       "4      4               4              1.00                   A+   \n",
       "\n",
       "  Broken Numericals Float  Broken Exponentials Inconsistent Categoricals  \\\n",
       "0                     1.5         1.000000e-02                    Kazakh   \n",
       "1                     1,5         1.000000e-02                    kazakh   \n",
       "2                       2         1.000000e-10                    Kazakh   \n",
       "3                       2         1.000000e-02                    KAZAKH   \n",
       "4                       0         1.000000e+02                     china   \n",
       "\n",
       "   Missing Data  \n",
       "0           NaN  \n",
       "1           NaN  \n",
       "2           NaN  \n",
       "3           NaN  \n",
       "4           NaN  "
      ]
     },
     "execution_count": 26,
     "metadata": {},
     "output_type": "execute_result"
    }
   ],
   "source": [
    "data.reset_index(drop=True)"
   ]
  },
  {
   "cell_type": "code",
   "execution_count": 21,
   "id": "a3eb4ea8",
   "metadata": {
    "ExecuteTime": {
     "end_time": "2023-01-25T08:32:41.016700Z",
     "start_time": "2023-01-25T08:32:40.982707Z"
    }
   },
   "outputs": [],
   "source": [
    "data = data.reset_index(drop=False)"
   ]
  },
  {
   "cell_type": "markdown",
   "id": "7512dc8b",
   "metadata": {},
   "source": [
    "### Поменять порядок колонок списком - `data[col_list]`"
   ]
  },
  {
   "cell_type": "code",
   "execution_count": 22,
   "id": "97a73e9a",
   "metadata": {
    "ExecuteTime": {
     "end_time": "2023-01-25T08:33:08.070140Z",
     "start_time": "2023-01-25T08:33:08.052141Z"
    }
   },
   "outputs": [],
   "source": [
    "col_list = list(data)"
   ]
  },
  {
   "cell_type": "code",
   "execution_count": 23,
   "id": "9430e127",
   "metadata": {
    "ExecuteTime": {
     "end_time": "2023-01-25T08:33:08.627818Z",
     "start_time": "2023-01-25T08:33:08.624815Z"
    }
   },
   "outputs": [],
   "source": [
    "col_list.sort()"
   ]
  },
  {
   "cell_type": "code",
   "execution_count": 24,
   "id": "693e20e3",
   "metadata": {
    "ExecuteTime": {
     "end_time": "2023-01-25T08:33:09.408666Z",
     "start_time": "2023-01-25T08:33:09.391672Z"
    }
   },
   "outputs": [
    {
     "data": {
      "text/plain": [
       "['Broken Exponentials',\n",
       " 'Broken Numericals Float',\n",
       " 'Categoricals',\n",
       " 'Inconsistent Categoricals',\n",
       " 'Index',\n",
       " 'Missing Data',\n",
       " 'Numericals Float',\n",
       " 'Numericals Int',\n",
       " 'Ordered Categoricals']"
      ]
     },
     "execution_count": 24,
     "metadata": {},
     "output_type": "execute_result"
    }
   ],
   "source": [
    "col_list"
   ]
  },
  {
   "cell_type": "code",
   "execution_count": 31,
   "id": "ce4febf6",
   "metadata": {
    "ExecuteTime": {
     "end_time": "2023-01-25T07:39:18.179593Z",
     "start_time": "2023-01-25T07:39:18.163971Z"
    }
   },
   "outputs": [],
   "source": [
    "col_list.remove('Index')# col_list.pop(index)"
   ]
  },
  {
   "cell_type": "code",
   "execution_count": 32,
   "id": "ded1020d",
   "metadata": {
    "ExecuteTime": {
     "end_time": "2023-01-25T07:39:18.295564Z",
     "start_time": "2023-01-25T07:39:18.279937Z"
    }
   },
   "outputs": [
    {
     "data": {
      "text/plain": [
       "['Broken Exponentials',\n",
       " 'Broken Numericals Float',\n",
       " 'Categoricals',\n",
       " 'Inconsistent Categoricals',\n",
       " 'Missing Data',\n",
       " 'Numericals Float',\n",
       " 'Numericals Int',\n",
       " 'Ordered Categoricals']"
      ]
     },
     "execution_count": 32,
     "metadata": {},
     "output_type": "execute_result"
    }
   ],
   "source": [
    "col_list"
   ]
  },
  {
   "cell_type": "code",
   "execution_count": 33,
   "id": "3003f260",
   "metadata": {
    "ExecuteTime": {
     "end_time": "2023-01-25T07:39:18.427131Z",
     "start_time": "2023-01-25T07:39:18.380260Z"
    }
   },
   "outputs": [
    {
     "data": {
      "text/html": [
       "<div>\n",
       "<style scoped>\n",
       "    .dataframe tbody tr th:only-of-type {\n",
       "        vertical-align: middle;\n",
       "    }\n",
       "\n",
       "    .dataframe tbody tr th {\n",
       "        vertical-align: top;\n",
       "    }\n",
       "\n",
       "    .dataframe thead th {\n",
       "        text-align: right;\n",
       "    }\n",
       "</style>\n",
       "<table border=\"1\" class=\"dataframe\">\n",
       "  <thead>\n",
       "    <tr style=\"text-align: right;\">\n",
       "      <th></th>\n",
       "      <th>Broken Exponentials</th>\n",
       "      <th>Broken Numericals Float</th>\n",
       "      <th>Categoricals</th>\n",
       "      <th>Inconsistent Categoricals</th>\n",
       "      <th>Missing Data</th>\n",
       "      <th>Numericals Float</th>\n",
       "      <th>Numericals Int</th>\n",
       "      <th>Ordered Categoricals</th>\n",
       "    </tr>\n",
       "  </thead>\n",
       "  <tbody>\n",
       "    <tr>\n",
       "      <th>0</th>\n",
       "      <td>1.000000e-02</td>\n",
       "      <td>1.5</td>\n",
       "      <td>Akerke</td>\n",
       "      <td>Kazakh</td>\n",
       "      <td>NaN</td>\n",
       "      <td>0.00</td>\n",
       "      <td>0</td>\n",
       "      <td>F</td>\n",
       "    </tr>\n",
       "    <tr>\n",
       "      <th>1</th>\n",
       "      <td>1.000000e-02</td>\n",
       "      <td>1,5</td>\n",
       "      <td>Ali</td>\n",
       "      <td>kazakh</td>\n",
       "      <td>NaN</td>\n",
       "      <td>0.25</td>\n",
       "      <td>1</td>\n",
       "      <td>C</td>\n",
       "    </tr>\n",
       "    <tr>\n",
       "      <th>2</th>\n",
       "      <td>1.000000e-10</td>\n",
       "      <td>2</td>\n",
       "      <td>Alisher</td>\n",
       "      <td>Kazakh</td>\n",
       "      <td>NaN</td>\n",
       "      <td>0.50</td>\n",
       "      <td>2</td>\n",
       "      <td>B</td>\n",
       "    </tr>\n",
       "    <tr>\n",
       "      <th>3</th>\n",
       "      <td>1.000000e-02</td>\n",
       "      <td>2</td>\n",
       "      <td>Ablay</td>\n",
       "      <td>KAZAKH</td>\n",
       "      <td>NaN</td>\n",
       "      <td>0.75</td>\n",
       "      <td>3</td>\n",
       "      <td>A</td>\n",
       "    </tr>\n",
       "    <tr>\n",
       "      <th>4</th>\n",
       "      <td>1.000000e+02</td>\n",
       "      <td>0</td>\n",
       "      <td>Adilet</td>\n",
       "      <td>china</td>\n",
       "      <td>NaN</td>\n",
       "      <td>1.00</td>\n",
       "      <td>4</td>\n",
       "      <td>A+</td>\n",
       "    </tr>\n",
       "  </tbody>\n",
       "</table>\n",
       "</div>"
      ],
      "text/plain": [
       "   Broken Exponentials Broken Numericals Float Categoricals  \\\n",
       "0         1.000000e-02                     1.5       Akerke   \n",
       "1         1.000000e-02                     1,5          Ali   \n",
       "2         1.000000e-10                       2      Alisher   \n",
       "3         1.000000e-02                       2        Ablay   \n",
       "4         1.000000e+02                       0       Adilet   \n",
       "\n",
       "  Inconsistent Categoricals  Missing Data  Numericals Float  Numericals Int  \\\n",
       "0                    Kazakh           NaN              0.00               0   \n",
       "1                    kazakh           NaN              0.25               1   \n",
       "2                    Kazakh           NaN              0.50               2   \n",
       "3                    KAZAKH           NaN              0.75               3   \n",
       "4                     china           NaN              1.00               4   \n",
       "\n",
       "  Ordered Categoricals  \n",
       "0                    F  \n",
       "1                    C  \n",
       "2                    B  \n",
       "3                    A  \n",
       "4                   A+  "
      ]
     },
     "execution_count": 33,
     "metadata": {},
     "output_type": "execute_result"
    }
   ],
   "source": [
    "data = data[col_list]\n",
    "data.head()"
   ]
  },
  {
   "cell_type": "code",
   "execution_count": 26,
   "id": "2386d6ed",
   "metadata": {
    "ExecuteTime": {
     "end_time": "2023-01-25T08:33:44.711299Z",
     "start_time": "2023-01-25T08:33:44.671080Z"
    }
   },
   "outputs": [
    {
     "data": {
      "text/html": [
       "<div>\n",
       "<style scoped>\n",
       "    .dataframe tbody tr th:only-of-type {\n",
       "        vertical-align: middle;\n",
       "    }\n",
       "\n",
       "    .dataframe tbody tr th {\n",
       "        vertical-align: top;\n",
       "    }\n",
       "\n",
       "    .dataframe thead th {\n",
       "        text-align: right;\n",
       "    }\n",
       "</style>\n",
       "<table border=\"1\" class=\"dataframe\">\n",
       "  <thead>\n",
       "    <tr style=\"text-align: right;\">\n",
       "      <th></th>\n",
       "      <th>Numericals Int</th>\n",
       "    </tr>\n",
       "  </thead>\n",
       "  <tbody>\n",
       "    <tr>\n",
       "      <th>0</th>\n",
       "      <td>0</td>\n",
       "    </tr>\n",
       "    <tr>\n",
       "      <th>1</th>\n",
       "      <td>1</td>\n",
       "    </tr>\n",
       "    <tr>\n",
       "      <th>2</th>\n",
       "      <td>2</td>\n",
       "    </tr>\n",
       "    <tr>\n",
       "      <th>3</th>\n",
       "      <td>3</td>\n",
       "    </tr>\n",
       "    <tr>\n",
       "      <th>4</th>\n",
       "      <td>4</td>\n",
       "    </tr>\n",
       "  </tbody>\n",
       "</table>\n",
       "</div>"
      ],
      "text/plain": [
       "   Numericals Int\n",
       "0               0\n",
       "1               1\n",
       "2               2\n",
       "3               3\n",
       "4               4"
      ]
     },
     "execution_count": 26,
     "metadata": {},
     "output_type": "execute_result"
    }
   ],
   "source": [
    "data[['Numericals Int']]"
   ]
  },
  {
   "cell_type": "markdown",
   "id": "e2741424",
   "metadata": {},
   "source": [
    "## Частоиспользуемые функции"
   ]
  },
  {
   "cell_type": "markdown",
   "id": "68a54516",
   "metadata": {},
   "source": [
    "### Вывести summay o данных - `data.describe()/data.info()`"
   ]
  },
  {
   "cell_type": "code",
   "execution_count": 34,
   "id": "a2804ac5",
   "metadata": {
    "ExecuteTime": {
     "end_time": "2023-01-25T07:39:19.614431Z",
     "start_time": "2023-01-25T07:39:19.583651Z"
    }
   },
   "outputs": [
    {
     "data": {
      "text/html": [
       "<div>\n",
       "<style scoped>\n",
       "    .dataframe tbody tr th:only-of-type {\n",
       "        vertical-align: middle;\n",
       "    }\n",
       "\n",
       "    .dataframe tbody tr th {\n",
       "        vertical-align: top;\n",
       "    }\n",
       "\n",
       "    .dataframe thead th {\n",
       "        text-align: right;\n",
       "    }\n",
       "</style>\n",
       "<table border=\"1\" class=\"dataframe\">\n",
       "  <thead>\n",
       "    <tr style=\"text-align: right;\">\n",
       "      <th></th>\n",
       "      <th>Broken Exponentials</th>\n",
       "      <th>Missing Data</th>\n",
       "      <th>Numericals Float</th>\n",
       "      <th>Numericals Int</th>\n",
       "    </tr>\n",
       "  </thead>\n",
       "  <tbody>\n",
       "    <tr>\n",
       "      <th>count</th>\n",
       "      <td>5.000000e+00</td>\n",
       "      <td>0.0</td>\n",
       "      <td>5.000000</td>\n",
       "      <td>5.000000</td>\n",
       "    </tr>\n",
       "    <tr>\n",
       "      <th>mean</th>\n",
       "      <td>2.000600e+01</td>\n",
       "      <td>NaN</td>\n",
       "      <td>0.500000</td>\n",
       "      <td>2.000000</td>\n",
       "    </tr>\n",
       "    <tr>\n",
       "      <th>std</th>\n",
       "      <td>4.471801e+01</td>\n",
       "      <td>NaN</td>\n",
       "      <td>0.395285</td>\n",
       "      <td>1.581139</td>\n",
       "    </tr>\n",
       "    <tr>\n",
       "      <th>min</th>\n",
       "      <td>1.000000e-10</td>\n",
       "      <td>NaN</td>\n",
       "      <td>0.000000</td>\n",
       "      <td>0.000000</td>\n",
       "    </tr>\n",
       "    <tr>\n",
       "      <th>25%</th>\n",
       "      <td>1.000000e-02</td>\n",
       "      <td>NaN</td>\n",
       "      <td>0.250000</td>\n",
       "      <td>1.000000</td>\n",
       "    </tr>\n",
       "    <tr>\n",
       "      <th>50%</th>\n",
       "      <td>1.000000e-02</td>\n",
       "      <td>NaN</td>\n",
       "      <td>0.500000</td>\n",
       "      <td>2.000000</td>\n",
       "    </tr>\n",
       "    <tr>\n",
       "      <th>75%</th>\n",
       "      <td>1.000000e-02</td>\n",
       "      <td>NaN</td>\n",
       "      <td>0.750000</td>\n",
       "      <td>3.000000</td>\n",
       "    </tr>\n",
       "    <tr>\n",
       "      <th>max</th>\n",
       "      <td>1.000000e+02</td>\n",
       "      <td>NaN</td>\n",
       "      <td>1.000000</td>\n",
       "      <td>4.000000</td>\n",
       "    </tr>\n",
       "  </tbody>\n",
       "</table>\n",
       "</div>"
      ],
      "text/plain": [
       "       Broken Exponentials  Missing Data  Numericals Float  Numericals Int\n",
       "count         5.000000e+00           0.0          5.000000        5.000000\n",
       "mean          2.000600e+01           NaN          0.500000        2.000000\n",
       "std           4.471801e+01           NaN          0.395285        1.581139\n",
       "min           1.000000e-10           NaN          0.000000        0.000000\n",
       "25%           1.000000e-02           NaN          0.250000        1.000000\n",
       "50%           1.000000e-02           NaN          0.500000        2.000000\n",
       "75%           1.000000e-02           NaN          0.750000        3.000000\n",
       "max           1.000000e+02           NaN          1.000000        4.000000"
      ]
     },
     "execution_count": 34,
     "metadata": {},
     "output_type": "execute_result"
    }
   ],
   "source": [
    "data.describe()"
   ]
  },
  {
   "cell_type": "code",
   "execution_count": 35,
   "id": "32986b38",
   "metadata": {
    "ExecuteTime": {
     "end_time": "2023-01-25T07:39:19.684084Z",
     "start_time": "2023-01-25T07:39:19.652736Z"
    }
   },
   "outputs": [
    {
     "name": "stdout",
     "output_type": "stream",
     "text": [
      "<class 'pandas.core.frame.DataFrame'>\n",
      "RangeIndex: 5 entries, 0 to 4\n",
      "Data columns (total 8 columns):\n",
      " #   Column                     Non-Null Count  Dtype  \n",
      "---  ------                     --------------  -----  \n",
      " 0   Broken Exponentials        5 non-null      float64\n",
      " 1   Broken Numericals Float    5 non-null      object \n",
      " 2   Categoricals               5 non-null      object \n",
      " 3   Inconsistent Categoricals  5 non-null      object \n",
      " 4   Missing Data               0 non-null      float64\n",
      " 5   Numericals Float           5 non-null      float64\n",
      " 6   Numericals Int             5 non-null      int64  \n",
      " 7   Ordered Categoricals       5 non-null      object \n",
      "dtypes: float64(3), int64(1), object(4)\n",
      "memory usage: 448.0+ bytes\n"
     ]
    }
   ],
   "source": [
    "data.info()"
   ]
  },
  {
   "cell_type": "markdown",
   "id": "899a7d80",
   "metadata": {},
   "source": [
    "### Получить индекс и название колонок - `data.index/data.columns`"
   ]
  },
  {
   "cell_type": "code",
   "execution_count": 27,
   "id": "62bbf7f7",
   "metadata": {
    "ExecuteTime": {
     "end_time": "2023-01-25T08:35:23.544115Z",
     "start_time": "2023-01-25T08:35:23.532461Z"
    }
   },
   "outputs": [
    {
     "data": {
      "text/plain": [
       "RangeIndex(start=0, stop=5, step=1)"
      ]
     },
     "execution_count": 27,
     "metadata": {},
     "output_type": "execute_result"
    }
   ],
   "source": [
    "data.index"
   ]
  },
  {
   "cell_type": "code",
   "execution_count": 28,
   "id": "b3462571",
   "metadata": {
    "ExecuteTime": {
     "end_time": "2023-01-25T08:35:25.283937Z",
     "start_time": "2023-01-25T08:35:25.262901Z"
    }
   },
   "outputs": [
    {
     "data": {
      "text/plain": [
       "Index(['Index', 'Numericals Int', 'Numericals Float', 'Ordered Categoricals',\n",
       "       'Categoricals', 'Broken Numericals Float', 'Broken Exponentials',\n",
       "       'Inconsistent Categoricals', 'Missing Data'],\n",
       "      dtype='object')"
      ]
     },
     "execution_count": 28,
     "metadata": {},
     "output_type": "execute_result"
    }
   ],
   "source": [
    "data.columns"
   ]
  },
  {
   "cell_type": "code",
   "execution_count": 30,
   "id": "f6048c85",
   "metadata": {
    "ExecuteTime": {
     "end_time": "2023-01-25T08:35:58.508342Z",
     "start_time": "2023-01-25T08:35:58.484324Z"
    }
   },
   "outputs": [
    {
     "data": {
      "text/html": [
       "<div>\n",
       "<style scoped>\n",
       "    .dataframe tbody tr th:only-of-type {\n",
       "        vertical-align: middle;\n",
       "    }\n",
       "\n",
       "    .dataframe tbody tr th {\n",
       "        vertical-align: top;\n",
       "    }\n",
       "\n",
       "    .dataframe thead th {\n",
       "        text-align: right;\n",
       "    }\n",
       "</style>\n",
       "<table border=\"1\" class=\"dataframe\">\n",
       "  <thead>\n",
       "    <tr style=\"text-align: right;\">\n",
       "      <th></th>\n",
       "      <th>Missing Data</th>\n",
       "    </tr>\n",
       "  </thead>\n",
       "  <tbody>\n",
       "    <tr>\n",
       "      <th>0</th>\n",
       "      <td>NaN</td>\n",
       "    </tr>\n",
       "    <tr>\n",
       "      <th>1</th>\n",
       "      <td></td>\n",
       "    </tr>\n",
       "    <tr>\n",
       "      <th>2</th>\n",
       "      <td>-1</td>\n",
       "    </tr>\n",
       "    <tr>\n",
       "      <th>3</th>\n",
       "      <td>?</td>\n",
       "    </tr>\n",
       "    <tr>\n",
       "      <th>4</th>\n",
       "      <td>N/A</td>\n",
       "    </tr>\n",
       "  </tbody>\n",
       "</table>\n",
       "</div>"
      ],
      "text/plain": [
       "  Missing Data\n",
       "0          NaN\n",
       "1             \n",
       "2           -1\n",
       "3            ?\n",
       "4          N/A"
      ]
     },
     "execution_count": 30,
     "metadata": {},
     "output_type": "execute_result"
    }
   ],
   "source": [
    "data[['Missing Data']]\n"
   ]
  },
  {
   "cell_type": "code",
   "execution_count": 38,
   "id": "db1176b2",
   "metadata": {
    "ExecuteTime": {
     "end_time": "2023-01-25T07:39:20.733504Z",
     "start_time": "2023-01-25T07:39:20.702281Z"
    }
   },
   "outputs": [
    {
     "data": {
      "text/plain": [
       "['Broken Exponentials',\n",
       " 'Broken Numericals Float',\n",
       " 'Categoricals',\n",
       " 'Inconsistent Categoricals',\n",
       " 'Missing Data',\n",
       " 'Numericals Float',\n",
       " 'Numericals Int',\n",
       " 'Ordered Categoricals']"
      ]
     },
     "execution_count": 38,
     "metadata": {},
     "output_type": "execute_result"
    }
   ],
   "source": [
    "list(data)"
   ]
  },
  {
   "cell_type": "markdown",
   "id": "55b4640d",
   "metadata": {},
   "source": [
    "### Вывести типы данных - `data.dtypes`"
   ]
  },
  {
   "cell_type": "code",
   "execution_count": 39,
   "id": "5e520194",
   "metadata": {
    "ExecuteTime": {
     "end_time": "2023-01-25T07:39:21.296965Z",
     "start_time": "2023-01-25T07:39:21.257141Z"
    }
   },
   "outputs": [
    {
     "data": {
      "text/plain": [
       "Broken Exponentials          float64\n",
       "Broken Numericals Float       object\n",
       "Categoricals                  object\n",
       "Inconsistent Categoricals     object\n",
       "Missing Data                 float64\n",
       "Numericals Float             float64\n",
       "Numericals Int                 int64\n",
       "Ordered Categoricals          object\n",
       "dtype: object"
      ]
     },
     "execution_count": 39,
     "metadata": {},
     "output_type": "execute_result"
    }
   ],
   "source": [
    "data.dtypes"
   ]
  },
  {
   "cell_type": "markdown",
   "id": "1863f3dd",
   "metadata": {},
   "source": [
    "### Изменть тип данных - `data[col_name].astype()`"
   ]
  },
  {
   "cell_type": "code",
   "execution_count": 31,
   "id": "922f9d27",
   "metadata": {
    "ExecuteTime": {
     "end_time": "2023-01-25T08:39:48.762894Z",
     "start_time": "2023-01-25T08:39:48.651901Z"
    }
   },
   "outputs": [],
   "source": [
    "data['Categoricals'] = data['Categoricals'].astype('category')\n",
    "\n",
    "data['Numericals Int'] = data['Numericals Int'].astype('str')\n",
    "\n",
    "data['Numericals Int'] = data['Numericals Int'].astype(int)\n",
    "\n",
    "data['Numericals Int'] = data['Numericals Int'].astype(np.int16)\n",
    "data['Numericals Int'] = data['Numericals Int'].astype(np.int32)\n",
    "data['Numericals Int'] = data['Numericals Int'].astype(np.int64)\n",
    "\n",
    "data['Numericals Int'] = data['Numericals Int'].astype(float)\n",
    "\n",
    "data['Numericals Int'] = data['Numericals Int'].astype(np.float16)\n",
    "data['Numericals Int'] = data['Numericals Int'].astype(np.float32)\n",
    "data['Numericals Int'] = data['Numericals Int'].astype(np.float64)"
   ]
  },
  {
   "cell_type": "code",
   "execution_count": 32,
   "id": "a658fd00",
   "metadata": {
    "ExecuteTime": {
     "end_time": "2023-01-25T08:39:51.178358Z",
     "start_time": "2023-01-25T08:39:51.164367Z"
    }
   },
   "outputs": [
    {
     "data": {
      "text/plain": [
       "Index                           int64\n",
       "Numericals Int                float64\n",
       "Numericals Float              float64\n",
       "Ordered Categoricals           object\n",
       "Categoricals                 category\n",
       "Broken Numericals Float        object\n",
       "Broken Exponentials            object\n",
       "Inconsistent Categoricals      object\n",
       "Missing Data                   object\n",
       "dtype: object"
      ]
     },
     "execution_count": 32,
     "metadata": {},
     "output_type": "execute_result"
    }
   ],
   "source": [
    "data.dtypes"
   ]
  },
  {
   "cell_type": "markdown",
   "id": "f6d29b8e",
   "metadata": {},
   "source": [
    "### Фильтровать по типу данных - `data.select_dtypes()`"
   ]
  },
  {
   "cell_type": "code",
   "execution_count": 42,
   "id": "c8baf6da",
   "metadata": {
    "ExecuteTime": {
     "end_time": "2023-01-25T07:39:22.707316Z",
     "start_time": "2023-01-25T07:39:22.676067Z"
    }
   },
   "outputs": [
    {
     "data": {
      "text/html": [
       "<div>\n",
       "<style scoped>\n",
       "    .dataframe tbody tr th:only-of-type {\n",
       "        vertical-align: middle;\n",
       "    }\n",
       "\n",
       "    .dataframe tbody tr th {\n",
       "        vertical-align: top;\n",
       "    }\n",
       "\n",
       "    .dataframe thead th {\n",
       "        text-align: right;\n",
       "    }\n",
       "</style>\n",
       "<table border=\"1\" class=\"dataframe\">\n",
       "  <thead>\n",
       "    <tr style=\"text-align: right;\">\n",
       "      <th></th>\n",
       "      <th>Broken Numericals Float</th>\n",
       "      <th>Categoricals</th>\n",
       "      <th>Inconsistent Categoricals</th>\n",
       "      <th>Ordered Categoricals</th>\n",
       "    </tr>\n",
       "  </thead>\n",
       "  <tbody>\n",
       "    <tr>\n",
       "      <th>0</th>\n",
       "      <td>1.5</td>\n",
       "      <td>Akerke</td>\n",
       "      <td>Kazakh</td>\n",
       "      <td>F</td>\n",
       "    </tr>\n",
       "    <tr>\n",
       "      <th>1</th>\n",
       "      <td>1,5</td>\n",
       "      <td>Ali</td>\n",
       "      <td>kazakh</td>\n",
       "      <td>C</td>\n",
       "    </tr>\n",
       "    <tr>\n",
       "      <th>2</th>\n",
       "      <td>2</td>\n",
       "      <td>Alisher</td>\n",
       "      <td>Kazakh</td>\n",
       "      <td>B</td>\n",
       "    </tr>\n",
       "    <tr>\n",
       "      <th>3</th>\n",
       "      <td>2</td>\n",
       "      <td>Ablay</td>\n",
       "      <td>KAZAKH</td>\n",
       "      <td>A</td>\n",
       "    </tr>\n",
       "    <tr>\n",
       "      <th>4</th>\n",
       "      <td>0</td>\n",
       "      <td>Adilet</td>\n",
       "      <td>china</td>\n",
       "      <td>A+</td>\n",
       "    </tr>\n",
       "  </tbody>\n",
       "</table>\n",
       "</div>"
      ],
      "text/plain": [
       "  Broken Numericals Float Categoricals Inconsistent Categoricals  \\\n",
       "0                     1.5       Akerke                    Kazakh   \n",
       "1                     1,5          Ali                    kazakh   \n",
       "2                       2      Alisher                    Kazakh   \n",
       "3                       2        Ablay                    KAZAKH   \n",
       "4                       0       Adilet                     china   \n",
       "\n",
       "  Ordered Categoricals  \n",
       "0                    F  \n",
       "1                    C  \n",
       "2                    B  \n",
       "3                    A  \n",
       "4                   A+  "
      ]
     },
     "execution_count": 42,
     "metadata": {},
     "output_type": "execute_result"
    }
   ],
   "source": [
    "# data[numerical_columns]\n",
    "\n",
    "data.select_dtypes(exclude=np.number)"
   ]
  },
  {
   "cell_type": "code",
   "execution_count": 33,
   "id": "2bce04ee",
   "metadata": {
    "ExecuteTime": {
     "end_time": "2023-01-25T08:42:31.302160Z",
     "start_time": "2023-01-25T08:42:31.193109Z"
    }
   },
   "outputs": [
    {
     "data": {
      "text/plain": [
       "['Index', 'Numericals Int', 'Numericals Float']"
      ]
     },
     "execution_count": 33,
     "metadata": {},
     "output_type": "execute_result"
    }
   ],
   "source": [
    "numerical_columns = list(data.select_dtypes(include=np.number))\n",
    "numerical_columns"
   ]
  },
  {
   "cell_type": "markdown",
   "id": "f47f0faa",
   "metadata": {},
   "source": [
    "### Фильтровать по названию - 'data.filter()'"
   ]
  },
  {
   "cell_type": "code",
   "execution_count": 44,
   "id": "b461c770",
   "metadata": {
    "ExecuteTime": {
     "end_time": "2023-01-25T07:39:23.471404Z",
     "start_time": "2023-01-25T07:39:23.455898Z"
    }
   },
   "outputs": [
    {
     "data": {
      "text/html": [
       "<div>\n",
       "<style scoped>\n",
       "    .dataframe tbody tr th:only-of-type {\n",
       "        vertical-align: middle;\n",
       "    }\n",
       "\n",
       "    .dataframe tbody tr th {\n",
       "        vertical-align: top;\n",
       "    }\n",
       "\n",
       "    .dataframe thead th {\n",
       "        text-align: right;\n",
       "    }\n",
       "</style>\n",
       "<table border=\"1\" class=\"dataframe\">\n",
       "  <thead>\n",
       "    <tr style=\"text-align: right;\">\n",
       "      <th></th>\n",
       "      <th>Broken Exponentials</th>\n",
       "      <th>Broken Numericals Float</th>\n",
       "    </tr>\n",
       "  </thead>\n",
       "  <tbody>\n",
       "    <tr>\n",
       "      <th>0</th>\n",
       "      <td>1.000000e-02</td>\n",
       "      <td>1.5</td>\n",
       "    </tr>\n",
       "    <tr>\n",
       "      <th>1</th>\n",
       "      <td>1.000000e-02</td>\n",
       "      <td>1,5</td>\n",
       "    </tr>\n",
       "    <tr>\n",
       "      <th>2</th>\n",
       "      <td>1.000000e-10</td>\n",
       "      <td>2</td>\n",
       "    </tr>\n",
       "    <tr>\n",
       "      <th>3</th>\n",
       "      <td>1.000000e-02</td>\n",
       "      <td>2</td>\n",
       "    </tr>\n",
       "    <tr>\n",
       "      <th>4</th>\n",
       "      <td>1.000000e+02</td>\n",
       "      <td>0</td>\n",
       "    </tr>\n",
       "  </tbody>\n",
       "</table>\n",
       "</div>"
      ],
      "text/plain": [
       "   Broken Exponentials Broken Numericals Float\n",
       "0         1.000000e-02                     1.5\n",
       "1         1.000000e-02                     1,5\n",
       "2         1.000000e-10                       2\n",
       "3         1.000000e-02                       2\n",
       "4         1.000000e+02                       0"
      ]
     },
     "execution_count": 44,
     "metadata": {},
     "output_type": "execute_result"
    }
   ],
   "source": [
    "data.filter(like='Broken')"
   ]
  },
  {
   "cell_type": "code",
   "execution_count": 45,
   "id": "93dff8b6",
   "metadata": {
    "ExecuteTime": {
     "end_time": "2023-01-25T07:39:23.554768Z",
     "start_time": "2023-01-25T07:39:23.539148Z"
    }
   },
   "outputs": [
    {
     "data": {
      "text/html": [
       "<div>\n",
       "<style scoped>\n",
       "    .dataframe tbody tr th:only-of-type {\n",
       "        vertical-align: middle;\n",
       "    }\n",
       "\n",
       "    .dataframe tbody tr th {\n",
       "        vertical-align: top;\n",
       "    }\n",
       "\n",
       "    .dataframe thead th {\n",
       "        text-align: right;\n",
       "    }\n",
       "</style>\n",
       "<table border=\"1\" class=\"dataframe\">\n",
       "  <thead>\n",
       "    <tr style=\"text-align: right;\">\n",
       "      <th></th>\n",
       "      <th>Broken Exponentials</th>\n",
       "      <th>Broken Numericals Float</th>\n",
       "    </tr>\n",
       "  </thead>\n",
       "  <tbody>\n",
       "    <tr>\n",
       "      <th>0</th>\n",
       "      <td>1.000000e-02</td>\n",
       "      <td>1.5</td>\n",
       "    </tr>\n",
       "    <tr>\n",
       "      <th>1</th>\n",
       "      <td>1.000000e-02</td>\n",
       "      <td>1,5</td>\n",
       "    </tr>\n",
       "    <tr>\n",
       "      <th>2</th>\n",
       "      <td>1.000000e-10</td>\n",
       "      <td>2</td>\n",
       "    </tr>\n",
       "    <tr>\n",
       "      <th>3</th>\n",
       "      <td>1.000000e-02</td>\n",
       "      <td>2</td>\n",
       "    </tr>\n",
       "    <tr>\n",
       "      <th>4</th>\n",
       "      <td>1.000000e+02</td>\n",
       "      <td>0</td>\n",
       "    </tr>\n",
       "  </tbody>\n",
       "</table>\n",
       "</div>"
      ],
      "text/plain": [
       "   Broken Exponentials Broken Numericals Float\n",
       "0         1.000000e-02                     1.5\n",
       "1         1.000000e-02                     1,5\n",
       "2         1.000000e-10                       2\n",
       "3         1.000000e-02                       2\n",
       "4         1.000000e+02                       0"
      ]
     },
     "execution_count": 45,
     "metadata": {},
     "output_type": "execute_result"
    }
   ],
   "source": [
    "data.filter(regex='^Broken')"
   ]
  },
  {
   "cell_type": "code",
   "execution_count": 38,
   "id": "24b0c618",
   "metadata": {
    "ExecuteTime": {
     "end_time": "2023-01-25T08:44:48.170843Z",
     "start_time": "2023-01-25T08:44:48.117888Z"
    }
   },
   "outputs": [
    {
     "data": {
      "text/html": [
       "<div>\n",
       "<style scoped>\n",
       "    .dataframe tbody tr th:only-of-type {\n",
       "        vertical-align: middle;\n",
       "    }\n",
       "\n",
       "    .dataframe tbody tr th {\n",
       "        vertical-align: top;\n",
       "    }\n",
       "\n",
       "    .dataframe thead th {\n",
       "        text-align: right;\n",
       "    }\n",
       "</style>\n",
       "<table border=\"1\" class=\"dataframe\">\n",
       "  <thead>\n",
       "    <tr style=\"text-align: right;\">\n",
       "      <th></th>\n",
       "      <th>Broken Numericals Float</th>\n",
       "      <th>Broken Exponentials</th>\n",
       "    </tr>\n",
       "  </thead>\n",
       "  <tbody>\n",
       "    <tr>\n",
       "      <th>0</th>\n",
       "      <td>1.5</td>\n",
       "      <td>1.000000e-02</td>\n",
       "    </tr>\n",
       "    <tr>\n",
       "      <th>1</th>\n",
       "      <td>1,5</td>\n",
       "      <td>1.000000e-02</td>\n",
       "    </tr>\n",
       "    <tr>\n",
       "      <th>2</th>\n",
       "      <td>2</td>\n",
       "      <td>1.000000e-10</td>\n",
       "    </tr>\n",
       "    <tr>\n",
       "      <th>3</th>\n",
       "      <td>2</td>\n",
       "      <td>1.000000e-02</td>\n",
       "    </tr>\n",
       "    <tr>\n",
       "      <th>4</th>\n",
       "      <td>0</td>\n",
       "      <td>1.000000e+02</td>\n",
       "    </tr>\n",
       "  </tbody>\n",
       "</table>\n",
       "</div>"
      ],
      "text/plain": [
       "  Broken Numericals Float  Broken Exponentials\n",
       "0                     1.5         1.000000e-02\n",
       "1                     1,5         1.000000e-02\n",
       "2                       2         1.000000e-10\n",
       "3                       2         1.000000e-02\n",
       "4                       0         1.000000e+02"
      ]
     },
     "execution_count": 38,
     "metadata": {},
     "output_type": "execute_result"
    }
   ],
   "source": [
    "use_cols = list(pd.read_csv('data.csv', nrows=1).filter(regex='^Broken'))\n",
    "\n",
    "pd.read_csv('data.csv', usecols=use_cols)"
   ]
  },
  {
   "cell_type": "markdown",
   "id": "420104d6",
   "metadata": {},
   "source": [
    "### Подсчёт встречаемости - `data.value_counts(normalize=True)`"
   ]
  },
  {
   "cell_type": "code",
   "execution_count": 39,
   "id": "1f195761",
   "metadata": {
    "ExecuteTime": {
     "end_time": "2023-01-25T08:45:15.078151Z",
     "start_time": "2023-01-25T08:45:14.611132Z"
    }
   },
   "outputs": [
    {
     "data": {
      "text/plain": [
       "Index  Numericals Int  Numericals Float  Ordered Categoricals  Categoricals  Broken Numericals Float  Broken Exponentials  Inconsistent Categoricals  Missing Data\n",
       "1      1.0             0.25              C                     Ali           1,5                      1e-2                 kazakh                                     0.25\n",
       "2      2.0             0.50              B                     Alisher       2                        1E-10                 Kazakh                    -1              0.25\n",
       "3      3.0             0.75              A                     Ablay         2                         1E-2                KAZAKH                     ?               0.25\n",
       "4      4.0             1.00              A+                    Adilet        0                        1e2                  china                      N/A             0.25\n",
       "dtype: float64"
      ]
     },
     "execution_count": 39,
     "metadata": {},
     "output_type": "execute_result"
    }
   ],
   "source": [
    "data.value_counts(normalize=True)"
   ]
  },
  {
   "cell_type": "code",
   "execution_count": 47,
   "id": "97dafbbb",
   "metadata": {
    "ExecuteTime": {
     "end_time": "2023-01-25T07:39:24.530702Z",
     "start_time": "2023-01-25T07:39:24.499454Z"
    }
   },
   "outputs": [
    {
     "data": {
      "text/plain": [
       "2      0.4\n",
       "0      0.2\n",
       "1.5    0.2\n",
       "1,5    0.2\n",
       "Name: Broken Numericals Float, dtype: float64"
      ]
     },
     "execution_count": 47,
     "metadata": {},
     "output_type": "execute_result"
    }
   ],
   "source": [
    "data['Broken Numericals Float'].value_counts(normalize=True)"
   ]
  },
  {
   "cell_type": "code",
   "execution_count": 48,
   "id": "70aa308a",
   "metadata": {
    "ExecuteTime": {
     "end_time": "2023-01-25T07:39:24.596245Z",
     "start_time": "2023-01-25T07:39:24.564976Z"
    }
   },
   "outputs": [
    {
     "data": {
      "text/plain": [
       "2      2\n",
       "0      1\n",
       "1.5    1\n",
       "1,5    1\n",
       "Name: Broken Numericals Float, dtype: int64"
      ]
     },
     "execution_count": 48,
     "metadata": {},
     "output_type": "execute_result"
    }
   ],
   "source": [
    "data['Broken Numericals Float'].value_counts(normalize=False)"
   ]
  },
  {
   "cell_type": "code",
   "execution_count": 49,
   "id": "65b13e35",
   "metadata": {
    "ExecuteTime": {
     "end_time": "2023-01-25T07:39:25.997647Z",
     "start_time": "2023-01-25T07:39:24.658747Z"
    }
   },
   "outputs": [
    {
     "data": {
      "image/png": "[encoded data removed]",
      "text/plain": [
       "<Figure size 432x288 with 1 Axes>"
      ]
     },
     "metadata": {
      "needs_background": "light"
     },
     "output_type": "display_data"
    }
   ],
   "source": [
    "data['Broken Numericals Float'].value_counts(normalize=True).plot.barh(xlabel='Broken Numericals', ylabel='%',title='Built-in plot usage');"
   ]
  },
  {
   "cell_type": "code",
   "execution_count": 40,
   "id": "fdfc77fa",
   "metadata": {
    "ExecuteTime": {
     "end_time": "2023-01-25T08:47:50.563099Z",
     "start_time": "2023-01-25T08:47:49.457608Z"
    }
   },
   "outputs": [
    {
     "data": {
      "image/png": "[encoded data removed]",
      "text/plain": [
       "<Figure size 432x288 with 1 Axes>"
      ]
     },
     "metadata": {
      "needs_background": "light"
     },
     "output_type": "display_data"
    }
   ],
   "source": [
    "data['Broken Numericals Float'].value_counts(normalize=True).\\\n",
    "    plot.barh(xlabel='Broken Numericals', ylabel='%',title='Built-in plot usage');"
   ]
  },
  {
   "cell_type": "markdown",
   "id": "d7dfe55a",
   "metadata": {},
   "source": [
    "###  Сгруппировать данные - `data.groupby()`"
   ]
  },
  {
   "cell_type": "code",
   "execution_count": 51,
   "id": "512b0c1c",
   "metadata": {
    "ExecuteTime": {
     "end_time": "2023-01-25T07:39:26.181928Z",
     "start_time": "2023-01-25T07:39:26.166293Z"
    }
   },
   "outputs": [
    {
     "data": {
      "text/plain": [
       "Broken Numericals Float\n",
       "0      4.0\n",
       "1,5    1.0\n",
       "1.5    0.0\n",
       "2      2.5\n",
       "Name: Numericals Int, dtype: float64"
      ]
     },
     "execution_count": 51,
     "metadata": {},
     "output_type": "execute_result"
    }
   ],
   "source": [
    "data.groupby(['Broken Numericals Float'])['Numericals Int'].mean()"
   ]
  },
  {
   "cell_type": "code",
   "execution_count": 52,
   "id": "4fe867bc",
   "metadata": {
    "ExecuteTime": {
     "end_time": "2023-01-25T07:39:26.213168Z",
     "start_time": "2023-01-25T07:39:26.181928Z"
    }
   },
   "outputs": [
    {
     "data": {
      "text/html": [
       "<div>\n",
       "<style scoped>\n",
       "    .dataframe tbody tr th:only-of-type {\n",
       "        vertical-align: middle;\n",
       "    }\n",
       "\n",
       "    .dataframe tbody tr th {\n",
       "        vertical-align: top;\n",
       "    }\n",
       "\n",
       "    .dataframe thead th {\n",
       "        text-align: right;\n",
       "    }\n",
       "</style>\n",
       "<table border=\"1\" class=\"dataframe\">\n",
       "  <thead>\n",
       "    <tr style=\"text-align: right;\">\n",
       "      <th></th>\n",
       "      <th>Numericals Int</th>\n",
       "    </tr>\n",
       "    <tr>\n",
       "      <th>Broken Numericals Float</th>\n",
       "      <th></th>\n",
       "    </tr>\n",
       "  </thead>\n",
       "  <tbody>\n",
       "    <tr>\n",
       "      <th>0</th>\n",
       "      <td>4.0</td>\n",
       "    </tr>\n",
       "    <tr>\n",
       "      <th>1,5</th>\n",
       "      <td>1.0</td>\n",
       "    </tr>\n",
       "    <tr>\n",
       "      <th>1.5</th>\n",
       "      <td>0.0</td>\n",
       "    </tr>\n",
       "    <tr>\n",
       "      <th>2</th>\n",
       "      <td>2.5</td>\n",
       "    </tr>\n",
       "  </tbody>\n",
       "</table>\n",
       "</div>"
      ],
      "text/plain": [
       "                         Numericals Int\n",
       "Broken Numericals Float                \n",
       "0                                   4.0\n",
       "1,5                                 1.0\n",
       "1.5                                 0.0\n",
       "2                                   2.5"
      ]
     },
     "execution_count": 52,
     "metadata": {},
     "output_type": "execute_result"
    }
   ],
   "source": [
    "data.groupby(['Broken Numericals Float'])[['Numericals Int']].mean()"
   ]
  },
  {
   "cell_type": "markdown",
   "id": "a79f45a8",
   "metadata": {},
   "source": [
    "### Применить функцию - `data.apply()`"
   ]
  },
  {
   "cell_type": "code",
   "execution_count": 41,
   "id": "bf244558",
   "metadata": {
    "ExecuteTime": {
     "end_time": "2023-01-25T08:49:49.318093Z",
     "start_time": "2023-01-25T08:49:49.300651Z"
    }
   },
   "outputs": [
    {
     "data": {
      "text/plain": [
       "0    1.5\n",
       "1    1,5\n",
       "2      2\n",
       "3      2\n",
       "4      0\n",
       "Name: Broken Numericals Float, dtype: object"
      ]
     },
     "execution_count": 41,
     "metadata": {},
     "output_type": "execute_result"
    }
   ],
   "source": [
    "data['Broken Numericals Float']"
   ]
  },
  {
   "cell_type": "code",
   "execution_count": 53,
   "id": "9696751a",
   "metadata": {
    "ExecuteTime": {
     "end_time": "2023-01-25T07:39:26.435946Z",
     "start_time": "2023-01-25T07:39:26.420298Z"
    }
   },
   "outputs": [],
   "source": [
    "data['Broken Numericals Float'] = data['Broken Numericals Float'].apply(lambda x: str(x).replace(',', '.'))"
   ]
  },
  {
   "cell_type": "code",
   "execution_count": 54,
   "id": "c70e038b",
   "metadata": {
    "ExecuteTime": {
     "end_time": "2023-01-25T07:39:26.498447Z",
     "start_time": "2023-01-25T07:39:26.467196Z"
    }
   },
   "outputs": [
    {
     "data": {
      "text/plain": [
       "Broken Numericals Float\n",
       "0      4.0\n",
       "1.5    0.5\n",
       "2      2.5\n",
       "Name: Numericals Int, dtype: float64"
      ]
     },
     "execution_count": 54,
     "metadata": {},
     "output_type": "execute_result"
    }
   ],
   "source": [
    "data.groupby(['Broken Numericals Float'])['Numericals Int'].mean()"
   ]
  },
  {
   "cell_type": "markdown",
   "id": "3e7c6a40",
   "metadata": {},
   "source": [
    "### Создать копию `data.copy()`"
   ]
  },
  {
   "cell_type": "code",
   "execution_count": 55,
   "id": "13a62695",
   "metadata": {
    "ExecuteTime": {
     "end_time": "2023-01-25T07:39:27.115625Z",
     "start_time": "2023-01-25T07:39:27.100266Z"
    }
   },
   "outputs": [],
   "source": [
    "data_backup = data.copy(deep=True)"
   ]
  },
  {
   "cell_type": "markdown",
   "id": "ebf1914f",
   "metadata": {},
   "source": [
    "### Вывести уникальные значения - `data[col_name].unique()`"
   ]
  },
  {
   "cell_type": "code",
   "execution_count": 42,
   "id": "211b8442",
   "metadata": {
    "ExecuteTime": {
     "end_time": "2023-01-25T08:54:11.989242Z",
     "start_time": "2023-01-25T08:54:11.966240Z"
    }
   },
   "outputs": [
    {
     "data": {
      "text/plain": [
       "KAZAKH     1\n",
       "Kazakh     1\n",
       "china      1\n",
       " Kazakh    1\n",
       "kazakh     1\n",
       "Name: Inconsistent Categoricals, dtype: int64"
      ]
     },
     "execution_count": 42,
     "metadata": {},
     "output_type": "execute_result"
    }
   ],
   "source": [
    "data['Inconsistent Categoricals'].value_counts()"
   ]
  },
  {
   "cell_type": "code",
   "execution_count": 56,
   "id": "305222f7",
   "metadata": {
    "ExecuteTime": {
     "end_time": "2023-01-25T07:39:27.786162Z",
     "start_time": "2023-01-25T07:39:27.770544Z"
    }
   },
   "outputs": [
    {
     "data": {
      "text/plain": [
       "array(['Kazakh', 'kazakh', ' Kazakh', 'KAZAKH', 'china'], dtype=object)"
      ]
     },
     "execution_count": 56,
     "metadata": {},
     "output_type": "execute_result"
    }
   ],
   "source": [
    "data['Inconsistent Categoricals'].unique()"
   ]
  },
  {
   "cell_type": "code",
   "execution_count": 57,
   "id": "8b1ebe8f",
   "metadata": {
    "ExecuteTime": {
     "end_time": "2023-01-25T07:39:27.855239Z",
     "start_time": "2023-01-25T07:39:27.839600Z"
    }
   },
   "outputs": [
    {
     "data": {
      "text/plain": [
       "5"
      ]
     },
     "execution_count": 57,
     "metadata": {},
     "output_type": "execute_result"
    }
   ],
   "source": [
    "data['Inconsistent Categoricals'].nunique()"
   ]
  },
  {
   "cell_type": "markdown",
   "id": "cf2fcc0b",
   "metadata": {},
   "source": [
    "###  Заменть переменные `data.map()`"
   ]
  },
  {
   "cell_type": "code",
   "execution_count": 45,
   "id": "e7571a0c",
   "metadata": {
    "ExecuteTime": {
     "end_time": "2023-01-25T08:56:48.412473Z",
     "start_time": "2023-01-25T08:56:48.396046Z"
    }
   },
   "outputs": [],
   "source": [
    "broken_categoricals_map = {'Kazakh': 'kazakh',\n",
    "                           'kazakh': 'kazakh',\n",
    "                           ' Kazakh': 'kazakh',\n",
    "                           'KAZAKH': 'kazakh',\n",
    "                           'china': 'chinese'}"
   ]
  },
  {
   "cell_type": "code",
   "execution_count": 43,
   "id": "8fcf1f15",
   "metadata": {
    "ExecuteTime": {
     "end_time": "2023-01-25T08:56:34.673774Z",
     "start_time": "2023-01-25T08:56:34.648775Z"
    }
   },
   "outputs": [
    {
     "data": {
      "text/plain": [
       "0     Kazakh\n",
       "1     kazakh\n",
       "2     Kazakh\n",
       "3     KAZAKH\n",
       "4      china\n",
       "Name: Inconsistent Categoricals, dtype: object"
      ]
     },
     "execution_count": 43,
     "metadata": {},
     "output_type": "execute_result"
    }
   ],
   "source": [
    "data['Inconsistent Categoricals']"
   ]
  },
  {
   "cell_type": "code",
   "execution_count": 46,
   "id": "a98b8aac",
   "metadata": {
    "ExecuteTime": {
     "end_time": "2023-01-25T08:56:50.565617Z",
     "start_time": "2023-01-25T08:56:50.555261Z"
    }
   },
   "outputs": [
    {
     "data": {
      "text/plain": [
       "0     kazakh\n",
       "1     kazakh\n",
       "2     kazakh\n",
       "3     kazakh\n",
       "4    chinese\n",
       "Name: Inconsistent Categoricals, dtype: object"
      ]
     },
     "execution_count": 46,
     "metadata": {},
     "output_type": "execute_result"
    }
   ],
   "source": [
    "data['Inconsistent Categoricals'].map(broken_categoricals_map)"
   ]
  },
  {
   "cell_type": "code",
   "execution_count": 60,
   "id": "3efe3c6d",
   "metadata": {
    "ExecuteTime": {
     "end_time": "2023-01-25T07:39:28.588562Z",
     "start_time": "2023-01-25T07:39:28.557314Z"
    }
   },
   "outputs": [
    {
     "data": {
      "text/plain": [
       "0    kazakh\n",
       "1    kazakh\n",
       "2    kazakh\n",
       "3    kazakh\n",
       "4     china\n",
       "Name: Inconsistent Categoricals, dtype: object"
      ]
     },
     "execution_count": 60,
     "metadata": {},
     "output_type": "execute_result"
    }
   ],
   "source": [
    "data['Inconsistent Categoricals'].apply(lambda x: str(x).lower().strip())"
   ]
  },
  {
   "cell_type": "code",
   "execution_count": 47,
   "id": "3f915e72",
   "metadata": {
    "ExecuteTime": {
     "end_time": "2023-01-25T08:57:48.543977Z",
     "start_time": "2023-01-25T08:57:48.526893Z"
    }
   },
   "outputs": [],
   "source": [
    "data['Inconsistent Categoricals'] = data['Inconsistent Categoricals'].map(broken_categoricals_map)"
   ]
  },
  {
   "cell_type": "markdown",
   "id": "5d4f0b6b",
   "metadata": {},
   "source": [
    "### Показвать, подсчитать, заполнить или удалить пропущенные значения - `data.notna()/data.fillna()/data.dropna()`"
   ]
  },
  {
   "cell_type": "code",
   "execution_count": 52,
   "id": "747b4c7f",
   "metadata": {
    "ExecuteTime": {
     "end_time": "2023-01-25T08:59:49.145997Z",
     "start_time": "2023-01-25T08:59:49.075997Z"
    }
   },
   "outputs": [
    {
     "data": {
      "text/plain": [
       "Index                        0.0\n",
       "Numericals Int               0.0\n",
       "Numericals Float             0.0\n",
       "Ordered Categoricals         0.0\n",
       "Categoricals                 0.0\n",
       "Broken Numericals Float      0.0\n",
       "Broken Exponentials          0.0\n",
       "Inconsistent Categoricals    0.0\n",
       "Missing Data                 0.2\n",
       "dtype: float64"
      ]
     },
     "execution_count": 52,
     "metadata": {},
     "output_type": "execute_result"
    }
   ],
   "source": [
    "data.isna().mean()"
   ]
  },
  {
   "cell_type": "code",
   "execution_count": 63,
   "id": "e88a449f",
   "metadata": {
    "ExecuteTime": {
     "end_time": "2023-01-25T07:39:29.521765Z",
     "start_time": "2023-01-25T07:39:29.323170Z"
    }
   },
   "outputs": [
    {
     "data": {
      "text/plain": [
       "<AxesSubplot:>"
      ]
     },
     "execution_count": 63,
     "metadata": {},
     "output_type": "execute_result"
    },
    {
     "data": {
      "image/png": "[encoded data removed]",
      "text/plain": [
       "<Figure size 432x288 with 1 Axes>"
      ]
     },
     "metadata": {
      "needs_background": "light"
     },
     "output_type": "display_data"
    }
   ],
   "source": [
    "data.notna().mean().plot.barh()"
   ]
  },
  {
   "cell_type": "code",
   "execution_count": 53,
   "id": "1d94ef42",
   "metadata": {
    "ExecuteTime": {
     "end_time": "2023-01-25T09:00:58.172768Z",
     "start_time": "2023-01-25T09:00:58.152034Z"
    }
   },
   "outputs": [
    {
     "data": {
      "text/plain": [
       "0    NaN\n",
       "1       \n",
       "2     -1\n",
       "3      ?\n",
       "4    N/A\n",
       "Name: Missing Data, dtype: object"
      ]
     },
     "execution_count": 53,
     "metadata": {},
     "output_type": "execute_result"
    }
   ],
   "source": [
    "data['Missing Data']"
   ]
  },
  {
   "cell_type": "code",
   "execution_count": 64,
   "id": "6d1f99e3",
   "metadata": {
    "ExecuteTime": {
     "end_time": "2023-01-25T07:39:29.543933Z",
     "start_time": "2023-01-25T07:39:29.521765Z"
    }
   },
   "outputs": [
    {
     "data": {
      "text/html": [
       "<div>\n",
       "<style scoped>\n",
       "    .dataframe tbody tr th:only-of-type {\n",
       "        vertical-align: middle;\n",
       "    }\n",
       "\n",
       "    .dataframe tbody tr th {\n",
       "        vertical-align: top;\n",
       "    }\n",
       "\n",
       "    .dataframe thead th {\n",
       "        text-align: right;\n",
       "    }\n",
       "</style>\n",
       "<table border=\"1\" class=\"dataframe\">\n",
       "  <thead>\n",
       "    <tr style=\"text-align: right;\">\n",
       "      <th></th>\n",
       "      <th>Broken Exponentials</th>\n",
       "      <th>Broken Numericals Float</th>\n",
       "      <th>Categoricals</th>\n",
       "      <th>Inconsistent Categoricals</th>\n",
       "      <th>Missing Data</th>\n",
       "      <th>Numericals Float</th>\n",
       "      <th>Numericals Int</th>\n",
       "      <th>Ordered Categoricals</th>\n",
       "    </tr>\n",
       "  </thead>\n",
       "  <tbody>\n",
       "  </tbody>\n",
       "</table>\n",
       "</div>"
      ],
      "text/plain": [
       "Empty DataFrame\n",
       "Columns: [Broken Exponentials, Broken Numericals Float, Categoricals, Inconsistent Categoricals, Missing Data, Numericals Float, Numericals Int, Ordered Categoricals]\n",
       "Index: []"
      ]
     },
     "execution_count": 64,
     "metadata": {},
     "output_type": "execute_result"
    }
   ],
   "source": [
    "data.dropna()"
   ]
  },
  {
   "cell_type": "code",
   "execution_count": 65,
   "id": "93c3a314",
   "metadata": {
    "ExecuteTime": {
     "end_time": "2023-01-25T07:39:29.575183Z",
     "start_time": "2023-01-25T07:39:29.543933Z"
    }
   },
   "outputs": [
    {
     "data": {
      "text/html": [
       "<div>\n",
       "<style scoped>\n",
       "    .dataframe tbody tr th:only-of-type {\n",
       "        vertical-align: middle;\n",
       "    }\n",
       "\n",
       "    .dataframe tbody tr th {\n",
       "        vertical-align: top;\n",
       "    }\n",
       "\n",
       "    .dataframe thead th {\n",
       "        text-align: right;\n",
       "    }\n",
       "</style>\n",
       "<table border=\"1\" class=\"dataframe\">\n",
       "  <thead>\n",
       "    <tr style=\"text-align: right;\">\n",
       "      <th></th>\n",
       "      <th>Broken Exponentials</th>\n",
       "      <th>Broken Numericals Float</th>\n",
       "      <th>Categoricals</th>\n",
       "      <th>Inconsistent Categoricals</th>\n",
       "      <th>Missing Data</th>\n",
       "      <th>Numericals Float</th>\n",
       "      <th>Numericals Int</th>\n",
       "      <th>Ordered Categoricals</th>\n",
       "    </tr>\n",
       "  </thead>\n",
       "  <tbody>\n",
       "  </tbody>\n",
       "</table>\n",
       "</div>"
      ],
      "text/plain": [
       "Empty DataFrame\n",
       "Columns: [Broken Exponentials, Broken Numericals Float, Categoricals, Inconsistent Categoricals, Missing Data, Numericals Float, Numericals Int, Ordered Categoricals]\n",
       "Index: []"
      ]
     },
     "execution_count": 65,
     "metadata": {},
     "output_type": "execute_result"
    }
   ],
   "source": [
    "data.dropna(subset=['Missing Data'])"
   ]
  },
  {
   "cell_type": "code",
   "execution_count": 66,
   "id": "6303fa13",
   "metadata": {
    "ExecuteTime": {
     "end_time": "2023-01-25T07:39:29.590808Z",
     "start_time": "2023-01-25T07:39:29.575183Z"
    }
   },
   "outputs": [
    {
     "data": {
      "text/plain": [
       "0   -1.0\n",
       "1   -1.0\n",
       "2   -1.0\n",
       "3   -1.0\n",
       "4   -1.0\n",
       "Name: Missing Data, dtype: float64"
      ]
     },
     "execution_count": 66,
     "metadata": {},
     "output_type": "execute_result"
    }
   ],
   "source": [
    "data['Missing Data'].fillna(-1)# method ='ffill', value = {'col_name_1' : 0, 'col_name_2' : 'unknown'}"
   ]
  },
  {
   "cell_type": "code",
   "execution_count": 54,
   "id": "4e5b7006",
   "metadata": {
    "ExecuteTime": {
     "end_time": "2023-01-25T09:06:31.059360Z",
     "start_time": "2023-01-25T09:06:31.045296Z"
    }
   },
   "outputs": [],
   "source": [
    "data.drop('Missing Data', axis=1, inplace=True)"
   ]
  },
  {
   "cell_type": "code",
   "execution_count": 55,
   "id": "62324b0a",
   "metadata": {
    "ExecuteTime": {
     "end_time": "2023-01-25T09:06:33.515022Z",
     "start_time": "2023-01-25T09:06:33.483984Z"
    }
   },
   "outputs": [
    {
     "data": {
      "text/html": [
       "<div>\n",
       "<style scoped>\n",
       "    .dataframe tbody tr th:only-of-type {\n",
       "        vertical-align: middle;\n",
       "    }\n",
       "\n",
       "    .dataframe tbody tr th {\n",
       "        vertical-align: top;\n",
       "    }\n",
       "\n",
       "    .dataframe thead th {\n",
       "        text-align: right;\n",
       "    }\n",
       "</style>\n",
       "<table border=\"1\" class=\"dataframe\">\n",
       "  <thead>\n",
       "    <tr style=\"text-align: right;\">\n",
       "      <th></th>\n",
       "      <th>Index</th>\n",
       "      <th>Numericals Int</th>\n",
       "      <th>Numericals Float</th>\n",
       "      <th>Ordered Categoricals</th>\n",
       "      <th>Categoricals</th>\n",
       "      <th>Broken Numericals Float</th>\n",
       "      <th>Broken Exponentials</th>\n",
       "      <th>Inconsistent Categoricals</th>\n",
       "    </tr>\n",
       "  </thead>\n",
       "  <tbody>\n",
       "    <tr>\n",
       "      <th>0</th>\n",
       "      <td>0</td>\n",
       "      <td>0.0</td>\n",
       "      <td>0.00</td>\n",
       "      <td>F</td>\n",
       "      <td>Akerke</td>\n",
       "      <td>1.5</td>\n",
       "      <td>1E-2</td>\n",
       "      <td>kazakh</td>\n",
       "    </tr>\n",
       "    <tr>\n",
       "      <th>1</th>\n",
       "      <td>1</td>\n",
       "      <td>1.0</td>\n",
       "      <td>0.25</td>\n",
       "      <td>C</td>\n",
       "      <td>Ali</td>\n",
       "      <td>1,5</td>\n",
       "      <td>1e-2</td>\n",
       "      <td>kazakh</td>\n",
       "    </tr>\n",
       "    <tr>\n",
       "      <th>2</th>\n",
       "      <td>2</td>\n",
       "      <td>2.0</td>\n",
       "      <td>0.50</td>\n",
       "      <td>B</td>\n",
       "      <td>Alisher</td>\n",
       "      <td>2</td>\n",
       "      <td>1E-10</td>\n",
       "      <td>kazakh</td>\n",
       "    </tr>\n",
       "    <tr>\n",
       "      <th>3</th>\n",
       "      <td>3</td>\n",
       "      <td>3.0</td>\n",
       "      <td>0.75</td>\n",
       "      <td>A</td>\n",
       "      <td>Ablay</td>\n",
       "      <td>2</td>\n",
       "      <td>1E-2</td>\n",
       "      <td>kazakh</td>\n",
       "    </tr>\n",
       "    <tr>\n",
       "      <th>4</th>\n",
       "      <td>4</td>\n",
       "      <td>4.0</td>\n",
       "      <td>1.00</td>\n",
       "      <td>A+</td>\n",
       "      <td>Adilet</td>\n",
       "      <td>0</td>\n",
       "      <td>1e2</td>\n",
       "      <td>chinese</td>\n",
       "    </tr>\n",
       "  </tbody>\n",
       "</table>\n",
       "</div>"
      ],
      "text/plain": [
       "   Index  Numericals Int  Numericals Float Ordered Categoricals Categoricals  \\\n",
       "0      0             0.0              0.00                    F       Akerke   \n",
       "1      1             1.0              0.25                    C          Ali   \n",
       "2      2             2.0              0.50                    B      Alisher   \n",
       "3      3             3.0              0.75                    A        Ablay   \n",
       "4      4             4.0              1.00                   A+       Adilet   \n",
       "\n",
       "  Broken Numericals Float Broken Exponentials Inconsistent Categoricals  \n",
       "0                     1.5                1E-2                    kazakh  \n",
       "1                     1,5                1e-2                    kazakh  \n",
       "2                       2               1E-10                    kazakh  \n",
       "3                       2                1E-2                    kazakh  \n",
       "4                       0                 1e2                   chinese  "
      ]
     },
     "execution_count": 55,
     "metadata": {},
     "output_type": "execute_result"
    }
   ],
   "source": [
    "data"
   ]
  },
  {
   "cell_type": "markdown",
   "id": "19427626",
   "metadata": {},
   "source": [
    "### Логические условия\n",
    "\n",
    "#### and - `&`\n",
    "#### or -` |`\n",
    "#### xor - `^`\n",
    "#### equal - `==`\n",
    "#### not equal - `!=`\n",
    "#### `data[col_name].isin()`\n",
    "#### `data[col_name].str.contains()`\n",
    "#### Запросы `data.query()`"
   ]
  },
  {
   "cell_type": "code",
   "execution_count": 62,
   "id": "bc48d854",
   "metadata": {
    "ExecuteTime": {
     "end_time": "2023-01-25T09:10:21.963225Z",
     "start_time": "2023-01-25T09:10:21.946596Z"
    }
   },
   "outputs": [
    {
     "data": {
      "text/plain": [
       "0    False\n",
       "1     True\n",
       "2     True\n",
       "3     True\n",
       "4     True\n",
       "Name: Categoricals, dtype: bool"
      ]
     },
     "execution_count": 62,
     "metadata": {},
     "output_type": "execute_result"
    }
   ],
   "source": [
    "~(data[\"Categoricals\"]== 'Akerke')"
   ]
  },
  {
   "cell_type": "code",
   "execution_count": 56,
   "id": "dc17d708",
   "metadata": {
    "ExecuteTime": {
     "end_time": "2023-01-25T09:08:42.151763Z",
     "start_time": "2023-01-25T09:08:42.084723Z"
    }
   },
   "outputs": [
    {
     "data": {
      "text/html": [
       "<div>\n",
       "<style scoped>\n",
       "    .dataframe tbody tr th:only-of-type {\n",
       "        vertical-align: middle;\n",
       "    }\n",
       "\n",
       "    .dataframe tbody tr th {\n",
       "        vertical-align: top;\n",
       "    }\n",
       "\n",
       "    .dataframe thead th {\n",
       "        text-align: right;\n",
       "    }\n",
       "</style>\n",
       "<table border=\"1\" class=\"dataframe\">\n",
       "  <thead>\n",
       "    <tr style=\"text-align: right;\">\n",
       "      <th></th>\n",
       "      <th>Index</th>\n",
       "      <th>Numericals Int</th>\n",
       "      <th>Numericals Float</th>\n",
       "      <th>Ordered Categoricals</th>\n",
       "      <th>Categoricals</th>\n",
       "      <th>Broken Numericals Float</th>\n",
       "      <th>Broken Exponentials</th>\n",
       "      <th>Inconsistent Categoricals</th>\n",
       "    </tr>\n",
       "  </thead>\n",
       "  <tbody>\n",
       "    <tr>\n",
       "      <th>0</th>\n",
       "      <td>0</td>\n",
       "      <td>0.0</td>\n",
       "      <td>0.0</td>\n",
       "      <td>F</td>\n",
       "      <td>Akerke</td>\n",
       "      <td>1.5</td>\n",
       "      <td>1E-2</td>\n",
       "      <td>kazakh</td>\n",
       "    </tr>\n",
       "  </tbody>\n",
       "</table>\n",
       "</div>"
      ],
      "text/plain": [
       "   Index  Numericals Int  Numericals Float Ordered Categoricals Categoricals  \\\n",
       "0      0             0.0               0.0                    F       Akerke   \n",
       "\n",
       "  Broken Numericals Float Broken Exponentials Inconsistent Categoricals  \n",
       "0                     1.5                1E-2                    kazakh  "
      ]
     },
     "execution_count": 56,
     "metadata": {},
     "output_type": "execute_result"
    }
   ],
   "source": [
    "data[data[\"Categoricals\"] == 'Akerke']"
   ]
  },
  {
   "cell_type": "code",
   "execution_count": 59,
   "id": "699e50e1",
   "metadata": {
    "ExecuteTime": {
     "end_time": "2023-01-25T09:09:20.731026Z",
     "start_time": "2023-01-25T09:09:20.685935Z"
    }
   },
   "outputs": [
    {
     "data": {
      "text/html": [
       "<div>\n",
       "<style scoped>\n",
       "    .dataframe tbody tr th:only-of-type {\n",
       "        vertical-align: middle;\n",
       "    }\n",
       "\n",
       "    .dataframe tbody tr th {\n",
       "        vertical-align: top;\n",
       "    }\n",
       "\n",
       "    .dataframe thead th {\n",
       "        text-align: right;\n",
       "    }\n",
       "</style>\n",
       "<table border=\"1\" class=\"dataframe\">\n",
       "  <thead>\n",
       "    <tr style=\"text-align: right;\">\n",
       "      <th></th>\n",
       "      <th>Index</th>\n",
       "      <th>Numericals Int</th>\n",
       "      <th>Numericals Float</th>\n",
       "      <th>Ordered Categoricals</th>\n",
       "      <th>Categoricals</th>\n",
       "      <th>Broken Numericals Float</th>\n",
       "      <th>Broken Exponentials</th>\n",
       "      <th>Inconsistent Categoricals</th>\n",
       "    </tr>\n",
       "  </thead>\n",
       "  <tbody>\n",
       "    <tr>\n",
       "      <th>1</th>\n",
       "      <td>1</td>\n",
       "      <td>1.0</td>\n",
       "      <td>0.25</td>\n",
       "      <td>C</td>\n",
       "      <td>Ali</td>\n",
       "      <td>1,5</td>\n",
       "      <td>1e-2</td>\n",
       "      <td>kazakh</td>\n",
       "    </tr>\n",
       "    <tr>\n",
       "      <th>2</th>\n",
       "      <td>2</td>\n",
       "      <td>2.0</td>\n",
       "      <td>0.50</td>\n",
       "      <td>B</td>\n",
       "      <td>Alisher</td>\n",
       "      <td>2</td>\n",
       "      <td>1E-10</td>\n",
       "      <td>kazakh</td>\n",
       "    </tr>\n",
       "    <tr>\n",
       "      <th>3</th>\n",
       "      <td>3</td>\n",
       "      <td>3.0</td>\n",
       "      <td>0.75</td>\n",
       "      <td>A</td>\n",
       "      <td>Ablay</td>\n",
       "      <td>2</td>\n",
       "      <td>1E-2</td>\n",
       "      <td>kazakh</td>\n",
       "    </tr>\n",
       "    <tr>\n",
       "      <th>4</th>\n",
       "      <td>4</td>\n",
       "      <td>4.0</td>\n",
       "      <td>1.00</td>\n",
       "      <td>A+</td>\n",
       "      <td>Adilet</td>\n",
       "      <td>0</td>\n",
       "      <td>1e2</td>\n",
       "      <td>chinese</td>\n",
       "    </tr>\n",
       "  </tbody>\n",
       "</table>\n",
       "</div>"
      ],
      "text/plain": [
       "   Index  Numericals Int  Numericals Float Ordered Categoricals Categoricals  \\\n",
       "1      1             1.0              0.25                    C          Ali   \n",
       "2      2             2.0              0.50                    B      Alisher   \n",
       "3      3             3.0              0.75                    A        Ablay   \n",
       "4      4             4.0              1.00                   A+       Adilet   \n",
       "\n",
       "  Broken Numericals Float Broken Exponentials Inconsistent Categoricals  \n",
       "1                     1,5                1e-2                    kazakh  \n",
       "2                       2               1E-10                    kazakh  \n",
       "3                       2                1E-2                    kazakh  \n",
       "4                       0                 1e2                   chinese  "
      ]
     },
     "execution_count": 59,
     "metadata": {},
     "output_type": "execute_result"
    }
   ],
   "source": [
    "data[data.Categoricals != 'Akerke']"
   ]
  },
  {
   "cell_type": "code",
   "execution_count": 60,
   "id": "b6462d5f",
   "metadata": {
    "ExecuteTime": {
     "end_time": "2023-01-25T09:09:25.640746Z",
     "start_time": "2023-01-25T09:09:25.602745Z"
    }
   },
   "outputs": [
    {
     "data": {
      "text/html": [
       "<div>\n",
       "<style scoped>\n",
       "    .dataframe tbody tr th:only-of-type {\n",
       "        vertical-align: middle;\n",
       "    }\n",
       "\n",
       "    .dataframe tbody tr th {\n",
       "        vertical-align: top;\n",
       "    }\n",
       "\n",
       "    .dataframe thead th {\n",
       "        text-align: right;\n",
       "    }\n",
       "</style>\n",
       "<table border=\"1\" class=\"dataframe\">\n",
       "  <thead>\n",
       "    <tr style=\"text-align: right;\">\n",
       "      <th></th>\n",
       "      <th>Index</th>\n",
       "      <th>Numericals Int</th>\n",
       "      <th>Numericals Float</th>\n",
       "      <th>Ordered Categoricals</th>\n",
       "      <th>Categoricals</th>\n",
       "      <th>Broken Numericals Float</th>\n",
       "      <th>Broken Exponentials</th>\n",
       "      <th>Inconsistent Categoricals</th>\n",
       "    </tr>\n",
       "  </thead>\n",
       "  <tbody>\n",
       "    <tr>\n",
       "      <th>0</th>\n",
       "      <td>0</td>\n",
       "      <td>0.0</td>\n",
       "      <td>0.0</td>\n",
       "      <td>F</td>\n",
       "      <td>Akerke</td>\n",
       "      <td>1.5</td>\n",
       "      <td>1E-2</td>\n",
       "      <td>kazakh</td>\n",
       "    </tr>\n",
       "    <tr>\n",
       "      <th>2</th>\n",
       "      <td>2</td>\n",
       "      <td>2.0</td>\n",
       "      <td>0.5</td>\n",
       "      <td>B</td>\n",
       "      <td>Alisher</td>\n",
       "      <td>2</td>\n",
       "      <td>1E-10</td>\n",
       "      <td>kazakh</td>\n",
       "    </tr>\n",
       "  </tbody>\n",
       "</table>\n",
       "</div>"
      ],
      "text/plain": [
       "   Index  Numericals Int  Numericals Float Ordered Categoricals Categoricals  \\\n",
       "0      0             0.0               0.0                    F       Akerke   \n",
       "2      2             2.0               0.5                    B      Alisher   \n",
       "\n",
       "  Broken Numericals Float Broken Exponentials Inconsistent Categoricals  \n",
       "0                     1.5                1E-2                    kazakh  \n",
       "2                       2               1E-10                    kazakh  "
      ]
     },
     "execution_count": 60,
     "metadata": {},
     "output_type": "execute_result"
    }
   ],
   "source": [
    "data[data.Categoricals.isin(['Akerke', 'Alisher'])]"
   ]
  },
  {
   "cell_type": "code",
   "execution_count": 63,
   "id": "3a68f25d",
   "metadata": {
    "ExecuteTime": {
     "end_time": "2023-01-25T09:10:31.106375Z",
     "start_time": "2023-01-25T09:10:31.077297Z"
    }
   },
   "outputs": [
    {
     "data": {
      "text/html": [
       "<div>\n",
       "<style scoped>\n",
       "    .dataframe tbody tr th:only-of-type {\n",
       "        vertical-align: middle;\n",
       "    }\n",
       "\n",
       "    .dataframe tbody tr th {\n",
       "        vertical-align: top;\n",
       "    }\n",
       "\n",
       "    .dataframe thead th {\n",
       "        text-align: right;\n",
       "    }\n",
       "</style>\n",
       "<table border=\"1\" class=\"dataframe\">\n",
       "  <thead>\n",
       "    <tr style=\"text-align: right;\">\n",
       "      <th></th>\n",
       "      <th>Index</th>\n",
       "      <th>Numericals Int</th>\n",
       "      <th>Numericals Float</th>\n",
       "      <th>Ordered Categoricals</th>\n",
       "      <th>Categoricals</th>\n",
       "      <th>Broken Numericals Float</th>\n",
       "      <th>Broken Exponentials</th>\n",
       "      <th>Inconsistent Categoricals</th>\n",
       "    </tr>\n",
       "  </thead>\n",
       "  <tbody>\n",
       "    <tr>\n",
       "      <th>1</th>\n",
       "      <td>1</td>\n",
       "      <td>1.0</td>\n",
       "      <td>0.25</td>\n",
       "      <td>C</td>\n",
       "      <td>Ali</td>\n",
       "      <td>1,5</td>\n",
       "      <td>1e-2</td>\n",
       "      <td>kazakh</td>\n",
       "    </tr>\n",
       "    <tr>\n",
       "      <th>3</th>\n",
       "      <td>3</td>\n",
       "      <td>3.0</td>\n",
       "      <td>0.75</td>\n",
       "      <td>A</td>\n",
       "      <td>Ablay</td>\n",
       "      <td>2</td>\n",
       "      <td>1E-2</td>\n",
       "      <td>kazakh</td>\n",
       "    </tr>\n",
       "    <tr>\n",
       "      <th>4</th>\n",
       "      <td>4</td>\n",
       "      <td>4.0</td>\n",
       "      <td>1.00</td>\n",
       "      <td>A+</td>\n",
       "      <td>Adilet</td>\n",
       "      <td>0</td>\n",
       "      <td>1e2</td>\n",
       "      <td>chinese</td>\n",
       "    </tr>\n",
       "  </tbody>\n",
       "</table>\n",
       "</div>"
      ],
      "text/plain": [
       "   Index  Numericals Int  Numericals Float Ordered Categoricals Categoricals  \\\n",
       "1      1             1.0              0.25                    C          Ali   \n",
       "3      3             3.0              0.75                    A        Ablay   \n",
       "4      4             4.0              1.00                   A+       Adilet   \n",
       "\n",
       "  Broken Numericals Float Broken Exponentials Inconsistent Categoricals  \n",
       "1                     1,5                1e-2                    kazakh  \n",
       "3                       2                1E-2                    kazakh  \n",
       "4                       0                 1e2                   chinese  "
      ]
     },
     "execution_count": 63,
     "metadata": {},
     "output_type": "execute_result"
    }
   ],
   "source": [
    "data[~data.Categoricals.isin(['Akerke', 'Alisher'])]"
   ]
  },
  {
   "cell_type": "code",
   "execution_count": 72,
   "id": "89f99c0b",
   "metadata": {
    "ExecuteTime": {
     "end_time": "2023-01-25T07:39:30.593737Z",
     "start_time": "2023-01-25T07:39:30.562491Z"
    }
   },
   "outputs": [
    {
     "data": {
      "text/html": [
       "<div>\n",
       "<style scoped>\n",
       "    .dataframe tbody tr th:only-of-type {\n",
       "        vertical-align: middle;\n",
       "    }\n",
       "\n",
       "    .dataframe tbody tr th {\n",
       "        vertical-align: top;\n",
       "    }\n",
       "\n",
       "    .dataframe thead th {\n",
       "        text-align: right;\n",
       "    }\n",
       "</style>\n",
       "<table border=\"1\" class=\"dataframe\">\n",
       "  <thead>\n",
       "    <tr style=\"text-align: right;\">\n",
       "      <th></th>\n",
       "      <th>Broken Exponentials</th>\n",
       "      <th>Broken Numericals Float</th>\n",
       "      <th>Categoricals</th>\n",
       "      <th>Inconsistent Categoricals</th>\n",
       "      <th>Numericals Float</th>\n",
       "      <th>Numericals Int</th>\n",
       "      <th>Ordered Categoricals</th>\n",
       "    </tr>\n",
       "  </thead>\n",
       "  <tbody>\n",
       "    <tr>\n",
       "      <th>0</th>\n",
       "      <td>0.01</td>\n",
       "      <td>1.5</td>\n",
       "      <td>Akerke</td>\n",
       "      <td>kazakh</td>\n",
       "      <td>0.0</td>\n",
       "      <td>0.0</td>\n",
       "      <td>F</td>\n",
       "    </tr>\n",
       "  </tbody>\n",
       "</table>\n",
       "</div>"
      ],
      "text/plain": [
       "   Broken Exponentials Broken Numericals Float Categoricals  \\\n",
       "0                 0.01                     1.5       Akerke   \n",
       "\n",
       "  Inconsistent Categoricals  Numericals Float  Numericals Int  \\\n",
       "0                    kazakh               0.0             0.0   \n",
       "\n",
       "  Ordered Categoricals  \n",
       "0                    F  "
      ]
     },
     "execution_count": 72,
     "metadata": {},
     "output_type": "execute_result"
    }
   ],
   "source": [
    "data[~data.Categoricals.str.contains('l')]"
   ]
  },
  {
   "cell_type": "code",
   "execution_count": 64,
   "id": "09df267d",
   "metadata": {
    "ExecuteTime": {
     "end_time": "2023-01-25T09:11:46.168143Z",
     "start_time": "2023-01-25T09:11:46.089019Z"
    }
   },
   "outputs": [
    {
     "data": {
      "text/html": [
       "<div>\n",
       "<style scoped>\n",
       "    .dataframe tbody tr th:only-of-type {\n",
       "        vertical-align: middle;\n",
       "    }\n",
       "\n",
       "    .dataframe tbody tr th {\n",
       "        vertical-align: top;\n",
       "    }\n",
       "\n",
       "    .dataframe thead th {\n",
       "        text-align: right;\n",
       "    }\n",
       "</style>\n",
       "<table border=\"1\" class=\"dataframe\">\n",
       "  <thead>\n",
       "    <tr style=\"text-align: right;\">\n",
       "      <th></th>\n",
       "      <th>Index</th>\n",
       "      <th>Numericals Int</th>\n",
       "      <th>Numericals Float</th>\n",
       "      <th>Ordered Categoricals</th>\n",
       "      <th>Categoricals</th>\n",
       "      <th>Broken Numericals Float</th>\n",
       "      <th>Broken Exponentials</th>\n",
       "      <th>Inconsistent Categoricals</th>\n",
       "    </tr>\n",
       "  </thead>\n",
       "  <tbody>\n",
       "    <tr>\n",
       "      <th>4</th>\n",
       "      <td>4</td>\n",
       "      <td>4.0</td>\n",
       "      <td>1.0</td>\n",
       "      <td>A+</td>\n",
       "      <td>Adilet</td>\n",
       "      <td>0</td>\n",
       "      <td>1e2</td>\n",
       "      <td>chinese</td>\n",
       "    </tr>\n",
       "  </tbody>\n",
       "</table>\n",
       "</div>"
      ],
      "text/plain": [
       "   Index  Numericals Int  Numericals Float Ordered Categoricals Categoricals  \\\n",
       "4      4             4.0               1.0                   A+       Adilet   \n",
       "\n",
       "  Broken Numericals Float Broken Exponentials Inconsistent Categoricals  \n",
       "4                       0                 1e2                   chinese  "
      ]
     },
     "execution_count": 64,
     "metadata": {},
     "output_type": "execute_result"
    }
   ],
   "source": [
    "data[(data.Categoricals.str.contains('l')) & (data['Inconsistent Categoricals'] == 'chinese')]"
   ]
  },
  {
   "cell_type": "code",
   "execution_count": 65,
   "id": "1d5068fd",
   "metadata": {
    "ExecuteTime": {
     "end_time": "2023-01-25T09:12:09.045839Z",
     "start_time": "2023-01-25T09:12:08.987213Z"
    }
   },
   "outputs": [
    {
     "data": {
      "text/html": [
       "<div>\n",
       "<style scoped>\n",
       "    .dataframe tbody tr th:only-of-type {\n",
       "        vertical-align: middle;\n",
       "    }\n",
       "\n",
       "    .dataframe tbody tr th {\n",
       "        vertical-align: top;\n",
       "    }\n",
       "\n",
       "    .dataframe thead th {\n",
       "        text-align: right;\n",
       "    }\n",
       "</style>\n",
       "<table border=\"1\" class=\"dataframe\">\n",
       "  <thead>\n",
       "    <tr style=\"text-align: right;\">\n",
       "      <th></th>\n",
       "      <th>Index</th>\n",
       "      <th>Numericals Int</th>\n",
       "      <th>Numericals Float</th>\n",
       "      <th>Ordered Categoricals</th>\n",
       "      <th>Categoricals</th>\n",
       "      <th>Broken Numericals Float</th>\n",
       "      <th>Broken Exponentials</th>\n",
       "      <th>Inconsistent Categoricals</th>\n",
       "    </tr>\n",
       "  </thead>\n",
       "  <tbody>\n",
       "    <tr>\n",
       "      <th>0</th>\n",
       "      <td>0</td>\n",
       "      <td>0.0</td>\n",
       "      <td>0.0</td>\n",
       "      <td>F</td>\n",
       "      <td>Akerke</td>\n",
       "      <td>1.5</td>\n",
       "      <td>1E-2</td>\n",
       "      <td>kazakh</td>\n",
       "    </tr>\n",
       "  </tbody>\n",
       "</table>\n",
       "</div>"
      ],
      "text/plain": [
       "   Index  Numericals Int  Numericals Float Ordered Categoricals Categoricals  \\\n",
       "0      0             0.0               0.0                    F       Akerke   \n",
       "\n",
       "  Broken Numericals Float Broken Exponentials Inconsistent Categoricals  \n",
       "0                     1.5                1E-2                    kazakh  "
      ]
     },
     "execution_count": 65,
     "metadata": {},
     "output_type": "execute_result"
    }
   ],
   "source": [
    "data.query(\"Categoricals == 'Akerke'\")"
   ]
  },
  {
   "cell_type": "code",
   "execution_count": 75,
   "id": "024af861",
   "metadata": {
    "ExecuteTime": {
     "end_time": "2023-01-25T07:39:30.847723Z",
     "start_time": "2023-01-25T07:39:30.822044Z"
    }
   },
   "outputs": [
    {
     "data": {
      "text/html": [
       "<div>\n",
       "<style scoped>\n",
       "    .dataframe tbody tr th:only-of-type {\n",
       "        vertical-align: middle;\n",
       "    }\n",
       "\n",
       "    .dataframe tbody tr th {\n",
       "        vertical-align: top;\n",
       "    }\n",
       "\n",
       "    .dataframe thead th {\n",
       "        text-align: right;\n",
       "    }\n",
       "</style>\n",
       "<table border=\"1\" class=\"dataframe\">\n",
       "  <thead>\n",
       "    <tr style=\"text-align: right;\">\n",
       "      <th></th>\n",
       "      <th>Broken Exponentials</th>\n",
       "      <th>Broken Numericals Float</th>\n",
       "      <th>Categoricals</th>\n",
       "      <th>Inconsistent Categoricals</th>\n",
       "      <th>Numericals Float</th>\n",
       "      <th>Numericals Int</th>\n",
       "      <th>Ordered Categoricals</th>\n",
       "    </tr>\n",
       "  </thead>\n",
       "  <tbody>\n",
       "    <tr>\n",
       "      <th>0</th>\n",
       "      <td>0.01</td>\n",
       "      <td>1.5</td>\n",
       "      <td>Akerke</td>\n",
       "      <td>kazakh</td>\n",
       "      <td>0.0</td>\n",
       "      <td>0.0</td>\n",
       "      <td>F</td>\n",
       "    </tr>\n",
       "  </tbody>\n",
       "</table>\n",
       "</div>"
      ],
      "text/plain": [
       "   Broken Exponentials Broken Numericals Float Categoricals  \\\n",
       "0                 0.01                     1.5       Akerke   \n",
       "\n",
       "  Inconsistent Categoricals  Numericals Float  Numericals Int  \\\n",
       "0                    kazakh               0.0             0.0   \n",
       "\n",
       "  Ordered Categoricals  \n",
       "0                    F  "
      ]
     },
     "execution_count": 75,
     "metadata": {},
     "output_type": "execute_result"
    }
   ],
   "source": [
    "name = 'Akerke'\n",
    "\n",
    "data.query(\"Categoricals == @name\")"
   ]
  },
  {
   "cell_type": "code",
   "execution_count": 76,
   "id": "51d0953e",
   "metadata": {
    "ExecuteTime": {
     "end_time": "2023-01-25T07:39:30.994906Z",
     "start_time": "2023-01-25T07:39:30.910219Z"
    }
   },
   "outputs": [
    {
     "data": {
      "text/html": [
       "<div>\n",
       "<style scoped>\n",
       "    .dataframe tbody tr th:only-of-type {\n",
       "        vertical-align: middle;\n",
       "    }\n",
       "\n",
       "    .dataframe tbody tr th {\n",
       "        vertical-align: top;\n",
       "    }\n",
       "\n",
       "    .dataframe thead th {\n",
       "        text-align: right;\n",
       "    }\n",
       "</style>\n",
       "<table border=\"1\" class=\"dataframe\">\n",
       "  <thead>\n",
       "    <tr style=\"text-align: right;\">\n",
       "      <th></th>\n",
       "      <th>Broken Exponentials</th>\n",
       "      <th>Broken Numericals Float</th>\n",
       "      <th>Categoricals</th>\n",
       "      <th>Inconsistent Categoricals</th>\n",
       "      <th>Numericals Float</th>\n",
       "      <th>Numericals Int</th>\n",
       "      <th>Ordered Categoricals</th>\n",
       "    </tr>\n",
       "  </thead>\n",
       "  <tbody>\n",
       "    <tr>\n",
       "      <th>0</th>\n",
       "      <td>0.01</td>\n",
       "      <td>1.5</td>\n",
       "      <td>Akerke</td>\n",
       "      <td>kazakh</td>\n",
       "      <td>0.0</td>\n",
       "      <td>0.0</td>\n",
       "      <td>F</td>\n",
       "    </tr>\n",
       "  </tbody>\n",
       "</table>\n",
       "</div>"
      ],
      "text/plain": [
       "   Broken Exponentials Broken Numericals Float Categoricals  \\\n",
       "0                 0.01                     1.5       Akerke   \n",
       "\n",
       "  Inconsistent Categoricals  Numericals Float  Numericals Int  \\\n",
       "0                    kazakh               0.0             0.0   \n",
       "\n",
       "  Ordered Categoricals  \n",
       "0                    F  "
      ]
     },
     "metadata": {},
     "output_type": "display_data"
    },
    {
     "data": {
      "text/html": [
       "<div>\n",
       "<style scoped>\n",
       "    .dataframe tbody tr th:only-of-type {\n",
       "        vertical-align: middle;\n",
       "    }\n",
       "\n",
       "    .dataframe tbody tr th {\n",
       "        vertical-align: top;\n",
       "    }\n",
       "\n",
       "    .dataframe thead th {\n",
       "        text-align: right;\n",
       "    }\n",
       "</style>\n",
       "<table border=\"1\" class=\"dataframe\">\n",
       "  <thead>\n",
       "    <tr style=\"text-align: right;\">\n",
       "      <th></th>\n",
       "      <th>Broken Exponentials</th>\n",
       "      <th>Broken Numericals Float</th>\n",
       "      <th>Categoricals</th>\n",
       "      <th>Inconsistent Categoricals</th>\n",
       "      <th>Numericals Float</th>\n",
       "      <th>Numericals Int</th>\n",
       "      <th>Ordered Categoricals</th>\n",
       "    </tr>\n",
       "  </thead>\n",
       "  <tbody>\n",
       "    <tr>\n",
       "      <th>1</th>\n",
       "      <td>0.01</td>\n",
       "      <td>1.5</td>\n",
       "      <td>Ali</td>\n",
       "      <td>kazakh</td>\n",
       "      <td>0.25</td>\n",
       "      <td>1.0</td>\n",
       "      <td>C</td>\n",
       "    </tr>\n",
       "  </tbody>\n",
       "</table>\n",
       "</div>"
      ],
      "text/plain": [
       "   Broken Exponentials Broken Numericals Float Categoricals  \\\n",
       "1                 0.01                     1.5          Ali   \n",
       "\n",
       "  Inconsistent Categoricals  Numericals Float  Numericals Int  \\\n",
       "1                    kazakh              0.25             1.0   \n",
       "\n",
       "  Ordered Categoricals  \n",
       "1                    C  "
      ]
     },
     "metadata": {},
     "output_type": "display_data"
    },
    {
     "data": {
      "text/html": [
       "<div>\n",
       "<style scoped>\n",
       "    .dataframe tbody tr th:only-of-type {\n",
       "        vertical-align: middle;\n",
       "    }\n",
       "\n",
       "    .dataframe tbody tr th {\n",
       "        vertical-align: top;\n",
       "    }\n",
       "\n",
       "    .dataframe thead th {\n",
       "        text-align: right;\n",
       "    }\n",
       "</style>\n",
       "<table border=\"1\" class=\"dataframe\">\n",
       "  <thead>\n",
       "    <tr style=\"text-align: right;\">\n",
       "      <th></th>\n",
       "      <th>Broken Exponentials</th>\n",
       "      <th>Broken Numericals Float</th>\n",
       "      <th>Categoricals</th>\n",
       "      <th>Inconsistent Categoricals</th>\n",
       "      <th>Numericals Float</th>\n",
       "      <th>Numericals Int</th>\n",
       "      <th>Ordered Categoricals</th>\n",
       "    </tr>\n",
       "  </thead>\n",
       "  <tbody>\n",
       "    <tr>\n",
       "      <th>2</th>\n",
       "      <td>1.000000e-10</td>\n",
       "      <td>2</td>\n",
       "      <td>Alisher</td>\n",
       "      <td>kazakh</td>\n",
       "      <td>0.5</td>\n",
       "      <td>2.0</td>\n",
       "      <td>B</td>\n",
       "    </tr>\n",
       "  </tbody>\n",
       "</table>\n",
       "</div>"
      ],
      "text/plain": [
       "   Broken Exponentials Broken Numericals Float Categoricals  \\\n",
       "2         1.000000e-10                       2      Alisher   \n",
       "\n",
       "  Inconsistent Categoricals  Numericals Float  Numericals Int  \\\n",
       "2                    kazakh               0.5             2.0   \n",
       "\n",
       "  Ordered Categoricals  \n",
       "2                    B  "
      ]
     },
     "metadata": {},
     "output_type": "display_data"
    },
    {
     "data": {
      "text/html": [
       "<div>\n",
       "<style scoped>\n",
       "    .dataframe tbody tr th:only-of-type {\n",
       "        vertical-align: middle;\n",
       "    }\n",
       "\n",
       "    .dataframe tbody tr th {\n",
       "        vertical-align: top;\n",
       "    }\n",
       "\n",
       "    .dataframe thead th {\n",
       "        text-align: right;\n",
       "    }\n",
       "</style>\n",
       "<table border=\"1\" class=\"dataframe\">\n",
       "  <thead>\n",
       "    <tr style=\"text-align: right;\">\n",
       "      <th></th>\n",
       "      <th>Broken Exponentials</th>\n",
       "      <th>Broken Numericals Float</th>\n",
       "      <th>Categoricals</th>\n",
       "      <th>Inconsistent Categoricals</th>\n",
       "      <th>Numericals Float</th>\n",
       "      <th>Numericals Int</th>\n",
       "      <th>Ordered Categoricals</th>\n",
       "    </tr>\n",
       "  </thead>\n",
       "  <tbody>\n",
       "    <tr>\n",
       "      <th>3</th>\n",
       "      <td>0.01</td>\n",
       "      <td>2</td>\n",
       "      <td>Ablay</td>\n",
       "      <td>kazakh</td>\n",
       "      <td>0.75</td>\n",
       "      <td>3.0</td>\n",
       "      <td>A</td>\n",
       "    </tr>\n",
       "  </tbody>\n",
       "</table>\n",
       "</div>"
      ],
      "text/plain": [
       "   Broken Exponentials Broken Numericals Float Categoricals  \\\n",
       "3                 0.01                       2        Ablay   \n",
       "\n",
       "  Inconsistent Categoricals  Numericals Float  Numericals Int  \\\n",
       "3                    kazakh              0.75             3.0   \n",
       "\n",
       "  Ordered Categoricals  \n",
       "3                    A  "
      ]
     },
     "metadata": {},
     "output_type": "display_data"
    },
    {
     "data": {
      "text/html": [
       "<div>\n",
       "<style scoped>\n",
       "    .dataframe tbody tr th:only-of-type {\n",
       "        vertical-align: middle;\n",
       "    }\n",
       "\n",
       "    .dataframe tbody tr th {\n",
       "        vertical-align: top;\n",
       "    }\n",
       "\n",
       "    .dataframe thead th {\n",
       "        text-align: right;\n",
       "    }\n",
       "</style>\n",
       "<table border=\"1\" class=\"dataframe\">\n",
       "  <thead>\n",
       "    <tr style=\"text-align: right;\">\n",
       "      <th></th>\n",
       "      <th>Broken Exponentials</th>\n",
       "      <th>Broken Numericals Float</th>\n",
       "      <th>Categoricals</th>\n",
       "      <th>Inconsistent Categoricals</th>\n",
       "      <th>Numericals Float</th>\n",
       "      <th>Numericals Int</th>\n",
       "      <th>Ordered Categoricals</th>\n",
       "    </tr>\n",
       "  </thead>\n",
       "  <tbody>\n",
       "    <tr>\n",
       "      <th>4</th>\n",
       "      <td>100.0</td>\n",
       "      <td>0</td>\n",
       "      <td>Adilet</td>\n",
       "      <td>chinese</td>\n",
       "      <td>1.0</td>\n",
       "      <td>4.0</td>\n",
       "      <td>A+</td>\n",
       "    </tr>\n",
       "  </tbody>\n",
       "</table>\n",
       "</div>"
      ],
      "text/plain": [
       "   Broken Exponentials Broken Numericals Float Categoricals  \\\n",
       "4                100.0                       0       Adilet   \n",
       "\n",
       "  Inconsistent Categoricals  Numericals Float  Numericals Int  \\\n",
       "4                   chinese               1.0             4.0   \n",
       "\n",
       "  Ordered Categoricals  \n",
       "4                   A+  "
      ]
     },
     "metadata": {},
     "output_type": "display_data"
    }
   ],
   "source": [
    "for name in data.Categoricals.unique():\n",
    "    display(data.query(\"Categoricals == @name\"))"
   ]
  },
  {
   "cell_type": "markdown",
   "id": "961d674e",
   "metadata": {},
   "source": [
    "### 'data.rename()'\n"
   ]
  },
  {
   "cell_type": "code",
   "execution_count": 77,
   "id": "36bf3772",
   "metadata": {
    "ExecuteTime": {
     "end_time": "2023-01-25T07:39:31.717407Z",
     "start_time": "2023-01-25T07:39:31.701473Z"
    }
   },
   "outputs": [
    {
     "data": {
      "text/plain": [
       "['Broken Exponentials',\n",
       " 'Broken Numericals Float',\n",
       " 'Categoricals',\n",
       " 'Inconsistent Categoricals',\n",
       " 'Numericals Float',\n",
       " 'Numericals Int',\n",
       " 'Ordered Categoricals']"
      ]
     },
     "execution_count": 77,
     "metadata": {},
     "output_type": "execute_result"
    }
   ],
   "source": [
    "list(data)"
   ]
  },
  {
   "cell_type": "code",
   "execution_count": 66,
   "id": "c6954988",
   "metadata": {
    "ExecuteTime": {
     "end_time": "2023-01-25T09:13:44.849434Z",
     "start_time": "2023-01-25T09:13:44.820788Z"
    }
   },
   "outputs": [
    {
     "data": {
      "text/html": [
       "<div>\n",
       "<style scoped>\n",
       "    .dataframe tbody tr th:only-of-type {\n",
       "        vertical-align: middle;\n",
       "    }\n",
       "\n",
       "    .dataframe tbody tr th {\n",
       "        vertical-align: top;\n",
       "    }\n",
       "\n",
       "    .dataframe thead th {\n",
       "        text-align: right;\n",
       "    }\n",
       "</style>\n",
       "<table border=\"1\" class=\"dataframe\">\n",
       "  <thead>\n",
       "    <tr style=\"text-align: right;\">\n",
       "      <th></th>\n",
       "      <th>Index</th>\n",
       "      <th>Answers</th>\n",
       "      <th>Average</th>\n",
       "      <th>Mark</th>\n",
       "      <th>Name</th>\n",
       "      <th>GPA</th>\n",
       "      <th>Coefficient</th>\n",
       "      <th>Nationality</th>\n",
       "    </tr>\n",
       "  </thead>\n",
       "  <tbody>\n",
       "    <tr>\n",
       "      <th>0</th>\n",
       "      <td>0</td>\n",
       "      <td>0.0</td>\n",
       "      <td>0.00</td>\n",
       "      <td>F</td>\n",
       "      <td>Akerke</td>\n",
       "      <td>1.5</td>\n",
       "      <td>1E-2</td>\n",
       "      <td>kazakh</td>\n",
       "    </tr>\n",
       "    <tr>\n",
       "      <th>1</th>\n",
       "      <td>1</td>\n",
       "      <td>1.0</td>\n",
       "      <td>0.25</td>\n",
       "      <td>C</td>\n",
       "      <td>Ali</td>\n",
       "      <td>1,5</td>\n",
       "      <td>1e-2</td>\n",
       "      <td>kazakh</td>\n",
       "    </tr>\n",
       "    <tr>\n",
       "      <th>2</th>\n",
       "      <td>2</td>\n",
       "      <td>2.0</td>\n",
       "      <td>0.50</td>\n",
       "      <td>B</td>\n",
       "      <td>Alisher</td>\n",
       "      <td>2</td>\n",
       "      <td>1E-10</td>\n",
       "      <td>kazakh</td>\n",
       "    </tr>\n",
       "    <tr>\n",
       "      <th>3</th>\n",
       "      <td>3</td>\n",
       "      <td>3.0</td>\n",
       "      <td>0.75</td>\n",
       "      <td>A</td>\n",
       "      <td>Ablay</td>\n",
       "      <td>2</td>\n",
       "      <td>1E-2</td>\n",
       "      <td>kazakh</td>\n",
       "    </tr>\n",
       "    <tr>\n",
       "      <th>4</th>\n",
       "      <td>4</td>\n",
       "      <td>4.0</td>\n",
       "      <td>1.00</td>\n",
       "      <td>A+</td>\n",
       "      <td>Adilet</td>\n",
       "      <td>0</td>\n",
       "      <td>1e2</td>\n",
       "      <td>chinese</td>\n",
       "    </tr>\n",
       "  </tbody>\n",
       "</table>\n",
       "</div>"
      ],
      "text/plain": [
       "   Index  Answers  Average Mark     Name  GPA Coefficient Nationality\n",
       "0      0      0.0     0.00    F   Akerke  1.5        1E-2      kazakh\n",
       "1      1      1.0     0.25    C      Ali  1,5        1e-2      kazakh\n",
       "2      2      2.0     0.50    B  Alisher    2       1E-10      kazakh\n",
       "3      3      3.0     0.75    A    Ablay    2        1E-2      kazakh\n",
       "4      4      4.0     1.00   A+   Adilet    0         1e2     chinese"
      ]
     },
     "execution_count": 66,
     "metadata": {},
     "output_type": "execute_result"
    }
   ],
   "source": [
    "column_map = {'Broken Exponentials': 'Coefficient',\n",
    "              'Broken Numericals Float': 'GPA',\n",
    "              'Categoricals': 'Name',\n",
    "              'Inconsistent Categoricals': 'Nationality',\n",
    "              'Numericals Float': 'Average',\n",
    "              'Numericals Int': 'Answers',\n",
    "              'Ordered Categoricals': 'Mark'}\n",
    "\n",
    "data = data.rename(columns=column_map)\n",
    "\n",
    "data"
   ]
  },
  {
   "cell_type": "markdown",
   "id": "76aa9243",
   "metadata": {},
   "source": [
    "### 'pd.merge'"
   ]
  },
  {
   "cell_type": "code",
   "execution_count": 67,
   "id": "960463ed",
   "metadata": {
    "ExecuteTime": {
     "end_time": "2023-01-25T09:14:23.255341Z",
     "start_time": "2023-01-25T09:14:23.214808Z"
    }
   },
   "outputs": [
    {
     "ename": "NameError",
     "evalue": "name 'data_backup' is not defined",
     "output_type": "error",
     "traceback": [
      "\u001b[1;31m---------------------------------------------------------------------------\u001b[0m",
      "\u001b[1;31mNameError\u001b[0m                                 Traceback (most recent call last)",
      "\u001b[1;32m<ipython-input-67-daeb8ece8830>\u001b[0m in \u001b[0;36m<module>\u001b[1;34m\u001b[0m\n\u001b[1;32m----> 1\u001b[1;33m \u001b[0mdata_backup\u001b[0m\u001b[1;33m\u001b[0m\u001b[1;33m\u001b[0m\u001b[0m\n\u001b[0m",
      "\u001b[1;31mNameError\u001b[0m: name 'data_backup' is not defined"
     ]
    }
   ],
   "source": [
    "data_backup"
   ]
  },
  {
   "cell_type": "code",
   "execution_count": 79,
   "id": "c32501be",
   "metadata": {
    "ExecuteTime": {
     "end_time": "2023-01-25T07:39:32.617376Z",
     "start_time": "2023-01-25T07:39:32.568089Z"
    }
   },
   "outputs": [
    {
     "data": {
      "text/html": [
       "<div>\n",
       "<style scoped>\n",
       "    .dataframe tbody tr th:only-of-type {\n",
       "        vertical-align: middle;\n",
       "    }\n",
       "\n",
       "    .dataframe tbody tr th {\n",
       "        vertical-align: top;\n",
       "    }\n",
       "\n",
       "    .dataframe thead th {\n",
       "        text-align: right;\n",
       "    }\n",
       "</style>\n",
       "<table border=\"1\" class=\"dataframe\">\n",
       "  <thead>\n",
       "    <tr style=\"text-align: right;\">\n",
       "      <th></th>\n",
       "      <th>Broken Exponentials</th>\n",
       "      <th>Broken Numericals Float</th>\n",
       "      <th>Categoricals</th>\n",
       "      <th>Inconsistent Categoricals</th>\n",
       "      <th>Missing Data</th>\n",
       "      <th>Numericals Float</th>\n",
       "      <th>Numericals Int</th>\n",
       "      <th>Ordered Categoricals</th>\n",
       "      <th>Coefficient</th>\n",
       "      <th>GPA</th>\n",
       "      <th>Name</th>\n",
       "      <th>Nationality</th>\n",
       "      <th>Average</th>\n",
       "      <th>Answers</th>\n",
       "      <th>Mark</th>\n",
       "    </tr>\n",
       "  </thead>\n",
       "  <tbody>\n",
       "    <tr>\n",
       "      <th>0</th>\n",
       "      <td>1.000000e-02</td>\n",
       "      <td>1.5</td>\n",
       "      <td>Akerke</td>\n",
       "      <td>Kazakh</td>\n",
       "      <td>NaN</td>\n",
       "      <td>0.00</td>\n",
       "      <td>0.0</td>\n",
       "      <td>F</td>\n",
       "      <td>1.000000e-02</td>\n",
       "      <td>1.5</td>\n",
       "      <td>Akerke</td>\n",
       "      <td>kazakh</td>\n",
       "      <td>0.00</td>\n",
       "      <td>0.0</td>\n",
       "      <td>F</td>\n",
       "    </tr>\n",
       "    <tr>\n",
       "      <th>1</th>\n",
       "      <td>1.000000e-02</td>\n",
       "      <td>1.5</td>\n",
       "      <td>Ali</td>\n",
       "      <td>kazakh</td>\n",
       "      <td>NaN</td>\n",
       "      <td>0.25</td>\n",
       "      <td>1.0</td>\n",
       "      <td>C</td>\n",
       "      <td>1.000000e-02</td>\n",
       "      <td>1.5</td>\n",
       "      <td>Ali</td>\n",
       "      <td>kazakh</td>\n",
       "      <td>0.25</td>\n",
       "      <td>1.0</td>\n",
       "      <td>C</td>\n",
       "    </tr>\n",
       "    <tr>\n",
       "      <th>2</th>\n",
       "      <td>1.000000e-10</td>\n",
       "      <td>2</td>\n",
       "      <td>Alisher</td>\n",
       "      <td>Kazakh</td>\n",
       "      <td>NaN</td>\n",
       "      <td>0.50</td>\n",
       "      <td>2.0</td>\n",
       "      <td>B</td>\n",
       "      <td>1.000000e-10</td>\n",
       "      <td>2</td>\n",
       "      <td>Alisher</td>\n",
       "      <td>kazakh</td>\n",
       "      <td>0.50</td>\n",
       "      <td>2.0</td>\n",
       "      <td>B</td>\n",
       "    </tr>\n",
       "    <tr>\n",
       "      <th>3</th>\n",
       "      <td>1.000000e-02</td>\n",
       "      <td>2</td>\n",
       "      <td>Ablay</td>\n",
       "      <td>KAZAKH</td>\n",
       "      <td>NaN</td>\n",
       "      <td>0.75</td>\n",
       "      <td>3.0</td>\n",
       "      <td>A</td>\n",
       "      <td>1.000000e-02</td>\n",
       "      <td>2</td>\n",
       "      <td>Ablay</td>\n",
       "      <td>kazakh</td>\n",
       "      <td>0.75</td>\n",
       "      <td>3.0</td>\n",
       "      <td>A</td>\n",
       "    </tr>\n",
       "    <tr>\n",
       "      <th>4</th>\n",
       "      <td>1.000000e+02</td>\n",
       "      <td>0</td>\n",
       "      <td>Adilet</td>\n",
       "      <td>china</td>\n",
       "      <td>NaN</td>\n",
       "      <td>1.00</td>\n",
       "      <td>4.0</td>\n",
       "      <td>A+</td>\n",
       "      <td>1.000000e+02</td>\n",
       "      <td>0</td>\n",
       "      <td>Adilet</td>\n",
       "      <td>chinese</td>\n",
       "      <td>1.00</td>\n",
       "      <td>4.0</td>\n",
       "      <td>A+</td>\n",
       "    </tr>\n",
       "  </tbody>\n",
       "</table>\n",
       "</div>"
      ],
      "text/plain": [
       "   Broken Exponentials Broken Numericals Float Categoricals  \\\n",
       "0         1.000000e-02                     1.5       Akerke   \n",
       "1         1.000000e-02                     1.5          Ali   \n",
       "2         1.000000e-10                       2      Alisher   \n",
       "3         1.000000e-02                       2        Ablay   \n",
       "4         1.000000e+02                       0       Adilet   \n",
       "\n",
       "  Inconsistent Categoricals  Missing Data  Numericals Float  Numericals Int  \\\n",
       "0                    Kazakh           NaN              0.00             0.0   \n",
       "1                    kazakh           NaN              0.25             1.0   \n",
       "2                    Kazakh           NaN              0.50             2.0   \n",
       "3                    KAZAKH           NaN              0.75             3.0   \n",
       "4                     china           NaN              1.00             4.0   \n",
       "\n",
       "  Ordered Categoricals   Coefficient  GPA     Name Nationality  Average  \\\n",
       "0                    F  1.000000e-02  1.5   Akerke      kazakh     0.00   \n",
       "1                    C  1.000000e-02  1.5      Ali      kazakh     0.25   \n",
       "2                    B  1.000000e-10    2  Alisher      kazakh     0.50   \n",
       "3                    A  1.000000e-02    2    Ablay      kazakh     0.75   \n",
       "4                   A+  1.000000e+02    0   Adilet     chinese     1.00   \n",
       "\n",
       "   Answers Mark  \n",
       "0      0.0    F  \n",
       "1      1.0    C  \n",
       "2      2.0    B  \n",
       "3      3.0    A  \n",
       "4      4.0   A+  "
      ]
     },
     "execution_count": 79,
     "metadata": {},
     "output_type": "execute_result"
    }
   ],
   "source": [
    "pd.merge(data_backup, data, left_on = 'Categoricals', right_on='Name', how='left')"
   ]
  },
  {
   "cell_type": "markdown",
   "id": "8ec96aac",
   "metadata": {},
   "source": [
    "## Чтение батчами - `pd.read_csv(chunk_size=N)`"
   ]
  },
  {
   "cell_type": "code",
   "execution_count": 68,
   "id": "aec82e78",
   "metadata": {
    "ExecuteTime": {
     "end_time": "2023-01-25T09:16:13.165181Z",
     "start_time": "2023-01-25T09:16:13.050099Z"
    }
   },
   "outputs": [
    {
     "data": {
      "text/html": [
       "<div>\n",
       "<style scoped>\n",
       "    .dataframe tbody tr th:only-of-type {\n",
       "        vertical-align: middle;\n",
       "    }\n",
       "\n",
       "    .dataframe tbody tr th {\n",
       "        vertical-align: top;\n",
       "    }\n",
       "\n",
       "    .dataframe thead th {\n",
       "        text-align: right;\n",
       "    }\n",
       "</style>\n",
       "<table border=\"1\" class=\"dataframe\">\n",
       "  <thead>\n",
       "    <tr style=\"text-align: right;\">\n",
       "      <th></th>\n",
       "      <th>Index</th>\n",
       "      <th>Numericals Int</th>\n",
       "      <th>Numericals Float</th>\n",
       "      <th>Ordered Categoricals</th>\n",
       "      <th>Categoricals</th>\n",
       "      <th>Broken Numericals Float</th>\n",
       "      <th>Broken Exponentials</th>\n",
       "      <th>Inconsistent Categoricals</th>\n",
       "      <th>Missing Data</th>\n",
       "    </tr>\n",
       "  </thead>\n",
       "  <tbody>\n",
       "    <tr>\n",
       "      <th>0</th>\n",
       "      <td>0</td>\n",
       "      <td>0</td>\n",
       "      <td>0.0</td>\n",
       "      <td>F</td>\n",
       "      <td>Akerke</td>\n",
       "      <td>1.5</td>\n",
       "      <td>0.01</td>\n",
       "      <td>Kazakh</td>\n",
       "      <td>NaN</td>\n",
       "    </tr>\n",
       "  </tbody>\n",
       "</table>\n",
       "</div>"
      ],
      "text/plain": [
       "   Index  Numericals Int  Numericals Float Ordered Categoricals Categoricals  \\\n",
       "0      0               0               0.0                    F       Akerke   \n",
       "\n",
       "   Broken Numericals Float  Broken Exponentials Inconsistent Categoricals  \\\n",
       "0                      1.5                 0.01                    Kazakh   \n",
       "\n",
       "   Missing Data  \n",
       "0           NaN  "
      ]
     },
     "metadata": {},
     "output_type": "display_data"
    },
    {
     "data": {
      "text/html": [
       "<div>\n",
       "<style scoped>\n",
       "    .dataframe tbody tr th:only-of-type {\n",
       "        vertical-align: middle;\n",
       "    }\n",
       "\n",
       "    .dataframe tbody tr th {\n",
       "        vertical-align: top;\n",
       "    }\n",
       "\n",
       "    .dataframe thead th {\n",
       "        text-align: right;\n",
       "    }\n",
       "</style>\n",
       "<table border=\"1\" class=\"dataframe\">\n",
       "  <thead>\n",
       "    <tr style=\"text-align: right;\">\n",
       "      <th></th>\n",
       "      <th>Index</th>\n",
       "      <th>Numericals Int</th>\n",
       "      <th>Numericals Float</th>\n",
       "      <th>Ordered Categoricals</th>\n",
       "      <th>Categoricals</th>\n",
       "      <th>Broken Numericals Float</th>\n",
       "      <th>Broken Exponentials</th>\n",
       "      <th>Inconsistent Categoricals</th>\n",
       "      <th>Missing Data</th>\n",
       "    </tr>\n",
       "  </thead>\n",
       "  <tbody>\n",
       "    <tr>\n",
       "      <th>1</th>\n",
       "      <td>1</td>\n",
       "      <td>1</td>\n",
       "      <td>0.25</td>\n",
       "      <td>C</td>\n",
       "      <td>Ali</td>\n",
       "      <td>1,5</td>\n",
       "      <td>0.01</td>\n",
       "      <td>kazakh</td>\n",
       "      <td>NaN</td>\n",
       "    </tr>\n",
       "  </tbody>\n",
       "</table>\n",
       "</div>"
      ],
      "text/plain": [
       "   Index  Numericals Int  Numericals Float Ordered Categoricals Categoricals  \\\n",
       "1      1               1              0.25                    C          Ali   \n",
       "\n",
       "  Broken Numericals Float  Broken Exponentials Inconsistent Categoricals  \\\n",
       "1                     1,5                 0.01                    kazakh   \n",
       "\n",
       "   Missing Data  \n",
       "1           NaN  "
      ]
     },
     "metadata": {},
     "output_type": "display_data"
    },
    {
     "data": {
      "text/html": [
       "<div>\n",
       "<style scoped>\n",
       "    .dataframe tbody tr th:only-of-type {\n",
       "        vertical-align: middle;\n",
       "    }\n",
       "\n",
       "    .dataframe tbody tr th {\n",
       "        vertical-align: top;\n",
       "    }\n",
       "\n",
       "    .dataframe thead th {\n",
       "        text-align: right;\n",
       "    }\n",
       "</style>\n",
       "<table border=\"1\" class=\"dataframe\">\n",
       "  <thead>\n",
       "    <tr style=\"text-align: right;\">\n",
       "      <th></th>\n",
       "      <th>Index</th>\n",
       "      <th>Numericals Int</th>\n",
       "      <th>Numericals Float</th>\n",
       "      <th>Ordered Categoricals</th>\n",
       "      <th>Categoricals</th>\n",
       "      <th>Broken Numericals Float</th>\n",
       "      <th>Broken Exponentials</th>\n",
       "      <th>Inconsistent Categoricals</th>\n",
       "      <th>Missing Data</th>\n",
       "    </tr>\n",
       "  </thead>\n",
       "  <tbody>\n",
       "    <tr>\n",
       "      <th>2</th>\n",
       "      <td>2</td>\n",
       "      <td>2</td>\n",
       "      <td>0.5</td>\n",
       "      <td>B</td>\n",
       "      <td>Alisher</td>\n",
       "      <td>2</td>\n",
       "      <td>1.000000e-10</td>\n",
       "      <td>Kazakh</td>\n",
       "      <td>-1</td>\n",
       "    </tr>\n",
       "  </tbody>\n",
       "</table>\n",
       "</div>"
      ],
      "text/plain": [
       "   Index  Numericals Int  Numericals Float Ordered Categoricals Categoricals  \\\n",
       "2      2               2               0.5                    B      Alisher   \n",
       "\n",
       "   Broken Numericals Float  Broken Exponentials Inconsistent Categoricals  \\\n",
       "2                        2         1.000000e-10                    Kazakh   \n",
       "\n",
       "   Missing Data  \n",
       "2            -1  "
      ]
     },
     "metadata": {},
     "output_type": "display_data"
    },
    {
     "data": {
      "text/html": [
       "<div>\n",
       "<style scoped>\n",
       "    .dataframe tbody tr th:only-of-type {\n",
       "        vertical-align: middle;\n",
       "    }\n",
       "\n",
       "    .dataframe tbody tr th {\n",
       "        vertical-align: top;\n",
       "    }\n",
       "\n",
       "    .dataframe thead th {\n",
       "        text-align: right;\n",
       "    }\n",
       "</style>\n",
       "<table border=\"1\" class=\"dataframe\">\n",
       "  <thead>\n",
       "    <tr style=\"text-align: right;\">\n",
       "      <th></th>\n",
       "      <th>Index</th>\n",
       "      <th>Numericals Int</th>\n",
       "      <th>Numericals Float</th>\n",
       "      <th>Ordered Categoricals</th>\n",
       "      <th>Categoricals</th>\n",
       "      <th>Broken Numericals Float</th>\n",
       "      <th>Broken Exponentials</th>\n",
       "      <th>Inconsistent Categoricals</th>\n",
       "      <th>Missing Data</th>\n",
       "    </tr>\n",
       "  </thead>\n",
       "  <tbody>\n",
       "    <tr>\n",
       "      <th>3</th>\n",
       "      <td>3</td>\n",
       "      <td>3</td>\n",
       "      <td>0.75</td>\n",
       "      <td>A</td>\n",
       "      <td>Ablay</td>\n",
       "      <td>2</td>\n",
       "      <td>0.01</td>\n",
       "      <td>KAZAKH</td>\n",
       "      <td>?</td>\n",
       "    </tr>\n",
       "  </tbody>\n",
       "</table>\n",
       "</div>"
      ],
      "text/plain": [
       "   Index  Numericals Int  Numericals Float Ordered Categoricals Categoricals  \\\n",
       "3      3               3              0.75                    A        Ablay   \n",
       "\n",
       "   Broken Numericals Float  Broken Exponentials Inconsistent Categoricals  \\\n",
       "3                        2                 0.01                    KAZAKH   \n",
       "\n",
       "  Missing Data  \n",
       "3            ?  "
      ]
     },
     "metadata": {},
     "output_type": "display_data"
    },
    {
     "data": {
      "text/html": [
       "<div>\n",
       "<style scoped>\n",
       "    .dataframe tbody tr th:only-of-type {\n",
       "        vertical-align: middle;\n",
       "    }\n",
       "\n",
       "    .dataframe tbody tr th {\n",
       "        vertical-align: top;\n",
       "    }\n",
       "\n",
       "    .dataframe thead th {\n",
       "        text-align: right;\n",
       "    }\n",
       "</style>\n",
       "<table border=\"1\" class=\"dataframe\">\n",
       "  <thead>\n",
       "    <tr style=\"text-align: right;\">\n",
       "      <th></th>\n",
       "      <th>Index</th>\n",
       "      <th>Numericals Int</th>\n",
       "      <th>Numericals Float</th>\n",
       "      <th>Ordered Categoricals</th>\n",
       "      <th>Categoricals</th>\n",
       "      <th>Broken Numericals Float</th>\n",
       "      <th>Broken Exponentials</th>\n",
       "      <th>Inconsistent Categoricals</th>\n",
       "      <th>Missing Data</th>\n",
       "    </tr>\n",
       "  </thead>\n",
       "  <tbody>\n",
       "    <tr>\n",
       "      <th>4</th>\n",
       "      <td>4</td>\n",
       "      <td>4</td>\n",
       "      <td>1.0</td>\n",
       "      <td>A+</td>\n",
       "      <td>Adilet</td>\n",
       "      <td>0</td>\n",
       "      <td>100.0</td>\n",
       "      <td>china</td>\n",
       "      <td>NaN</td>\n",
       "    </tr>\n",
       "  </tbody>\n",
       "</table>\n",
       "</div>"
      ],
      "text/plain": [
       "   Index  Numericals Int  Numericals Float Ordered Categoricals Categoricals  \\\n",
       "4      4               4               1.0                   A+       Adilet   \n",
       "\n",
       "   Broken Numericals Float  Broken Exponentials Inconsistent Categoricals  \\\n",
       "4                        0                100.0                     china   \n",
       "\n",
       "   Missing Data  \n",
       "4           NaN  "
      ]
     },
     "metadata": {},
     "output_type": "display_data"
    }
   ],
   "source": [
    "chunk_reader = pd.read_csv('data.csv', chunksize=1)\n",
    "\n",
    "for chunk in chunk_reader:\n",
    "    display(chunk)"
   ]
  },
  {
   "cell_type": "markdown",
   "id": "40739226",
   "metadata": {},
   "source": [
    "## Запись батчами - `chunk.to_csv(mode='a', header=None)`"
   ]
  },
  {
   "cell_type": "code",
   "execution_count": 69,
   "id": "e766d487",
   "metadata": {
    "ExecuteTime": {
     "end_time": "2023-01-25T09:16:43.519705Z",
     "start_time": "2023-01-25T09:16:43.483597Z"
    }
   },
   "outputs": [],
   "source": [
    "chunk_reader = pd.read_csv('data.csv', chunksize=1)\n",
    "\n",
    "for chunk in chunk_reader:\n",
    "    chunk.to_csv('data_chunk.csv', mode='a', header=None)"
   ]
  },
  {
   "cell_type": "code",
   "execution_count": 82,
   "id": "41fb9b25",
   "metadata": {
    "ExecuteTime": {
     "end_time": "2023-01-25T07:39:34.171597Z",
     "start_time": "2023-01-25T07:39:34.155972Z"
    }
   },
   "outputs": [
    {
     "name": "stdout",
     "output_type": "stream",
     "text": [
      "['0,0,0,0.0,F,Akerke,1.5,0.01,Kazakh,\\n', '1,1,1,0.25,C,Ali,\"1,5\",0.01,kazakh,\\n', '2,2,2,0.5,B,Alisher,2,1e-10, Kazakh,-1\\n', '3,3,3,0.75,A,Ablay,2,0.01,KAZAKH,?\\n', '4,4,4,1.0,A+,Adilet,0,100.0,china,\\n']\n"
     ]
    }
   ],
   "source": [
    "#! cat data_chunk.csv | head -n 5\n",
    "\n",
    "with open('data_chunk.csv', 'r') as f:\n",
    "    print(f.readlines())"
   ]
  },
  {
   "cell_type": "markdown",
   "id": "18771a47",
   "metadata": {},
   "source": [
    "# [Pandasparallel](https://github.com/nalepae/pandarallel?ysclid=ldb9qrkk1h261074156)"
   ]
  },
  {
   "cell_type": "code",
   "execution_count": 83,
   "id": "3f512368",
   "metadata": {
    "ExecuteTime": {
     "end_time": "2023-01-25T07:39:34.904187Z",
     "start_time": "2023-01-25T07:39:34.888565Z"
    }
   },
   "outputs": [],
   "source": [
    "# !pip install pandarallel\n",
    "\n",
    "# from pandarallel import pandarallel\n",
    "\n",
    "# pandarallel.initialize(progress_bar=True)\n",
    "\n",
    "# df.parallel_apply(func)"
   ]
  },
  {
   "cell_type": "code",
   "execution_count": null,
   "id": "8e330a1b",
   "metadata": {},
   "outputs": [],
   "source": []
  }
 ],
 "metadata": {
  "kernelspec": {
   "display_name": "Python 3",
   "language": "python",
   "name": "python3"
  },
  "language_info": {
   "codemirror_mode": {
    "name": "ipython",
    "version": 3
   },
   "file_extension": ".py",
   "mimetype": "text/x-python",
   "name": "python",
   "nbconvert_exporter": "python",
   "pygments_lexer": "ipython3",
   "version": "3.8.8"
  },
  "latex_envs": {
   "LaTeX_envs_menu_present": true,
   "autoclose": false,
   "autocomplete": true,
   "bibliofile": "biblio.bib",
   "cite_by": "apalike",
   "current_citInitial": 1,
   "eqLabelWithNumbers": true,
   "eqNumInitial": 1,
   "hotkeys": {
    "equation": "Ctrl-E",
    "itemize": "Ctrl-I"
   },
   "labels_anchors": false,
   "latex_user_defs": false,
   "report_style_numbering": false,
   "user_envs_cfg": false
  },
  "nbTranslate": {
   "displayLangs": [
    "*"
   ],
   "hotkey": "alt-t",
   "langInMainMenu": true,
   "sourceLang": "en",
   "targetLang": "fr",
   "useGoogleTranslate": true
  },
  "toc": {
   "base_numbering": 1,
   "nav_menu": {},
   "number_sections": true,
   "sideBar": true,
   "skip_h1_title": false,
   "title_cell": "Table of Contents",
   "title_sidebar": "Contents",
   "toc_cell": true,
   "toc_position": {},
   "toc_section_display": true,
   "toc_window_display": false
  }
 },
 "nbformat": 4,
 "nbformat_minor": 5
}
