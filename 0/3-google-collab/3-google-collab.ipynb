{
 "cells": [
  {
   "cell_type": "markdown",
   "id": "8f4be6fc",
   "metadata": {
    "toc": true
   },
   "source": [
    "<h1>Table of Contents<span class=\"tocSkip\"></span></h1>\n",
    "<div class=\"toc\"><ul class=\"toc-item\"><li><span><a href=\"#У-меня-есть-аккаунт-Google.-Как-я-могу-использовать-Google-Collab?\" data-toc-modified-id=\"У-меня-есть-аккаунт-Google.-Как-я-могу-использовать-Google-Collab?-1\"><span class=\"toc-item-num\">1&nbsp;&nbsp;</span>У меня есть аккаунт Google. Как я могу использовать Google Collab?</a></span></li><li><span><a href=\"#Кaк-подключить-Google-Disc-для-чтения-с-него-файлов-в-Google-Collab?\" data-toc-modified-id=\"Кaк-подключить-Google-Disc-для-чтения-с-него-файлов-в-Google-Collab?-2\"><span class=\"toc-item-num\">2&nbsp;&nbsp;</span>Кaк подключить Google Disc для чтения с него файлов в Google Collab?</a></span></li><li><span><a href=\"#Кaк-временно-загрузить-данные-в-Google-Collab?\" data-toc-modified-id=\"Кaк-временно-загрузить-данные-в-Google-Collab?-3\"><span class=\"toc-item-num\">3&nbsp;&nbsp;</span>Кaк временно загрузить данные в Google Collab?</a></span></li></ul></div>"
   ]
  },
  {
   "cell_type": "markdown",
   "id": "17d11a12",
   "metadata": {},
   "source": [
    "# У меня есть аккаунт Google. Как я могу использовать Google Collab?\n",
    "\n",
    "0. Войдите в свою учётную запись Google\n",
    "1. Чтобы воспользоваться Google Collab, перейдите на [страницу сервиса](https://colab.research.google.com/).\n",
    "2. Загрузите файл .ipynb или создайте новый блокнот.\n",
    "3. Подключитесь к среде выполнения (происходит автоматически).\n",
    "4. Подключите Google Диск или загрузите временные файлы для работы"
   ]
  },
  {
   "cell_type": "markdown",
   "id": "28da221f",
   "metadata": {},
   "source": [
    "![](collab-load.png)"
   ]
  },
  {
   "cell_type": "markdown",
   "id": "8785300e",
   "metadata": {},
   "source": [
    "# Кaк подключить Google Disc для чтения с него файлов в Google Collab?\n",
    "\n",
    "1. Нажимте на кнопку в левой части экрана (1)\n",
    "2. Проиграёте ячейку с кодом (2)\n",
    "\n",
    "![](collab-connect.png)"
   ]
  },
  {
   "cell_type": "markdown",
   "id": "e4a057cb",
   "metadata": {},
   "source": [
    "# Кaк временно загрузить данные в Google Collab?\n",
    "\n",
    "1. Нажимте на кнопку в левой части экрана (1)\n",
    "\n",
    "![](collab-upload.png)"
   ]
  },
  {
   "cell_type": "code",
   "execution_count": null,
   "id": "626dfafb",
   "metadata": {},
   "outputs": [],
   "source": []
  }
 ],
 "metadata": {
  "kernelspec": {
   "display_name": "Python 3",
   "language": "python",
   "name": "python3"
  },
  "language_info": {
   "codemirror_mode": {
    "name": "ipython",
    "version": 3
   },
   "file_extension": ".py",
   "mimetype": "text/x-python",
   "name": "python",
   "nbconvert_exporter": "python",
   "pygments_lexer": "ipython3",
   "version": "3.8.8"
  },
  "latex_envs": {
   "LaTeX_envs_menu_present": true,
   "autoclose": false,
   "autocomplete": true,
   "bibliofile": "biblio.bib",
   "cite_by": "apalike",
   "current_citInitial": 1,
   "eqLabelWithNumbers": true,
   "eqNumInitial": 1,
   "hotkeys": {
    "equation": "Ctrl-E",
    "itemize": "Ctrl-I"
   },
   "labels_anchors": false,
   "latex_user_defs": false,
   "report_style_numbering": false,
   "user_envs_cfg": false
  },
  "nbTranslate": {
   "displayLangs": [
    "*"
   ],
   "hotkey": "alt-t",
   "langInMainMenu": true,
   "sourceLang": "en",
   "targetLang": "fr",
   "useGoogleTranslate": true
  },
  "toc": {
   "base_numbering": 1,
   "nav_menu": {},
   "number_sections": true,
   "sideBar": true,
   "skip_h1_title": false,
   "title_cell": "Table of Contents",
   "title_sidebar": "Contents",
   "toc_cell": true,
   "toc_position": {},
   "toc_section_display": true,
   "toc_window_display": false
  }
 },
 "nbformat": 4,
 "nbformat_minor": 5
}
