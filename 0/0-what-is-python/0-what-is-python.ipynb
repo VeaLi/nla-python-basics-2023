{
 "cells": [
  {
   "cell_type": "markdown",
   "id": "14da8f7e",
   "metadata": {
    "toc": true
   },
   "source": [
    "<h1>Table of Contents<span class=\"tocSkip\"></span></h1>\n",
    "<div class=\"toc\"><ul class=\"toc-item\"><li><span><a href=\"#Что-представляет-собой-Python?\" data-toc-modified-id=\"Что-представляет-собой-Python?-1\"><span class=\"toc-item-num\">1&nbsp;&nbsp;</span>Что представляет собой Python?</a></span><ul class=\"toc-item\"><li><span><a href=\"#Возможно,-вы-еще-не-слышали-...-:-простые-программы-на-Python-можно-cкомпилировать\" data-toc-modified-id=\"Возможно,-вы-еще-не-слышали-...-:-простые-программы-на-Python-можно-cкомпилировать-1.1\"><span class=\"toc-item-num\">1.1&nbsp;&nbsp;</span>Возможно, вы еще не слышали ... : простые программы на Python можно cкомпилировать</a></span></li></ul></li><li><span><a href=\"#Python-vs.-R:-в-чем-разница?\" data-toc-modified-id=\"Python-vs.-R:-в-чем-разница?-2\"><span class=\"toc-item-num\">2&nbsp;&nbsp;</span>Python vs. R: в чем разница?</a></span></li><li><span><a href=\"#Python-3-vs-Python-2-и-Anaconda-bundle\" data-toc-modified-id=\"Python-3-vs-Python-2-и-Anaconda-bundle-3\"><span class=\"toc-item-num\">3&nbsp;&nbsp;</span>Python 3 vs Python 2 и Anaconda-bundle</a></span><ul class=\"toc-item\"><li><span><a href=\"#Случай:-Мне-действительно-нужен-Python-2\" data-toc-modified-id=\"Случай:-Мне-действительно-нужен-Python-2-3.1\"><span class=\"toc-item-num\">3.1&nbsp;&nbsp;</span>Случай: Мне действительно нужен Python 2</a></span></li><li><span><a href=\"#Решение:-Мне-действительно-нужен-Python-2\" data-toc-modified-id=\"Решение:-Мне-действительно-нужен-Python-2-3.2\"><span class=\"toc-item-num\">3.2&nbsp;&nbsp;</span>Решение: Мне действительно нужен Python 2</a></span></li></ul></li></ul></div>"
   ]
  },
  {
   "cell_type": "markdown",
   "id": "dbca560e",
   "metadata": {},
   "source": [
    "# Что представляет собой Python?\n",
    "\n",
    "\n",
    "Python 3 - популярный __язык программирования__ общего назначения, используемый для:\n",
    "\n",
    "    (1) анализа данных, \n",
    "    (2) машинного обучения, \n",
    "    (3) математических расчетов, \n",
    "    (4) создания прикладных приложений \n",
    "    и (5) веб-интерфейсов.\n",
    "    \n",
    "    \n",
    "    \n",
    "Python 3 - это *интерпретируемый* язык, который исполняется построчно с помощью интерпретатора Python 3. Код, написанный на Python 3, не требует компиляции и может быть выполнен непосредственно - примерно так же, как скрипты на R и Pearl.\n",
    "\n",
    "Python 3 легко устанавливается и работает на всех операционных системах.\n",
    "\n",
    "## Возможно, вы еще не слышали ... : простые программы на Python можно cкомпилировать\n",
    "\n",
    "\n",
    "    1. [PyInstaller](https://pypi.org/project/pyinstaller/) - позволяет создавать исполняемые файлы (exe) из ваших .py скриптов различной сложности, позволяя вам создавать исполняемые интерфейсы для ваших прикладных биоинформатических программ.\n",
    "    \n",
    "    2. [Cython](https://github.com/cython/cython) - позволяет компилировать простой Python-код в C и исполнять его. Производительность такого кода увеличивается в десятки раз."
   ]
  },
  {
   "cell_type": "markdown",
   "id": "66c9b3fe",
   "metadata": {},
   "source": [
    "# Python vs. R: в чем разница?\n",
    "\n",
    "\n",
    "Во многих отношениях эти два языка очень похожи. Они хорошо подходят для задач манипулирования данными. Основное различие заключается в том, что Python - это язык программирования общего назначения, в то время как R больше подходит только для статистического анализа. Кроме того, синтаксис Python проще, а его библиотеки сходны между собой - из-за требований к дизайну кода.\n",
    "\n",
    "Многие мои коллеги также считают, что Python быстрее, чем R, и что его код более читабелен. Согласны ли вы с этим?\n",
    "\n",
    "\n",
    "\n",
    "R:\n",
    "\n",
    "```r\n",
    "\n",
    "f <- function (a, b) {\n",
    "  if (a < b) \n",
    "    \n",
    "  {\n",
    "    res <- a+b\n",
    "    return(res)\n",
    "    \n",
    "  } else \n",
    "  \n",
    "    {\n",
    "    res <- a-b\n",
    "    return(res)\n",
    "    }\n",
    "  \n",
    "}\n",
    "  \n",
    "  \n",
    "print(f(4,3))\n",
    "\n",
    "```\n",
    "\n",
    "\n",
    "Python:\n",
    "```python\n",
    "    \n",
    "def f(a, b):\n",
    "    if a < b:\n",
    "        return a+b\n",
    "    else:\n",
    "        return a-b\n",
    "\n",
    "\n",
    "print(f(4, 3))\n",
    "```\n",
    "\n",
    "Также смотри сравнение в [https://web.vu.lt/mif/a.buteikis/wp-content/uploads/PE_Book/2-7-r-vs-python.html](https://web.vu.lt/mif/a.buteikis/wp-content/uploads/PE_Book/2-7-r-vs-python.html)\n",
    "___\n",
    "\n",
    "Однако стоит помнить, что на R написано __множество уникальных библиотек__, что обеспечивает его востребованность."
   ]
  },
  {
   "cell_type": "markdown",
   "id": "5e444234",
   "metadata": {},
   "source": [
    "# Python 3 vs Python 2 и Anaconda-bundle\n",
    "\n",
    "Для нас разница между Python 3 и Python 2 невелика, но если нет особой необходимости - не стоит писать код на Python 2, так как код на Python 2 может не выполняться интерпретатором кода Python 3.\n",
    "\n",
    "\n",
    "## Случай: Мне действительно нужен Python 2\n",
    "\n",
    "Вот пример того, когда вам может понадобиться Python 2.\n",
    "\n",
    "Вы прочитали [статью](https://pubs.acs.org/doi/10.1021/acs.jctc.7b00500) об биоинформатическом инструменте для расчета размера кармана связывания (Binding Pocket Volume) и хотите его использовать. Однако пакет написан на Python 2, и не работает с вашим интерпретатором Python 3.\n",
    "\n",
    "## Решение: Мне действительно нужен Python 2\n",
    "\n",
    "Когда мы используем Python с менеджером среды conda (Anaconda или [miniconda](https://docs.conda.io/en/latest/miniconda.html), достаточно создать отдельную среду с Pyhton 2 и установить нужные нам библиотеки.\n",
    "\n",
    "На практике мы создаем новые виртуальные среды для каждого нового проекта, чтобы можно было использовать разные версии Python и, что самое главное, разные версии библиотек. \n",
    "\n",
    "Использование различных сред устраняет проблему конфликтующих библиотек, с которой мы так часто сталкиваемся!"
   ]
  }
 ],
 "metadata": {
  "kernelspec": {
   "display_name": "Python 3",
   "language": "python",
   "name": "python3"
  },
  "language_info": {
   "codemirror_mode": {
    "name": "ipython",
    "version": 3
   },
   "file_extension": ".py",
   "mimetype": "text/x-python",
   "name": "python",
   "nbconvert_exporter": "python",
   "pygments_lexer": "ipython3",
   "version": "3.8.8"
  },
  "latex_envs": {
   "LaTeX_envs_menu_present": true,
   "autoclose": false,
   "autocomplete": true,
   "bibliofile": "biblio.bib",
   "cite_by": "apalike",
   "current_citInitial": 1,
   "eqLabelWithNumbers": true,
   "eqNumInitial": 1,
   "hotkeys": {
    "equation": "Ctrl-E",
    "itemize": "Ctrl-I"
   },
   "labels_anchors": false,
   "latex_user_defs": false,
   "report_style_numbering": false,
   "user_envs_cfg": false
  },
  "nbTranslate": {
   "displayLangs": [
    "*"
   ],
   "hotkey": "alt-t",
   "langInMainMenu": true,
   "sourceLang": "en",
   "targetLang": "fr",
   "useGoogleTranslate": true
  },
  "toc": {
   "base_numbering": 1,
   "nav_menu": {},
   "number_sections": true,
   "sideBar": true,
   "skip_h1_title": false,
   "title_cell": "Table of Contents",
   "title_sidebar": "Contents",
   "toc_cell": true,
   "toc_position": {},
   "toc_section_display": true,
   "toc_window_display": false
  }
 },
 "nbformat": 4,
 "nbformat_minor": 5
}
