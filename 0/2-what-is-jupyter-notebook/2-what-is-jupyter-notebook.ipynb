{
 "cells": [
  {
   "cell_type": "markdown",
   "id": "d0b1d2b7",
   "metadata": {
    "toc": true
   },
   "source": [
    "<h1>Table of Contents<span class=\"tocSkip\"></span></h1>\n",
    "<div class=\"toc\"><ul class=\"toc-item\"><li><span><a href=\"#Что-такое-Jupyter-Notebook?\" data-toc-modified-id=\"Что-такое-Jupyter-Notebook?-1\"><span class=\"toc-item-num\">1&nbsp;&nbsp;</span>Что такое Jupyter Notebook?</a></span><ul class=\"toc-item\"><li><span><a href=\"#Позволяет-писать-текст-используя-Html-и-Markdown\" data-toc-modified-id=\"Позволяет-писать-текст-используя-Html-и-Markdown-1.1\"><span class=\"toc-item-num\">1.1&nbsp;&nbsp;</span>Позволяет писать текст используя Html и Markdown</a></span></li><li><span><a href=\"#Позволяет-писать-и-выполнять-код\" data-toc-modified-id=\"Позволяет-писать-и-выполнять-код-1.2\"><span class=\"toc-item-num\">1.2&nbsp;&nbsp;</span>Позволяет писать и выполнять код</a></span></li><li><span><a href=\"#Позволяет-устанавливать-Python-библиотеки\" data-toc-modified-id=\"Позволяет-устанавливать-Python-библиотеки-1.3\"><span class=\"toc-item-num\">1.3&nbsp;&nbsp;</span>Позволяет устанавливать Python библиотеки</a></span></li><li><span><a href=\"#Позволяет-использовать-утилиты-OS\" data-toc-modified-id=\"Позволяет-использовать-утилиты-OS-1.4\"><span class=\"toc-item-num\">1.4&nbsp;&nbsp;</span>Позволяет использовать утилиты OS</a></span></li></ul></li></ul></div>"
   ]
  },
  {
   "cell_type": "markdown",
   "id": "5f7609d6",
   "metadata": {},
   "source": [
    "# Что такое Jupyter Notebook?\n",
    "\n",
    "\n",
    "Jupyter Notebook - это редактор кода Python, специально разработанный для анализа данных. Он похож на R Studio.\n",
    "Важное отличие Jupyter Notebooks - то, что он открывается в браузере!\n",
    "\n",
    "\n",
    "## Позволяет писать текст используя Html и Markdown\n",
    "\n",
    "## Позволяет писать и выполнять код"
   ]
  },
  {
   "cell_type": "code",
   "execution_count": 1,
   "id": "93791f3b",
   "metadata": {
    "ExecuteTime": {
     "end_time": "2023-01-18T14:42:12.044047Z",
     "start_time": "2023-01-18T14:42:10.506009Z"
    }
   },
   "outputs": [
    {
     "name": "stdout",
     "output_type": "stream",
     "text": [
      "This is code\n"
     ]
    },
    {
     "data": {
      "image/png": "[encoded data removed]",
      "text/plain": [
       "<Figure size 432x288 with 1 Axes>"
      ]
     },
     "metadata": {},
     "output_type": "display_data"
    }
   ],
   "source": [
    "print('This is code')\n",
    "\n",
    "import numpy as np\n",
    "import matplotlib.pyplot as plt\n",
    "plt.style.use('ggplot')\n",
    "\n",
    "plt.hist(np.random.normal(size=100000), edgecolor='k', bins='scott');\n",
    "plt.title('Noraml distribution (0, 1)')\n",
    "plt.savefig('normal.png', dpi=200, bbox_inches='tight')"
   ]
  },
  {
   "cell_type": "code",
   "execution_count": 2,
   "id": "d474581e",
   "metadata": {
    "ExecuteTime": {
     "end_time": "2023-01-18T14:42:12.060089Z",
     "start_time": "2023-01-18T14:42:12.048050Z"
    }
   },
   "outputs": [
    {
     "data": {
      "text/plain": [
       "2610.0"
      ]
     },
     "execution_count": 2,
     "metadata": {},
     "output_type": "execute_result"
    }
   ],
   "source": [
    "2900/100 * 90"
   ]
  },
  {
   "cell_type": "markdown",
   "id": "a3aa8b5d",
   "metadata": {},
   "source": [
    "## Позволяет устанавливать Python библиотеки"
   ]
  },
  {
   "cell_type": "code",
   "execution_count": 3,
   "id": "bdfebd00",
   "metadata": {
    "ExecuteTime": {
     "end_time": "2023-01-18T14:42:12.075104Z",
     "start_time": "2023-01-18T14:42:12.064103Z"
    }
   },
   "outputs": [],
   "source": [
    "# !conda install -c conda-forge -c bioconda gseapy\n",
    "\n",
    "# # or \n",
    "\n",
    "# !pip install gseapy"
   ]
  },
  {
   "cell_type": "markdown",
   "id": "557b5830",
   "metadata": {},
   "source": [
    "## Позволяет использовать утилиты OS"
   ]
  },
  {
   "cell_type": "code",
   "execution_count": 4,
   "id": "7d6fad39",
   "metadata": {
    "ExecuteTime": {
     "end_time": "2023-01-18T14:42:12.091110Z",
     "start_time": "2023-01-18T14:42:12.078099Z"
    }
   },
   "outputs": [],
   "source": [
    "# !wget \n",
    "# !rm\n",
    "# !mv\n",
    "# !ls\n",
    "# !unzip\n",
    "# ... any program "
   ]
  }
 ],
 "metadata": {
  "kernelspec": {
   "display_name": "Python 3",
   "language": "python",
   "name": "python3"
  },
  "language_info": {
   "codemirror_mode": {
    "name": "ipython",
    "version": 3
   },
   "file_extension": ".py",
   "mimetype": "text/x-python",
   "name": "python",
   "nbconvert_exporter": "python",
   "pygments_lexer": "ipython3",
   "version": "3.8.8"
  },
  "latex_envs": {
   "LaTeX_envs_menu_present": true,
   "autoclose": false,
   "autocomplete": true,
   "bibliofile": "biblio.bib",
   "cite_by": "apalike",
   "current_citInitial": 1,
   "eqLabelWithNumbers": true,
   "eqNumInitial": 1,
   "hotkeys": {
    "equation": "Ctrl-E",
    "itemize": "Ctrl-I"
   },
   "labels_anchors": false,
   "latex_user_defs": false,
   "report_style_numbering": false,
   "user_envs_cfg": false
  },
  "nbTranslate": {
   "displayLangs": [
    "*"
   ],
   "hotkey": "alt-t",
   "langInMainMenu": true,
   "sourceLang": "en",
   "targetLang": "fr",
   "useGoogleTranslate": true
  },
  "toc": {
   "base_numbering": 1,
   "nav_menu": {},
   "number_sections": true,
   "sideBar": true,
   "skip_h1_title": false,
   "title_cell": "Table of Contents",
   "title_sidebar": "Contents",
   "toc_cell": true,
   "toc_position": {},
   "toc_section_display": true,
   "toc_window_display": false
  }
 },
 "nbformat": 4,
 "nbformat_minor": 5
}
