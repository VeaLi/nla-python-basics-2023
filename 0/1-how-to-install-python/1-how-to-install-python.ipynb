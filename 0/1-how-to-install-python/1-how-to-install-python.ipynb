{
 "cells": [
  {
   "cell_type": "markdown",
   "id": "b2a8762b",
   "metadata": {
    "toc": true
   },
   "source": [
    "<h1>Table of Contents<span class=\"tocSkip\"></span></h1>\n",
    "<div class=\"toc\"><ul class=\"toc-item\"><li><span><a href=\"#Как-мне-установить-Python?\" data-toc-modified-id=\"Как-мне-установить-Python?-1\"><span class=\"toc-item-num\">1&nbsp;&nbsp;</span>Как мне установить Python?</a></span><ul class=\"toc-item\"><li><span><a href=\"#Я-установливаю-Python-с-python.org\" data-toc-modified-id=\"Я-установливаю-Python-с-python.org-1.1\"><span class=\"toc-item-num\">1.1&nbsp;&nbsp;</span>Я установливаю Python с python.org</a></span><ul class=\"toc-item\"><li><span><a href=\"#Как-запустить-.py-скрипт?\" data-toc-modified-id=\"Как-запустить-.py-скрипт?-1.1.1\"><span class=\"toc-item-num\">1.1.1&nbsp;&nbsp;</span>Как запустить .py скрипт?</a></span></li><li><span><a href=\"#Как-запустить-.ipynb----Python-код-из-Jupyter-Notebook?\" data-toc-modified-id=\"Как-запустить-.ipynb----Python-код-из-Jupyter-Notebook?-1.1.2\"><span class=\"toc-item-num\">1.1.2&nbsp;&nbsp;</span>Как запустить .ipynb -  Python код из Jupyter Notebook?</a></span><ul class=\"toc-item\"><li><span><a href=\"#У-вас-не-утсановлен-Jupyter-Notebook?\" data-toc-modified-id=\"У-вас-не-утсановлен-Jupyter-Notebook?-1.1.2.1\"><span class=\"toc-item-num\">1.1.2.1&nbsp;&nbsp;</span>У вас не утсановлен Jupyter Notebook?</a></span></li></ul></li></ul></li><li><span><a href=\"#Я-установливаю-Python-используя-дистрибьютив-Anaconda-(miniconda)\" data-toc-modified-id=\"Я-установливаю-Python-используя-дистрибьютив-Anaconda-(miniconda)-1.2\"><span class=\"toc-item-num\">1.2&nbsp;&nbsp;</span>Я установливаю Python используя дистрибьютив Anaconda (miniconda)</a></span></li><li><span><a href=\"#Я-пока-не-готов-установть-Python---я-использую-Google-Collab\" data-toc-modified-id=\"Я-пока-не-готов-установть-Python---я-использую-Google-Collab-1.3\"><span class=\"toc-item-num\">1.3&nbsp;&nbsp;</span>Я пока не готов установть Python - я использую Google Collab</a></span></li></ul></li><li><span><a href=\"#У-меня-возникают-трудности-с-установкой-Python-и-запуском-Jupyter-Notebook\" data-toc-modified-id=\"У-меня-возникают-трудности-с-установкой-Python-и-запуском-Jupyter-Notebook-2\"><span class=\"toc-item-num\">2&nbsp;&nbsp;</span>У меня возникают трудности с установкой Python и запуском Jupyter Notebook</a></span></li></ul></div>"
   ]
  },
  {
   "cell_type": "markdown",
   "id": "28b7a010",
   "metadata": {},
   "source": [
    "# Как мне установить Python?\n",
    "\n",
    "## Я установливаю Python с python.org\n",
    "\n",
    "Вы, вероятно, хотя бы раз устанавливали Python с сайта [python.org](https://www.python.org/). \n",
    "После установки у вас появилась IDLE, и теперь вы можете запускать скрипты с расширением .py с помощью python(.exe).\n",
    "Возможно, вы не знаете, что делать дальше?\n",
    "\n",
    "### Как запустить .py скрипт?\n",
    "\n",
    "Запуск написанной вами программы из командной строки:\n",
    "\n",
    "```bash\n",
    ">python script.py\n",
    "```\n",
    "\n",
    "### Как запустить .ipynb -  Python код из Jupyter Notebook?\n",
    "\n",
    "Просмотр Jupyter Notebook:\n",
    "\n",
    "```bash\n",
    ">jupyter notebook\n",
    "```\n",
    "\n",
    "#### У вас не утсановлен Jupyter Notebook?\n",
    "\n",
    "Установите Jupyter Notebook:\n",
    "```bash\n",
    ">pip install jupyter\n",
    "```\n",
    "\n",
    "## Я установливаю Python используя дистрибьютив Anaconda (miniconda)\n",
    "\n",
    "\n",
    "\n",
    "Вашим выбором для установки Python стал бесплатный дистрибутив Anaconda - специально разработанный для установки Python, и сопутствующих библиотек для анализа данных. Важно отметить, что Anaconda - это не только удобный дистрибутив, но и менеджер сред. Установив Python с помощью Anaconda, вы можете создавать виртуальные среды с разными версиями Python и разными версиями библиотек, использовать ядро R вместе с Python, а также использовать Python для установки различных биоинформатических инструментов. Например, https://anaconda.org/bioconda/mafft. \n",
    "\n",
    "[Установить Python с Anaconda - miniconda](https://docs.conda.io/en/latest/miniconda.html)\n",
    "\n",
    "\n",
    "## Я пока не готов установть Python - я использую Google Collab\n",
    "\n",
    "[Google Collab](https://colab.research.google.com/), уникальный бесплатный сервис от Google, предоставляет пользователю виртуальную машину для запуска Jupyter Notebook. По собственному опыту могу сказать, что использование бесплатной версии Google Collab позволяет решить многие проблемы. Она не так удобна, как локальная версия, и не обладает высокой производительностью, но ее вполне достаточно, чтобы познакомиться с Python для анализа данных.\n",
    "\n",
    "# У меня возникают трудности с установкой Python и запуском Jupyter Notebook\n",
    "\n",
    "Напиши мне!"
   ]
  }
 ],
 "metadata": {
  "kernelspec": {
   "display_name": "Python 3",
   "language": "python",
   "name": "python3"
  },
  "language_info": {
   "codemirror_mode": {
    "name": "ipython",
    "version": 3
   },
   "file_extension": ".py",
   "mimetype": "text/x-python",
   "name": "python",
   "nbconvert_exporter": "python",
   "pygments_lexer": "ipython3",
   "version": "3.8.8"
  },
  "latex_envs": {
   "LaTeX_envs_menu_present": true,
   "autoclose": false,
   "autocomplete": true,
   "bibliofile": "biblio.bib",
   "cite_by": "apalike",
   "current_citInitial": 1,
   "eqLabelWithNumbers": true,
   "eqNumInitial": 1,
   "hotkeys": {
    "equation": "Ctrl-E",
    "itemize": "Ctrl-I"
   },
   "labels_anchors": false,
   "latex_user_defs": false,
   "report_style_numbering": false,
   "user_envs_cfg": false
  },
  "nbTranslate": {
   "displayLangs": [
    "*"
   ],
   "hotkey": "alt-t",
   "langInMainMenu": true,
   "sourceLang": "en",
   "targetLang": "fr",
   "useGoogleTranslate": true
  },
  "toc": {
   "base_numbering": 1,
   "nav_menu": {},
   "number_sections": true,
   "sideBar": true,
   "skip_h1_title": false,
   "title_cell": "Table of Contents",
   "title_sidebar": "Contents",
   "toc_cell": true,
   "toc_position": {},
   "toc_section_display": true,
   "toc_window_display": false
  }
 },
 "nbformat": 4,
 "nbformat_minor": 5
}
