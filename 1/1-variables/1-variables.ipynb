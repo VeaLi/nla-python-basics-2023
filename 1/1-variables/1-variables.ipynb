{
 "cells": [
  {
   "cell_type": "markdown",
   "id": "174c06cd",
   "metadata": {
    "toc": true
   },
   "source": [
    "<h1>Table of Contents<span class=\"tocSkip\"></span></h1>\n",
    "<div class=\"toc\"><ul class=\"toc-item\"><li><span><a href=\"#Переменные-(Variables)\" data-toc-modified-id=\"Переменные-(Variables)-1\"><span class=\"toc-item-num\">1&nbsp;&nbsp;</span>Переменные (Variables)</a></span></li><li><span><a href=\"#NB!-Python---динамически-типизированный-язык,-и-он-не-требует-специального-объявления-переменной-с-типом-данных\" data-toc-modified-id=\"NB!-Python---динамически-типизированный-язык,-и-он-не-требует-специального-объявления-переменной-с-типом-данных-2\"><span class=\"toc-item-num\">2&nbsp;&nbsp;</span>NB! Python - динамически типизированный язык, и он не требует специального объявления переменной с типом данных</a></span></li><li><span><a href=\"#В-Python---всё-является-объектом\" data-toc-modified-id=\"В-Python---всё-является-объектом-3\"><span class=\"toc-item-num\">3&nbsp;&nbsp;</span>В Python - всё является объектом</a></span><ul class=\"toc-item\"><li><span><a href=\"#Отличительные-черта-&quot;объекта&quot;---метаданные-и-встроенная-функциональность\" data-toc-modified-id=\"Отличительные-черта-&quot;объекта&quot;---метаданные-и-встроенная-функциональность-3.1\"><span class=\"toc-item-num\">3.1&nbsp;&nbsp;</span>Отличительные черта \"объекта\" - метаданные и встроенная функциональность</a></span></li><li><span><a href=\"#Как-узнать,-какие-метаданные-и-функциональность-есть-у-моего-объекта?\" data-toc-modified-id=\"Как-узнать,-какие-метаданные-и-функциональность-есть-у-моего-объекта?-3.2\"><span class=\"toc-item-num\">3.2&nbsp;&nbsp;</span>Как узнать, какие метаданные и функциональность есть у моего объекта?</a></span></li></ul></li><li><span><a href=\"#Сложные-объекты\" data-toc-modified-id=\"Сложные-объекты-4\"><span class=\"toc-item-num\">4&nbsp;&nbsp;</span>Сложные объекты</a></span></li></ul></div>"
   ]
  },
  {
   "cell_type": "markdown",
   "id": "cd82c837",
   "metadata": {},
   "source": [
    "# Переменные (Variables)\n",
    "\n",
    "\n",
    "Переменные  - это __имена__ объектов. Мы используем переменные для управления объектами. Значение переменной - может изменяться в зависимости от условий или информации программы. "
   ]
  },
  {
   "cell_type": "code",
   "execution_count": 1,
   "id": "acce97d3",
   "metadata": {
    "ExecuteTime": {
     "end_time": "2023-01-19T06:40:36.315384Z",
     "start_time": "2023-01-19T06:40:36.293392Z"
    }
   },
   "outputs": [
    {
     "data": {
      "text/plain": [
       "10"
      ]
     },
     "execution_count": 1,
     "metadata": {},
     "output_type": "execute_result"
    }
   ],
   "source": [
    "a = 5 # Переменная а, очень простая\n",
    "b = 5 # Переменная b, очень простая\n",
    "\n",
    "c = a + b # Простую переменную а можно сложить с b, очень простая переменная с\n",
    "c"
   ]
  },
  {
   "cell_type": "markdown",
   "id": "088b17cc",
   "metadata": {},
   "source": [
    "# NB! Python - динамически типизированный язык, и он не требует специального объявления переменной с типом данных\n",
    "\n",
    "Имя \"a\" можно дать любому объекту, для дальнейшего удобства использования без указания типа данных переменной.\n",
    "\n",
    "~int a~, ~float a~, ~str a~ etc."
   ]
  },
  {
   "cell_type": "code",
   "execution_count": 2,
   "id": "dccd5d94",
   "metadata": {
    "ExecuteTime": {
     "end_time": "2023-01-19T06:40:36.424387Z",
     "start_time": "2023-01-19T06:40:36.416380Z"
    }
   },
   "outputs": [
    {
     "data": {
      "text/plain": [
       "object"
      ]
     },
     "execution_count": 2,
     "metadata": {},
     "output_type": "execute_result"
    }
   ],
   "source": [
    "a = 1 # целое число\n",
    "a = 1.5 # вещественное число\n",
    "a = 1.5j # мнимое число\n",
    "a = 2**10 # числовое выражение\n",
    "a = 'nla' # строка\n",
    "a = round # функция\n",
    "a = a # другая переменная\n",
    "a = object # какой-то базовый объект\n",
    "\n",
    "a"
   ]
  },
  {
   "cell_type": "markdown",
   "id": "252e74ca",
   "metadata": {},
   "source": [
    "# В Python - всё является объектом\n",
    "\n",
    "> \"In Python - everything is an object\"\n",
    "\n",
    "Числовую переменную \"a\" можно назвать относительно простой переменной. Она позволяет нам ссылаться на число, которое в ней содержится. \n",
    "\n",
    "Интересно, что в Python все даже простые числа являются объектами.\n",
    "\n",
    "Точнее говоря, в Python __все_ является объектом! \n",
    "\n",
    "## Отличительные черта \"объекта\" - метаданные и встроенная функциональность \n",
    "Каждый объект имеет некоторые метаданные (называемые атрибутами или свойствами) и связанные с ними функциональные возможности (называемые методами).\n",
    "\n",
    "Например, объявим переменную `a='nla'`. Теперь переменная `a' содержит строку. Но теперь мы знаем, что `a' не только содержит строку, но и является объектом, поэтому она содержит метаданные о себе и обладает встроенная функциональностью!\n",
    "\n",
    "\n",
    "## Как узнать, какие метаданные и функциональность есть у моего объекта?\n",
    "\n",
    "Самый простой способ узнать больше о своем объекте - прочитать отрывок из документации, из которой вы скопировали свой код).\n",
    "\n",
    "Но вы также можете распечатать все \"свойства\" объекта с помощью команды \"dir\"."
   ]
  },
  {
   "cell_type": "code",
   "execution_count": 3,
   "id": "d232169d",
   "metadata": {
    "ExecuteTime": {
     "end_time": "2023-01-19T06:40:36.550380Z",
     "start_time": "2023-01-19T06:40:36.536397Z"
    }
   },
   "outputs": [
    {
     "name": "stdout",
     "output_type": "stream",
     "text": [
      "['__add__', '__class__', '__contains__', '__delattr__', '__dir__', '__doc__', '__eq__', '__format__', '__ge__', '__getattribute__', '__getitem__', '__getnewargs__', '__gt__', '__hash__', '__init__', '__init_subclass__', '__iter__', '__le__', '__len__', '__lt__', '__mod__', '__mul__', '__ne__', '__new__', '__reduce__', '__reduce_ex__', '__repr__', '__rmod__', '__rmul__', '__setattr__', '__sizeof__', '__str__', '__subclasshook__', 'capitalize', 'casefold', 'center', 'count', 'encode', 'endswith', 'expandtabs', 'find', 'format', 'format_map', 'index', 'isalnum', 'isalpha', 'isascii', 'isdecimal', 'isdigit', 'isidentifier', 'islower', 'isnumeric', 'isprintable', 'isspace', 'istitle', 'isupper', 'join', 'ljust', 'lower', 'lstrip', 'maketrans', 'partition', 'replace', 'rfind', 'rindex', 'rjust', 'rpartition', 'rsplit', 'rstrip', 'split', 'splitlines', 'startswith', 'strip', 'swapcase', 'title', 'translate', 'upper', 'zfill']\n"
     ]
    }
   ],
   "source": [
    "a = 'nla'\n",
    "print(dir(a))"
   ]
  },
  {
   "cell_type": "markdown",
   "id": "12dfb074",
   "metadata": {},
   "source": [
    "Как видно из ячейки выше, строковые объекты в Python, включая тот, который мы создали и записали в переменную 'a', имеют множество \"свойств\". Мы не будем сейчас проверять все из них. Рассмотрим 4, на мой взгляд, самых полезных:"
   ]
  },
  {
   "cell_type": "code",
   "execution_count": 4,
   "id": "cbdabcb1",
   "metadata": {
    "ExecuteTime": {
     "end_time": "2023-01-19T06:40:36.662385Z",
     "start_time": "2023-01-19T06:40:36.651386Z"
    }
   },
   "outputs": [
    {
     "data": {
      "text/plain": [
       "'NLA'"
      ]
     },
     "execution_count": 4,
     "metadata": {},
     "output_type": "execute_result"
    }
   ],
   "source": [
    "a.upper()"
   ]
  },
  {
   "cell_type": "code",
   "execution_count": 5,
   "id": "a349ba55",
   "metadata": {
    "ExecuteTime": {
     "end_time": "2023-01-19T06:40:36.694381Z",
     "start_time": "2023-01-19T06:40:36.676392Z"
    }
   },
   "outputs": [
    {
     "data": {
      "text/plain": [
       "'nla'"
      ]
     },
     "execution_count": 5,
     "metadata": {},
     "output_type": "execute_result"
    }
   ],
   "source": [
    "a = ' nla'\n",
    "a.strip()"
   ]
  },
  {
   "cell_type": "code",
   "execution_count": 6,
   "id": "5a846947",
   "metadata": {
    "ExecuteTime": {
     "end_time": "2023-01-19T06:40:36.710382Z",
     "start_time": "2023-01-19T06:40:36.702390Z"
    }
   },
   "outputs": [
    {
     "data": {
      "text/plain": [
       "' Jla'"
      ]
     },
     "execution_count": 6,
     "metadata": {},
     "output_type": "execute_result"
    }
   ],
   "source": [
    "a.replace('n', 'J')"
   ]
  },
  {
   "cell_type": "code",
   "execution_count": 7,
   "id": "63112235",
   "metadata": {
    "ExecuteTime": {
     "end_time": "2023-01-19T06:40:36.742392Z",
     "start_time": "2023-01-19T06:40:36.725388Z"
    }
   },
   "outputs": [
    {
     "data": {
      "text/plain": [
       "['sentence', 'to', 'split']"
      ]
     },
     "execution_count": 7,
     "metadata": {},
     "output_type": "execute_result"
    }
   ],
   "source": [
    "a = 'sentence to split'\n",
    "a.split(' ')"
   ]
  },
  {
   "cell_type": "markdown",
   "id": "a45e1201",
   "metadata": {},
   "source": [
    "# Сложные объекты\n",
    "\n",
    "Как уже говорилось выше, в Python все является объектом, а сам Python не требует сложного объявления переменных для работы. Поэтому вы можете записать в переменную \"a\" и одно маленькое число, и результат статистического анализа!"
   ]
  },
  {
   "cell_type": "code",
   "execution_count": 8,
   "id": "033867e5",
   "metadata": {
    "ExecuteTime": {
     "end_time": "2023-01-19T06:40:38.796601Z",
     "start_time": "2023-01-19T06:40:36.844386Z"
    }
   },
   "outputs": [
    {
     "data": {
      "image/png": "[encoded data removed]",
      "text/plain": [
       "<Figure size 432x288 with 1 Axes>"
      ]
     },
     "metadata": {
      "needs_background": "light"
     },
     "output_type": "display_data"
    }
   ],
   "source": [
    "import seaborn as sns\n",
    "import numpy as np\n",
    "\n",
    "a = sns.histplot(np.random.normal(size=200));"
   ]
  },
  {
   "cell_type": "code",
   "execution_count": 9,
   "id": "7e77908d",
   "metadata": {
    "ExecuteTime": {
     "end_time": "2023-01-19T06:40:38.812587Z",
     "start_time": "2023-01-19T06:40:38.799583Z"
    }
   },
   "outputs": [
    {
     "name": "stdout",
     "output_type": "stream",
     "text": [
      "['ArtistList', '_PROPERTIES_EXCLUDED_FROM_SET', '__class__', '__delattr__', '__dict__', '__dir__', '__doc__', '__eq__', '__format__', '__ge__', '__getattribute__', '__getstate__', '__gt__', '__hash__', '__init__', '__init_subclass__', '__le__', '__lt__', '__module__', '__ne__', '__new__', '__reduce__', '__reduce_ex__', '__repr__', '__setattr__', '__setstate__', '__sizeof__', '__str__', '__subclasshook__', '__weakref__', '_add_text', '_adjustable', '_agg_filter', '_alias_map', '_alpha', '_anchor', '_animated', '_aspect', '_autoscaleXon', '_autoscaleYon', '_autotitlepos', '_axes', '_axes_class', '_axes_locator', '_axis_names', '_axisbelow', '_box_aspect', '_callbacks', '_check_no_units', '_children', '_clipon', '_clippath', '_cm_set', '_colorbars', '_convert_dx', '_current_image', '_default_contains', '_deprecate_noninstance', '_facecolor', '_fill_between_x_or_y', '_frameon', '_gci', '_gen_axes_patch', '_gen_axes_spines', '_get_axis_list', '_get_axis_map', '_get_clipping_extent_bbox', '_get_lines', '_get_pan_points', '_get_patches_for_fill', '_get_view', '_gid', '_gridOn', '_in_layout', '_init_axis', '_label', '_label_outer_xaxis', '_label_outer_yaxis', '_left_title', '_make_twin_axes', '_mouseover', '_mouseover_set', '_navigate', '_navigate_mode', '_originalPosition', '_parse_scatter_color_args', '_path_effects', '_pcolor_grid_deprecation_helper', '_pcolorargs', '_picker', '_position', '_prepare_view_from_bbox', '_process_unit_info', '_projection_init', '_quiver_units', '_rasterization_zorder', '_rasterized', '_remove_legend', '_remove_method', '_request_autoscale_view', '_right_title', '_sci', '_set_alpha_for_array', '_set_artist_props', '_set_gc_clip', '_set_lim_and_transforms', '_set_position', '_set_title_offset_trans', '_set_view', '_set_view_from_bbox', '_shared_axes', '_sharex', '_sharey', '_sketch', '_snap', '_stale', '_stale_viewlims', '_sticky_edges', '_subplotspec', '_tight', '_transform', '_transformSet', '_twinned_axes', '_unit_change_handler', '_unstale_viewLim', '_update_image_limits', '_update_line_limits', '_update_patch_limits', '_update_set_signature_and_docstring', '_update_title_position', '_update_transScale', '_url', '_use_sticky_edges', '_validate_converted_limits', '_viewLim', '_visible', '_xaxis_transform', '_xmargin', '_yaxis_transform', '_ymargin', 'acorr', 'add_artist', 'add_callback', 'add_child_axes', 'add_collection', 'add_container', 'add_image', 'add_line', 'add_patch', 'add_table', 'angle_spectrum', 'annotate', 'apply_aspect', 'arrow', 'artists', 'autoscale', 'autoscale_view', 'axes', 'axhline', 'axhspan', 'axis', 'axison', 'axline', 'axvline', 'axvspan', 'bar', 'bar_label', 'barbs', 'barh', 'bbox', 'boxplot', 'broken_barh', 'bxp', 'callbacks', 'can_pan', 'can_zoom', 'change_geometry', 'child_axes', 'cla', 'clabel', 'clear', 'clipbox', 'cohere', 'collections', 'containers', 'contains', 'contains_point', 'contour', 'contourf', 'convert_xunits', 'convert_yunits', 'csd', 'dataLim', 'drag_pan', 'draw', 'draw_artist', 'end_pan', 'errorbar', 'eventplot', 'figbox', 'figure', 'fill', 'fill_between', 'fill_betweenx', 'findobj', 'fmt_xdata', 'fmt_ydata', 'format_coord', 'format_cursor_data', 'format_xdata', 'format_ydata', 'get_adjustable', 'get_agg_filter', 'get_alpha', 'get_anchor', 'get_animated', 'get_aspect', 'get_autoscale_on', 'get_autoscalex_on', 'get_autoscaley_on', 'get_axes_locator', 'get_axisbelow', 'get_box_aspect', 'get_children', 'get_clip_box', 'get_clip_on', 'get_clip_path', 'get_cursor_data', 'get_data_ratio', 'get_default_bbox_extra_artists', 'get_facecolor', 'get_fc', 'get_figure', 'get_frame_on', 'get_geometry', 'get_gid', 'get_gridspec', 'get_images', 'get_in_layout', 'get_label', 'get_legend', 'get_legend_handles_labels', 'get_lines', 'get_navigate', 'get_navigate_mode', 'get_path_effects', 'get_picker', 'get_position', 'get_rasterization_zorder', 'get_rasterized', 'get_renderer_cache', 'get_shared_x_axes', 'get_shared_y_axes', 'get_sketch_params', 'get_snap', 'get_subplotspec', 'get_tightbbox', 'get_title', 'get_transform', 'get_transformed_clip_path_and_affine', 'get_url', 'get_visible', 'get_window_extent', 'get_xaxis', 'get_xaxis_text1_transform', 'get_xaxis_text2_transform', 'get_xaxis_transform', 'get_xbound', 'get_xgridlines', 'get_xlabel', 'get_xlim', 'get_xmajorticklabels', 'get_xminorticklabels', 'get_xscale', 'get_xticklabels', 'get_xticklines', 'get_xticks', 'get_yaxis', 'get_yaxis_text1_transform', 'get_yaxis_text2_transform', 'get_yaxis_transform', 'get_ybound', 'get_ygridlines', 'get_ylabel', 'get_ylim', 'get_ymajorticklabels', 'get_yminorticklabels', 'get_yscale', 'get_yticklabels', 'get_yticklines', 'get_yticks', 'get_zorder', 'grid', 'has_data', 'have_units', 'hexbin', 'hist', 'hist2d', 'hlines', 'ignore_existing_data_limits', 'images', 'imshow', 'in_axes', 'indicate_inset', 'indicate_inset_zoom', 'inset_axes', 'invert_xaxis', 'invert_yaxis', 'is_first_col', 'is_first_row', 'is_last_col', 'is_last_row', 'is_transform_set', 'label_outer', 'legend', 'legend_', 'lines', 'locator_params', 'loglog', 'magnitude_spectrum', 'margins', 'matshow', 'minorticks_off', 'minorticks_on', 'mouseover', 'name', 'numCols', 'numRows', 'patch', 'patches', 'pchanged', 'pcolor', 'pcolorfast', 'pcolormesh', 'phase_spectrum', 'pick', 'pickable', 'pie', 'plot', 'plot_date', 'properties', 'psd', 'quiver', 'quiverkey', 'redraw_in_frame', 'relim', 'remove', 'remove_callback', 'reset_position', 'scatter', 'secondary_xaxis', 'secondary_yaxis', 'semilogx', 'semilogy', 'set', 'set_adjustable', 'set_agg_filter', 'set_alpha', 'set_anchor', 'set_animated', 'set_aspect', 'set_autoscale_on', 'set_autoscalex_on', 'set_autoscaley_on', 'set_axes_locator', 'set_axis_off', 'set_axis_on', 'set_axisbelow', 'set_box_aspect', 'set_clip_box', 'set_clip_on', 'set_clip_path', 'set_facecolor', 'set_fc', 'set_figure', 'set_frame_on', 'set_gid', 'set_in_layout', 'set_label', 'set_navigate', 'set_navigate_mode', 'set_path_effects', 'set_picker', 'set_position', 'set_prop_cycle', 'set_rasterization_zorder', 'set_rasterized', 'set_sketch_params', 'set_snap', 'set_subplotspec', 'set_title', 'set_transform', 'set_url', 'set_visible', 'set_xbound', 'set_xlabel', 'set_xlim', 'set_xmargin', 'set_xscale', 'set_xticklabels', 'set_xticks', 'set_ybound', 'set_ylabel', 'set_ylim', 'set_ymargin', 'set_yscale', 'set_yticklabels', 'set_yticks', 'set_zorder', 'sharex', 'sharey', 'specgram', 'spines', 'spy', 'stackplot', 'stairs', 'stale', 'stale_callback', 'start_pan', 'stem', 'step', 'sticky_edges', 'streamplot', 'table', 'tables', 'text', 'texts', 'tick_params', 'ticklabel_format', 'title', 'titleOffsetTrans', 'transAxes', 'transData', 'transLimits', 'transScale', 'tricontour', 'tricontourf', 'tripcolor', 'triplot', 'twinx', 'twiny', 'update', 'update_datalim', 'update_from', 'update_params', 'use_sticky_edges', 'viewLim', 'violin', 'violinplot', 'vlines', 'xaxis', 'xaxis_date', 'xaxis_inverted', 'xcorr', 'yaxis', 'yaxis_date', 'yaxis_inverted', 'zorder']\n"
     ]
    }
   ],
   "source": [
    "print(dir(a))"
   ]
  },
  {
   "cell_type": "code",
   "execution_count": 10,
   "id": "f81708ea",
   "metadata": {
    "ExecuteTime": {
     "end_time": "2023-01-19T06:40:38.828581Z",
     "start_time": "2023-01-19T06:40:38.816582Z"
    }
   },
   "outputs": [
    {
     "data": {
      "text/plain": [
       "<matplotlib.spines.Spines at 0x21c788d92e0>"
      ]
     },
     "execution_count": 10,
     "metadata": {},
     "output_type": "execute_result"
    }
   ],
   "source": [
    "a.spines # attribute or property"
   ]
  },
  {
   "cell_type": "code",
   "execution_count": 11,
   "id": "8a4d5f46",
   "metadata": {
    "ExecuteTime": {
     "end_time": "2023-01-19T06:40:38.844597Z",
     "start_time": "2023-01-19T06:40:38.833599Z"
    }
   },
   "outputs": [
    {
     "data": {
      "text/plain": [
       "Text(0.5, 1.0, 'New Title')"
      ]
     },
     "execution_count": 11,
     "metadata": {},
     "output_type": "execute_result"
    }
   ],
   "source": [
    "a.set_title('New Title') # method"
   ]
  }
 ],
 "metadata": {
  "kernelspec": {
   "display_name": "Python 3",
   "language": "python",
   "name": "python3"
  },
  "language_info": {
   "codemirror_mode": {
    "name": "ipython",
    "version": 3
   },
   "file_extension": ".py",
   "mimetype": "text/x-python",
   "name": "python",
   "nbconvert_exporter": "python",
   "pygments_lexer": "ipython3",
   "version": "3.8.8"
  },
  "latex_envs": {
   "LaTeX_envs_menu_present": true,
   "autoclose": false,
   "autocomplete": true,
   "bibliofile": "biblio.bib",
   "cite_by": "apalike",
   "current_citInitial": 1,
   "eqLabelWithNumbers": true,
   "eqNumInitial": 1,
   "hotkeys": {
    "equation": "Ctrl-E",
    "itemize": "Ctrl-I"
   },
   "labels_anchors": false,
   "latex_user_defs": false,
   "report_style_numbering": false,
   "user_envs_cfg": false
  },
  "nbTranslate": {
   "displayLangs": [
    "*"
   ],
   "hotkey": "alt-t",
   "langInMainMenu": true,
   "sourceLang": "en",
   "targetLang": "fr",
   "useGoogleTranslate": true
  },
  "toc": {
   "base_numbering": 1,
   "nav_menu": {},
   "number_sections": true,
   "sideBar": true,
   "skip_h1_title": false,
   "title_cell": "Table of Contents",
   "title_sidebar": "Contents",
   "toc_cell": true,
   "toc_position": {},
   "toc_section_display": true,
   "toc_window_display": false
  }
 },
 "nbformat": 4,
 "nbformat_minor": 5
}
