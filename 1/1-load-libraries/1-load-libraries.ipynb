{
 "cells": [
  {
   "cell_type": "markdown",
   "id": "72338949",
   "metadata": {
    "toc": true
   },
   "source": [
    "<h1>Table of Contents<span class=\"tocSkip\"></span></h1>\n",
    "<div class=\"toc\"><ul class=\"toc-item\"><li><span><a href=\"#Импортирование-и-использование-библиотек\" data-toc-modified-id=\"Импортирование-и-использование-библиотек-1\"><span class=\"toc-item-num\">1&nbsp;&nbsp;</span>Импортирование и использование библиотек</a></span></li><li><span><a href=\"#Что-значит-запись-import-something-as-...\" data-toc-modified-id=\"Что-значит-запись-import-something-as-...-2\"><span class=\"toc-item-num\">2&nbsp;&nbsp;</span>Что значит запись <code>import something as ...</code></a></span></li><li><span><a href=\"#Как-использовать-то,-что-мы-импортировали?\" data-toc-modified-id=\"Как-использовать-то,-что-мы-импортировали?-3\"><span class=\"toc-item-num\">3&nbsp;&nbsp;</span>Как использовать то, что мы импортировали?</a></span></li></ul></div>"
   ]
  },
  {
   "cell_type": "markdown",
   "id": "13948de2",
   "metadata": {},
   "source": [
    "# Импортирование и использование библиотек\n",
    "\n",
    "Вы уже наверное встречали такой код:\n",
    "\n",
    "```python\n",
    "import pandas as pd\n",
    "import numpy as np\n",
    "import matplotlib.pyplot as plt\n",
    "from scipy import stats\n",
    "```\n",
    "\n",
    "Так в Pyhton импортируют библиотеки для дальнейшего использования. \n",
    "Эти команды аналогичны ```library(Package)``` in R. \n",
    "\n",
    "Основное отличие импорта в Python заключается в том, что чаще всего мы импортируем не все функции из библиотеки, как по умолчанию в R, а только отдельные \"модули\" (кстати, именно так на самом деле и называются \"python-module\") и обращаемся к ним за функциями и данными. Это, в первую очередь, позволяет нам всегда знать, откуда взялась используемая нами функция."
   ]
  },
  {
   "cell_type": "markdown",
   "id": "29ebf670",
   "metadata": {},
   "source": [
    "# Что значит запись `import something as ...`\n",
    "\n",
    "Запись `as ..` означает, что вы хотите дать импортируемому модулю или функции, или данным, или объектам имя, которое вам удобнее использовать. Фактически вы создаете некую переменную, значением которой является то, что вы импортируете.\n",
    "\n",
    "Имя, которое вы выбираете и записываете после `as ..`, обычно называется \"псевдоним импорта\" (\"import alias\"). Часто используемые библиотеки обычно имеют традиционные псевдонимы, как в приведенном выше примере. Именно поэтому мы чаще всего видим, что эти библиотеки импортируются таким образом, но это не значит, что вы обязательно должны импортировать их таким образом. "
   ]
  },
  {
   "cell_type": "code",
   "execution_count": 2,
   "id": "8bd6603f",
   "metadata": {
    "ExecuteTime": {
     "end_time": "2023-01-19T07:48:38.563349Z",
     "start_time": "2023-01-19T07:48:38.515348Z"
    }
   },
   "outputs": [],
   "source": [
    "import pandas as pd\n",
    "import numpy as np\n",
    "import matplotlib.pyplot as plt\n",
    "from scipy import stats"
   ]
  },
  {
   "cell_type": "markdown",
   "id": "39ef5ef4",
   "metadata": {},
   "source": [
    "# Как использовать то, что мы импортировали?\n",
    "\n",
    "Чтобы импортировать класс или функцию из модуля, мы используем оператор `.`. aka DOT. Это и правда ТОЧКА:\n",
    "\n",
    "```python\n",
    "pd + . + function name ->\n",
    "```\n",
    "\n",
    "```python\n",
    "pd.read_csv()\n",
    "pd.DataFrame()\n",
    "np.log()\n",
    "plt.plot()\n",
    "stats.mannwhitneyu()\n",
    "```"
   ]
  }
 ],
 "metadata": {
  "kernelspec": {
   "display_name": "Python 3",
   "language": "python",
   "name": "python3"
  },
  "language_info": {
   "codemirror_mode": {
    "name": "ipython",
    "version": 3
   },
   "file_extension": ".py",
   "mimetype": "text/x-python",
   "name": "python",
   "nbconvert_exporter": "python",
   "pygments_lexer": "ipython3",
   "version": "3.8.8"
  },
  "latex_envs": {
   "LaTeX_envs_menu_present": true,
   "autoclose": false,
   "autocomplete": true,
   "bibliofile": "biblio.bib",
   "cite_by": "apalike",
   "current_citInitial": 1,
   "eqLabelWithNumbers": true,
   "eqNumInitial": 1,
   "hotkeys": {
    "equation": "Ctrl-E",
    "itemize": "Ctrl-I"
   },
   "labels_anchors": false,
   "latex_user_defs": false,
   "report_style_numbering": false,
   "user_envs_cfg": false
  },
  "nbTranslate": {
   "displayLangs": [
    "*"
   ],
   "hotkey": "alt-t",
   "langInMainMenu": true,
   "sourceLang": "en",
   "targetLang": "fr",
   "useGoogleTranslate": true
  },
  "toc": {
   "base_numbering": 1,
   "nav_menu": {},
   "number_sections": true,
   "sideBar": true,
   "skip_h1_title": false,
   "title_cell": "Table of Contents",
   "title_sidebar": "Contents",
   "toc_cell": true,
   "toc_position": {},
   "toc_section_display": true,
   "toc_window_display": false
  }
 },
 "nbformat": 4,
 "nbformat_minor": 5
}
