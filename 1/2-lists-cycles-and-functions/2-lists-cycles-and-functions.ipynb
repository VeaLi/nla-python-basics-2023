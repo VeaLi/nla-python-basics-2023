{
 "cells": [
  {
   "cell_type": "markdown",
   "id": "5afb021f",
   "metadata": {
    "toc": true
   },
   "source": [
    "<h1>Table of Contents<span class=\"tocSkip\"></span></h1>\n",
    "<div class=\"toc\"><ul class=\"toc-item\"><li><span><a href=\"#Вектора-(Списки),-циклы,-функции-и-логические-условия\" data-toc-modified-id=\"Вектора-(Списки),-циклы,-функции-и-логические-условия-1\"><span class=\"toc-item-num\">1&nbsp;&nbsp;</span>Вектора (Списки), циклы, функции и логические условия</a></span></li><li><span><a href=\"#Порядок-воспроизведение-кода-в-Jupyter-Notebook\" data-toc-modified-id=\"Порядок-воспроизведение-кода-в-Jupyter-Notebook-2\"><span class=\"toc-item-num\">2&nbsp;&nbsp;</span>Порядок воспроизведение кода в Jupyter Notebook</a></span><ul class=\"toc-item\"><li><span><a href=\"#Расположите-ячейки-в-правильном-порядке-(0)\" data-toc-modified-id=\"Расположите-ячейки-в-правильном-порядке-(0)-2.1\"><span class=\"toc-item-num\">2.1&nbsp;&nbsp;</span>Расположите ячейки в правильном порядке (0)</a></span></li><li><span><a href=\"#Расположите-ячейки-в-правильном-порядке-(1)\" data-toc-modified-id=\"Расположите-ячейки-в-правильном-порядке-(1)-2.2\"><span class=\"toc-item-num\">2.2&nbsp;&nbsp;</span>Расположите ячейки в правильном порядке (1)</a></span></li><li><span><a href=\"#Расположите-ячейки-в-правильном-порядке-(2)\" data-toc-modified-id=\"Расположите-ячейки-в-правильном-порядке-(2)-2.3\"><span class=\"toc-item-num\">2.3&nbsp;&nbsp;</span>Расположите ячейки в правильном порядке (2)</a></span></li><li><span><a href=\"#Переменные\" data-toc-modified-id=\"Переменные-2.4\"><span class=\"toc-item-num\">2.4&nbsp;&nbsp;</span>Переменные</a></span><ul class=\"toc-item\"><li><span><a href=\"#Создайте-переменную,-содержащую-ваше-имя,-и-переменную,-содержащую-год-вашего-рождения\" data-toc-modified-id=\"Создайте-переменную,-содержащую-ваше-имя,-и-переменную,-содержащую-год-вашего-рождения-2.4.1\"><span class=\"toc-item-num\">2.4.1&nbsp;&nbsp;</span>Создайте переменную, содержащую ваше имя, и переменную, содержащую год вашего рождения</a></span></li><li><span><a href=\"#Выведете-на-экрна-одержимое-переменной,-содержащей-ваше-имя,-и-переменной,-содержащей-год-вашего-рождения.\" data-toc-modified-id=\"Выведете-на-экрна-одержимое-переменной,-содержащей-ваше-имя,-и-переменной,-содержащей-год-вашего-рождения.-2.4.2\"><span class=\"toc-item-num\">2.4.2&nbsp;&nbsp;</span>Выведете на экрна одержимое переменной, содержащей ваше имя, и переменной, содержащей год вашего рождения.</a></span></li></ul></li></ul></li><li><span><a href=\"#Вектора-(списки)\" data-toc-modified-id=\"Вектора-(списки)-3\"><span class=\"toc-item-num\">3&nbsp;&nbsp;</span>Вектора (списки)</a></span><ul class=\"toc-item\"><li><ul class=\"toc-item\"><li><span><a href=\"#Создайте-вектор-(список)-Python-или-Numpy-со-средней-температурой-за-неделю\" data-toc-modified-id=\"Создайте-вектор-(список)-Python-или-Numpy-со-средней-температурой-за-неделю-3.0.1\"><span class=\"toc-item-num\">3.0.1&nbsp;&nbsp;</span>Создайте вектор (список) Python или Numpy со средней температурой за неделю</a></span></li><li><span><a href=\"#Используйте-функцию-len()-на-вашем-векторе-со-значениями-температуры\" data-toc-modified-id=\"Используйте-функцию-len()-на-вашем-векторе-со-значениями-температуры-3.0.2\"><span class=\"toc-item-num\">3.0.2&nbsp;&nbsp;</span>Используйте функцию <code>len()</code> на вашем векторе со значениями температуры</a></span></li><li><span><a href=\"#Выведете-на-экран-первый-элемент-созданного-вектора\" data-toc-modified-id=\"Выведете-на-экран-первый-элемент-созданного-вектора-3.0.3\"><span class=\"toc-item-num\">3.0.3&nbsp;&nbsp;</span>Выведете на экран первый элемент созданного вектора</a></span></li></ul></li></ul></li><li><span><a href=\"#Столбцы-в-Pandas-также-являются-списками-(векторами)\" data-toc-modified-id=\"Столбцы-в-Pandas-также-являются-списками-(векторами)-4\"><span class=\"toc-item-num\">4&nbsp;&nbsp;</span>Столбцы в Pandas также являются списками (векторами)</a></span><ul class=\"toc-item\"><li><span><a href=\"#Создайте-пустой-датафрейм-Pandas-и-запишиете-его-в-переменную-weather\" data-toc-modified-id=\"Создайте-пустой-датафрейм-Pandas-и-запишиете-его-в-переменную-weather-4.1\"><span class=\"toc-item-num\">4.1&nbsp;&nbsp;</span>Создайте пустой датафрейм Pandas и запишиете его в переменную <code>weather</code></a></span></li><li><span><a href=\"#Использую-созданный-ранее-вектор-температур-создайте-новый-столбец-в-датафрейме-weather\" data-toc-modified-id=\"Использую-созданный-ранее-вектор-температур-создайте-новый-столбец-в-датафрейме-weather-4.2\"><span class=\"toc-item-num\">4.2&nbsp;&nbsp;</span>Использую созданный ранее вектор температур создайте новый столбец в датафрейме <code>weather</code></a></span></li><li><span><a href=\"#Выведете-первые-5-строк-датафрейма-weather-на-экран\" data-toc-modified-id=\"Выведете-первые-5-строк-датафрейма-weather-на-экран-4.3\"><span class=\"toc-item-num\">4.3&nbsp;&nbsp;</span>Выведете первые 5 строк датафрейма <code>weather</code> на экран</a></span></li></ul></li><li><span><a href=\"#Циклы\" data-toc-modified-id=\"Циклы-5\"><span class=\"toc-item-num\">5&nbsp;&nbsp;</span>Циклы</a></span><ul class=\"toc-item\"><li><span><a href=\"#Выведите-все-элементы-вектора-температур-на-экран,-используя-ручную-индексацию-и-цикл\" data-toc-modified-id=\"Выведите-все-элементы-вектора-температур-на-экран,-используя-ручную-индексацию-и-цикл-5.1\"><span class=\"toc-item-num\">5.1&nbsp;&nbsp;</span>Выведите все элементы вектора температур на экран, используя ручную индексацию и цикл</a></span></li></ul></li><li><span><a href=\"#Функции\" data-toc-modified-id=\"Функции-6\"><span class=\"toc-item-num\">6&nbsp;&nbsp;</span>Функции</a></span><ul class=\"toc-item\"><li><span><a href=\"#Короткая-запись-для-вашей-функции\" data-toc-modified-id=\"Короткая-запись-для-вашей-функции-6.1\"><span class=\"toc-item-num\">6.1&nbsp;&nbsp;</span>Короткая запись для вашей функции</a></span><ul class=\"toc-item\"><li><ul class=\"toc-item\"><li><span><a href=\"#Напишите-короткую-функцию,-которая-преобразует-ваш-вектор-температуры-из-°C-в-°F,-примените-ее\" data-toc-modified-id=\"Напишите-короткую-функцию,-которая-преобразует-ваш-вектор-температуры-из-°C-в-°F,-примените-ее-6.1.0.1\"><span class=\"toc-item-num\">6.1.0.1&nbsp;&nbsp;</span>Напишите короткую функцию, которая преобразует ваш вектор температуры из °C в °F, примените ее</a></span></li></ul></li></ul></li><li><span><a href=\"#Длинная-запись-для-вашей-функцииэ\" data-toc-modified-id=\"Длинная-запись-для-вашей-функцииэ-6.2\"><span class=\"toc-item-num\">6.2&nbsp;&nbsp;</span>Длинная запись для вашей функцииэ</a></span><ul class=\"toc-item\"><li><ul class=\"toc-item\"><li><span><a href=\"#Напишите-длинную-функцию,-которая-преобразует-ваш-вектор-температуры-из-°C-в-°F,-примените-ее\" data-toc-modified-id=\"Напишите-длинную-функцию,-которая-преобразует-ваш-вектор-температуры-из-°C-в-°F,-примените-ее-6.2.0.1\"><span class=\"toc-item-num\">6.2.0.1&nbsp;&nbsp;</span>Напишите длинную функцию, которая преобразует ваш вектор температуры из °C в °F, примените ее</a></span></li></ul></li></ul></li><li><span><a href=\"#Функции-могут-принимать-множество-аргументов\" data-toc-modified-id=\"Функции-могут-принимать-множество-аргументов-6.3\"><span class=\"toc-item-num\">6.3&nbsp;&nbsp;</span>Функции могут принимать множество аргументов</a></span><ul class=\"toc-item\"><li><span><a href=\"#Напишите-длинную-функцию,-которая-принимает-вектор-температур,-имя-нового-столбца-и-пустой-датафрейм-Pandas-и-возвращает-датафрейм-с-новым-соответсвующем-столбцом.-Примините-её\" data-toc-modified-id=\"Напишите-длинную-функцию,-которая-принимает-вектор-температур,-имя-нового-столбца-и-пустой-датафрейм-Pandas-и-возвращает-датафрейм-с-новым-соответсвующем-столбцом.-Примините-её-6.3.1\"><span class=\"toc-item-num\">6.3.1&nbsp;&nbsp;</span>Напишите длинную функцию, которая принимает вектор температур, имя нового столбца и пустой датафрейм Pandas и возвращает датафрейм с новым соответсвующем столбцом. Примините её</a></span></li></ul></li><li><span><a href=\"#Логические-условия---if-elif-else\" data-toc-modified-id=\"Логические-условия---if-elif-else-6.4\"><span class=\"toc-item-num\">6.4&nbsp;&nbsp;</span>Логические условия - <code>if-elif-else</code></a></span><ul class=\"toc-item\"><li><span><a href=\"#Попробуйте-создать-функцию,-которая-принимает-вектор-температур-и-возвращает-вердикт-о-&quot;холодности&quot;-погоды-на-основе-среднего-значения,-как-в-примере-выше\" data-toc-modified-id=\"Попробуйте-создать-функцию,-которая-принимает-вектор-температур-и-возвращает-вердикт-о-&quot;холодности&quot;-погоды-на-основе-среднего-значения,-как-в-примере-выше-6.4.1\"><span class=\"toc-item-num\">6.4.1&nbsp;&nbsp;</span>Попробуйте создать функцию, которая принимает вектор температур и возвращает вердикт о \"холодности\" погоды на основе среднего значения, как в примере выше</a></span></li></ul></li></ul></li></ul></div>"
   ]
  },
  {
   "cell_type": "markdown",
   "id": "9e0b0824",
   "metadata": {},
   "source": [
    "# Вектора (Списки), циклы, функции и логические условия"
   ]
  },
  {
   "cell_type": "markdown",
   "id": "ffac4249",
   "metadata": {},
   "source": [
    "Работая с библиотеками Python - в частности, Pandas и Matplotlib - вы можете столкнуться с векторами (списками), циклами, функциями и логическими условиями."
   ]
  },
  {
   "cell_type": "markdown",
   "id": "c53e461d",
   "metadata": {},
   "source": [
    "# Порядок воспроизведение кода в Jupyter Notebook\n",
    "\n",
    "Код в ячейках Jupyter Notebook может воспроизводиться независимо, однако (!) если код в текущей ячейке подразумевает выполнение предыдущих ячеек - эти ячейки необходимо воспроизводить в логической последовательности."
   ]
  },
  {
   "cell_type": "markdown",
   "id": "e6f5ff56",
   "metadata": {},
   "source": [
    "## Расположите ячейки в правильном порядке (0)\n",
    "\n",
    "Ожидаемый результат: последняя ячейка показывает количество пациентов и людей из контрольной группы, участвующих в исследовании"
   ]
  },
  {
   "cell_type": "code",
   "execution_count": null,
   "id": "03ea169f",
   "metadata": {},
   "outputs": [],
   "source": [
    "# Шаг ?. Вывод значения переменной на экран\n",
    "\n",
    "\n",
    "total_participants"
   ]
  },
  {
   "cell_type": "code",
   "execution_count": null,
   "id": "165ba61e",
   "metadata": {},
   "outputs": [],
   "source": [
    "# Шаг ?. Создание и манипуляция с переменными\n",
    "\n",
    "\n",
    "total_participants = female_patiens + male_patients + female_control + male_control"
   ]
  },
  {
   "cell_type": "code",
   "execution_count": null,
   "id": "379fedf6",
   "metadata": {},
   "outputs": [],
   "source": [
    "# Шаг ?. Создание переменных\n",
    "\n",
    "\n",
    "female_patiens = 100\n",
    "male_patients = 80\n",
    "\n",
    "female_control = 40\n",
    "male_control = 30"
   ]
  },
  {
   "cell_type": "markdown",
   "id": "4e623350",
   "metadata": {},
   "source": [
    "## Расположите ячейки в правильном порядке (1)\n",
    "\n",
    "Ожидаемый результат: в последней ячейке выводятся описание функции \"pd.read_csv\"."
   ]
  },
  {
   "cell_type": "code",
   "execution_count": null,
   "id": "5a9c7596",
   "metadata": {
    "ExecuteTime": {
     "end_time": "2023-01-26T06:01:46.672954Z",
     "start_time": "2023-01-26T06:01:46.655956Z"
    }
   },
   "outputs": [],
   "source": [
    "# Шаг ?. Использование встроенной функции help на объекте Python для получения информации о нем\n",
    "\n",
    "help(pd.read_csv)"
   ]
  },
  {
   "cell_type": "code",
   "execution_count": null,
   "id": "bb4afa19",
   "metadata": {
    "ExecuteTime": {
     "end_time": "2023-01-26T06:15:06.822130Z",
     "start_time": "2023-01-26T06:15:06.798123Z"
    }
   },
   "outputs": [],
   "source": [
    "# Шаг ?. Использование встроенной функции dir на объекте Python для получения информации о его методах и свойствах\n",
    "\n",
    "dir(pd)"
   ]
  },
  {
   "cell_type": "code",
   "execution_count": null,
   "id": "bd6a9eca",
   "metadata": {
    "ExecuteTime": {
     "end_time": "2023-01-26T05:57:39.203351Z",
     "start_time": "2023-01-26T05:57:39.198346Z"
    }
   },
   "outputs": [],
   "source": [
    "# Шаг ?. Загрузка библиотеки pandas\n",
    "\n",
    "\n",
    "import pandas as pd"
   ]
  },
  {
   "cell_type": "markdown",
   "id": "02e6801e",
   "metadata": {},
   "source": [
    "## Расположите ячейки в правильном порядке (2)\n",
    "\n",
    "Ожидаемый результат: в последней ячейке выводятся первые 2 строки данных."
   ]
  },
  {
   "cell_type": "code",
   "execution_count": null,
   "id": "36bae704",
   "metadata": {
    "ExecuteTime": {
     "end_time": "2023-01-26T05:39:18.769461Z",
     "start_time": "2023-01-26T05:39:18.667062Z"
    }
   },
   "outputs": [],
   "source": [
    "# Шаг ?. Проверка правильности прочтения данных\n",
    "\n",
    "# Показывает 2 первых строки Pandas датафрейма\n",
    "data.head(2)"
   ]
  },
  {
   "cell_type": "code",
   "execution_count": null,
   "id": "fb0a43d9",
   "metadata": {},
   "outputs": [],
   "source": [
    "# Шаг ?. Загрузка библиотеки pandas\n",
    "\n",
    "\n",
    "# загружает библиотеку pandas под коротким псевдонимом \"pd\" для работы с данными (датафреймами)\n",
    "import pandas as pd"
   ]
  },
  {
   "cell_type": "code",
   "execution_count": null,
   "id": "f9e89812",
   "metadata": {},
   "outputs": [],
   "source": [
    "# Шаг ?. Установка библиотеки wget\n",
    "\n",
    "# https://pypi.org/project/wget/ - позволяет использовать wget в различных операционных системах!\n",
    "# используйте wget - для загрузки файлов по ссылке в Интернете, картинок, данных итд\n",
    "\n",
    "!pip install wget"
   ]
  },
  {
   "cell_type": "code",
   "execution_count": null,
   "id": "c418dab2",
   "metadata": {},
   "outputs": [],
   "source": [
    "# Шаг ?. Создание переменной url\n",
    "\n",
    "\n",
    "# ссылка на файл в Интернете\n",
    "# в данном примере на файл данных о цветах ириса\n",
    "url = 'https://archive.ics.uci.edu/ml/machine-learning-databases/iris/iris.data'"
   ]
  },
  {
   "cell_type": "code",
   "execution_count": null,
   "id": "71c0b6af",
   "metadata": {
    "ExecuteTime": {
     "end_time": "2023-01-26T05:38:58.731301Z",
     "start_time": "2023-01-26T05:38:57.827519Z"
    }
   },
   "outputs": [],
   "source": [
    "# Шаг ?. Загрузка библиотеки wget\n",
    "\n",
    "\n",
    "# загружает библиотеку wget без короткого псевдонима для загрузки файлов по ссылке в Интернете\n",
    "import wget"
   ]
  },
  {
   "cell_type": "code",
   "execution_count": null,
   "id": "4b60f8b2",
   "metadata": {},
   "outputs": [],
   "source": [
    "# Шаг ?. Использование метода \".download()\" из библиотеки wget\n",
    "\n",
    "\n",
    "# Использование метода \".download()\" из библиотеки wget для загрузки файла\n",
    "# используя адрес файла, хранящегося в переменной \"url\";\n",
    "# с сохранением скачиваемого файла под именем \"iris.csv\" в текущей папке\n",
    "wget.download(url, out='iris.csv')"
   ]
  },
  {
   "cell_type": "code",
   "execution_count": null,
   "id": "11763afd",
   "metadata": {
    "ExecuteTime": {
     "end_time": "2023-01-26T05:39:14.266125Z",
     "start_time": "2023-01-26T05:39:14.203658Z"
    }
   },
   "outputs": [],
   "source": [
    "# Шаг ?. Чтение данных из файла 'csv' в pandas dataframe\n",
    "\n",
    "\n",
    "# чтение скаченных данных в формате '.csv' с использованием функционад библиотеки для работы с данными - pandas\n",
    "data = pd.read_csv('iris.csv')"
   ]
  },
  {
   "cell_type": "markdown",
   "id": "99063494",
   "metadata": {},
   "source": [
    "## Переменные\n",
    "\n",
    "Переменная - это имя объекта, котороый программист выбирает самостоятельно. В переменную можно записывать датафреймы, списки, числа, функции итд.\n",
    "\n",
    "### Создайте переменную, содержащую ваше имя, и переменную, содержащую год вашего рождения"
   ]
  },
  {
   "cell_type": "code",
   "execution_count": null,
   "id": "e0ed3fea",
   "metadata": {},
   "outputs": [],
   "source": []
  },
  {
   "cell_type": "markdown",
   "id": "01131708",
   "metadata": {},
   "source": [
    "### Выведете на экрна одержимое переменной, содержащей ваше имя, и переменной, содержащей год вашего рождения."
   ]
  },
  {
   "cell_type": "code",
   "execution_count": null,
   "id": "d0d99e2a",
   "metadata": {},
   "outputs": [],
   "source": []
  },
  {
   "cell_type": "markdown",
   "id": "13ea0619",
   "metadata": {},
   "source": [
    "# Вектора (списки)\n",
    "\n",
    "Векторы или списки - это объекты, содержащие несколько переменных. Они используются для удобного хранения и перечисления переменных.\n",
    "Для создания простых списков без математических свойств мы используем квадратные скобки - `[]`.\n",
    "Массивы из библиотеки `numpy` используются для создания списков и матриц с математическими свойствами - `np.array()`.\n",
    "\n",
    "*Пример:*\n",
    "```python\n",
    "names = ['Akerke', 'Adilet', 'Ablay'] # можно хранить элементы в списке\n",
    "\n",
    "name1 = 'Akerke'\n",
    "name2 = 'Adilet'\n",
    "name3 = 'Ablay'\n",
    "names = [name1, name2, name3]\n",
    "\n",
    "measurements = [0.5, 0.2, 0.2]\n",
    "\n",
    "```\n",
    "\n",
    "\n",
    "*Пример:*\n",
    "```python\n",
    "import numpy as np\n",
    "\n",
    "names = ['Akerke', 'Adilet', 'Ablay']\n",
    "names = np.array(names) # массивы numpy создаются из списков Python\n",
    "print(names)\n",
    "\n",
    "measurements = [0.5, 0.2, 0.2]\n",
    "measurements = np.array(measurements) # массивы numpy создаются из списков Python\n",
    "print(measurements)\n",
    "\n",
    "print(measurements*measurements) # можно складывать и перемножать вектора, по элементно\n",
    "print(measurements@measurements) # скалярно\n",
    "\n",
    "print(np.min(measurements)) # применять функцию ко всем элементам вектора\n",
    "print(np.round(measurements)) # применять функцию ко всем элементам вектора\n",
    "```"
   ]
  },
  {
   "cell_type": "markdown",
   "id": "707ced2a",
   "metadata": {
    "ExecuteTime": {
     "end_time": "2023-01-26T06:33:44.341871Z",
     "start_time": "2023-01-26T06:33:44.326869Z"
    }
   },
   "source": [
    "### Создайте вектор (список) Python или Numpy со средней температурой за неделю\n",
    "\n",
    "Ожидаемый результат: Создана переменная с 7 значениями"
   ]
  },
  {
   "cell_type": "code",
   "execution_count": null,
   "id": "ca867466",
   "metadata": {},
   "outputs": [],
   "source": []
  },
  {
   "cell_type": "markdown",
   "id": "81b48a9e",
   "metadata": {},
   "source": [
    "### Используйте функцию `len()` на вашем векторе со значениями температуры\n",
    "\n",
    "Ожидаемый результат: Длина созданного вектора - 7"
   ]
  },
  {
   "cell_type": "code",
   "execution_count": null,
   "id": "f6b53b64",
   "metadata": {},
   "outputs": [],
   "source": []
  },
  {
   "cell_type": "markdown",
   "id": "a5b9a499",
   "metadata": {},
   "source": [
    "### Выведете на экран первый элемент созданного вектора\n",
    "\n",
    "Идексация (получение доступа к элементам векторов (списков), матриц, массивов и датафреймовм) производиться с использованием указвания целочисленного индека элемента. Индексация в Python начинается с нуля!\n",
    "\n",
    "\n",
    "\n",
    "*Пример:*\n",
    "```python\n",
    "temperatures = [-2, 0, -5, -3, 0, 5, 3]\n",
    "print(temperatures[0])  # первый элемент в списке\n",
    "\n",
    "temperatures = np.array([-2, 0, -5, -3, 0, 5, 3])\n",
    "print(temperatures[1])  # второй элемент в списке\n",
    "```\n",
    "\n",
    "\n",
    "Ожидаемый результат: на экран вывелось одно число"
   ]
  },
  {
   "cell_type": "code",
   "execution_count": null,
   "id": "63139796",
   "metadata": {},
   "outputs": [],
   "source": []
  },
  {
   "cell_type": "markdown",
   "id": "bf8bbba6",
   "metadata": {},
   "source": [
    "# Столбцы в Pandas также являются списками (векторами)\n",
    "\n",
    "## Создайте пустой датафрейм Pandas и запишиете его в переменную `weather`\n",
    "\n",
    "\n",
    "*Пример:*\n",
    "```python\n",
    "# Пустой датафрейм Pandas можно создать так:\n",
    "\n",
    "import pandas as pd # если Pandas ещё не загружен\n",
    "\n",
    "empty_data = pd.DataFrame() # создание пустого датафрейма\n",
    "```\n",
    "\n",
    "Ожидаемый результат: создан пустой датафрейм Pandas под названием (в переменной) - `weather`"
   ]
  },
  {
   "cell_type": "code",
   "execution_count": null,
   "id": "97a06412",
   "metadata": {},
   "outputs": [],
   "source": []
  },
  {
   "cell_type": "markdown",
   "id": "fbeef16f",
   "metadata": {},
   "source": [
    "## Использую созданный ранее вектор температур создайте новый столбец в датафрейме `weather`\n",
    "\n",
    "\n",
    "*Пример:*\n",
    "```python\n",
    "# Пустой датафрейм Pandas можно создать так:\n",
    "\n",
    "import pandas as pd # если Pandas ещё не загружен\n",
    "\n",
    "empty_data = pd.DataFrame() # создание пустого датафрейма\n",
    "\n",
    "values = [v1, v2, v3, v4]\n",
    "empty_data['New-Column-Name'] = values\n",
    "```\n",
    "\n",
    "Ожидаемый результат: создан новая колонка с данными в датафрейме `weather`"
   ]
  },
  {
   "cell_type": "code",
   "execution_count": null,
   "id": "65612f25",
   "metadata": {},
   "outputs": [],
   "source": []
  },
  {
   "cell_type": "markdown",
   "id": "c02e550d",
   "metadata": {},
   "source": [
    "## Выведете первые 5 строк датафрейма `weather` на экран"
   ]
  },
  {
   "cell_type": "code",
   "execution_count": null,
   "id": "696d1f15",
   "metadata": {},
   "outputs": [],
   "source": []
  },
  {
   "cell_type": "markdown",
   "id": "9c04613d",
   "metadata": {},
   "source": [
    "# Циклы\n",
    "\n",
    "Цикл - это способ автоматического обращения к значениям векторов, списков и матриц в определенном порядке.\n",
    "\n",
    "Для написания цикла используются следующая конструкция:\n",
    "\n",
    "```python\n",
    "for t in temperatures:\n",
    "    print(t) # NB! На месте функции print - могла бы быть другая функция!\n",
    "\n",
    "for i in range(len(temperatures)):\n",
    "    print(temperatures[i])\n",
    "```"
   ]
  },
  {
   "cell_type": "markdown",
   "id": "79e7fc25",
   "metadata": {},
   "source": [
    "## Выведите все элементы вектора температур на экран, используя ручную индексацию и цикл"
   ]
  },
  {
   "cell_type": "code",
   "execution_count": null,
   "id": "ab20b145",
   "metadata": {
    "ExecuteTime": {
     "end_time": "2023-01-26T07:01:04.004538Z",
     "start_time": "2023-01-26T07:01:03.972225Z"
    }
   },
   "outputs": [],
   "source": []
  },
  {
   "cell_type": "code",
   "execution_count": null,
   "id": "60418358",
   "metadata": {},
   "outputs": [],
   "source": []
  },
  {
   "cell_type": "markdown",
   "id": "67d8cd3e",
   "metadata": {},
   "source": [
    "# Функции\n",
    "\n",
    "Функции - это набор действий (код), которым кто-то уже дал имя. Мы уже использовали функции - `print, help, dir, np.array, np.min, np.round, pd.read_csv` и т.д. Код, который вы написали ранее в ячейках - можно поместить в переменную, а так как код будет выполнять ряд действий - это будет функция.\n",
    "\n",
    "Однако переменные функции записываются несколько иначе, чем другие переменные.\n",
    "\n",
    "## Короткая запись для вашей функции\n",
    "\n",
    "```python\n",
    "get_abs_temp = lambda x: np.abs(x) # создание функции\n",
    "\n",
    "temperatures = np.array([-2, 0, -5, -3, 0, 5, 3])\n",
    "print(get_abs_temp(temperatures)) # применение функции\n",
    "\n",
    "```"
   ]
  },
  {
   "cell_type": "markdown",
   "id": "b2622cc2",
   "metadata": {
    "ExecuteTime": {
     "end_time": "2023-01-26T07:09:06.604267Z",
     "start_time": "2023-01-26T07:09:06.596256Z"
    }
   },
   "source": [
    "#### Напишите короткую функцию, которая преобразует ваш вектор температуры из °C в °F, примените ее\n",
    "\n",
    "°С в °F = (0°C × 9/5) + 32"
   ]
  },
  {
   "cell_type": "code",
   "execution_count": null,
   "id": "b81e0496",
   "metadata": {},
   "outputs": [],
   "source": []
  },
  {
   "cell_type": "code",
   "execution_count": null,
   "id": "c5ba038b",
   "metadata": {},
   "outputs": [],
   "source": [
    "# Bonuss! Теперь вы можете создать новую колонку на основе старой\n",
    "\n",
    "# weather['temp F'] = weather['temperatures'].apply(c2f)\n",
    "# weather.head(5)"
   ]
  },
  {
   "cell_type": "markdown",
   "id": "670de380",
   "metadata": {},
   "source": [
    "## Длинная запись для вашей функцииэ\n",
    "\n",
    "Если логика у функции сложная - используют длинную запись для функций:\n",
    "\n",
    "```python\n",
    "def get_abs_temp(x): # создание функции\n",
    "    \"\"\"\n",
    "    Функция `get_abs_temp` возращает абсолютное значение аргумента\n",
    "  \n",
    "    \"\"\"\n",
    "    x = np.abs(x)\n",
    "    return x\n",
    "\n",
    "temperatures = np.array([-2, 0, -5, -3, 0, 5, 3])\n",
    "print(get_abs_temp(temperatures)) # применение функции\n",
    "```"
   ]
  },
  {
   "cell_type": "markdown",
   "id": "68b5714e",
   "metadata": {
    "ExecuteTime": {
     "end_time": "2023-01-26T07:16:08.130686Z",
     "start_time": "2023-01-26T07:16:08.116437Z"
    }
   },
   "source": [
    "#### Напишите длинную функцию, которая преобразует ваш вектор температуры из °C в °F, примените ее"
   ]
  },
  {
   "cell_type": "code",
   "execution_count": null,
   "id": "67090955",
   "metadata": {},
   "outputs": [],
   "source": []
  },
  {
   "cell_type": "markdown",
   "id": "72618f95",
   "metadata": {},
   "source": [
    "## Функции могут принимать множество аргументов\n",
    "\n",
    "\n",
    "### Напишите длинную функцию, которая принимает вектор температур, имя нового столбца и пустой датафрейм Pandas и возвращает датафрейм с новым соответсвующем столбцом. Примините её\n",
    "\n",
    "\n",
    "*Пример*\n",
    "```python\n",
    "def add_column(vec, col_name, df):  # создание функции\n",
    "\n",
    "    df[col_name] = vec\n",
    "    \n",
    "    return df\n",
    "```"
   ]
  },
  {
   "cell_type": "markdown",
   "id": "19996491",
   "metadata": {},
   "source": [
    "## Логические условия - `if-elif-else`\n",
    "\n",
    "Логические условия в Python в основном представлены в виде `if-elif-else'. Применять такую логику очень просто. Однако если условий много, результат может быть неочевидным.\n",
    "\n",
    "\n",
    "*Пример*\n",
    "```python\n",
    "\n",
    "temperatures = np.array([-2, 0, -5, -3, 0, 5, 3])\n",
    "\n",
    "if np.mean(temperatures) > 0:\n",
    "    print('Тепло')\n",
    "\n",
    "elif np.mean(temperatures) < 0:\n",
    "    print('Холодно')\n",
    "    \n",
    "else:\n",
    "    print('Ни холодно, ни тепло')\n",
    "    \n",
    "```"
   ]
  },
  {
   "cell_type": "markdown",
   "id": "ff9a6db3",
   "metadata": {},
   "source": [
    "### Попробуйте создать функцию, которая принимает вектор температур и возвращает вердикт о \"холодности\" погоды на основе среднего значения, как в примере выше"
   ]
  },
  {
   "cell_type": "code",
   "execution_count": null,
   "id": "65650da0",
   "metadata": {},
   "outputs": [],
   "source": []
  }
 ],
 "metadata": {
  "kernelspec": {
   "display_name": "Python 3",
   "language": "python",
   "name": "python3"
  },
  "language_info": {
   "codemirror_mode": {
    "name": "ipython",
    "version": 3
   },
   "file_extension": ".py",
   "mimetype": "text/x-python",
   "name": "python",
   "nbconvert_exporter": "python",
   "pygments_lexer": "ipython3",
   "version": "3.8.8"
  },
  "latex_envs": {
   "LaTeX_envs_menu_present": true,
   "autoclose": false,
   "autocomplete": true,
   "bibliofile": "biblio.bib",
   "cite_by": "apalike",
   "current_citInitial": 1,
   "eqLabelWithNumbers": true,
   "eqNumInitial": 1,
   "hotkeys": {
    "equation": "Ctrl-E",
    "itemize": "Ctrl-I"
   },
   "labels_anchors": false,
   "latex_user_defs": false,
   "report_style_numbering": false,
   "user_envs_cfg": false
  },
  "nbTranslate": {
   "displayLangs": [
    "*"
   ],
   "hotkey": "alt-t",
   "langInMainMenu": true,
   "sourceLang": "en",
   "targetLang": "fr",
   "useGoogleTranslate": true
  },
  "toc": {
   "base_numbering": 1,
   "nav_menu": {},
   "number_sections": true,
   "sideBar": true,
   "skip_h1_title": false,
   "title_cell": "Table of Contents",
   "title_sidebar": "Contents",
   "toc_cell": true,
   "toc_position": {},
   "toc_section_display": true,
   "toc_window_display": false
  }
 },
 "nbformat": 4,
 "nbformat_minor": 5
}
