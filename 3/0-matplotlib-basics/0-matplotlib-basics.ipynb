{
 "cells": [
  {
   "cell_type": "markdown",
   "id": "342adc1d",
   "metadata": {
    "toc": true
   },
   "source": [
    "<h1>Table of Contents<span class=\"tocSkip\"></span></h1>\n",
    "<div class=\"toc\"><ul class=\"toc-item\"><li><span><a href=\"#Matplotlib\" data-toc-modified-id=\"Matplotlib-1\"><span class=\"toc-item-num\">1&nbsp;&nbsp;</span><a href=\"https://matplotlib.org/\" target=\"_blank\">Matplotlib</a></a></span><ul class=\"toc-item\"><li><span><a href=\"#Виды-простых-графиков\" data-toc-modified-id=\"Виды-простых-графиков-1.1\"><span class=\"toc-item-num\">1.1&nbsp;&nbsp;</span><a href=\"https://matplotlib.org/stable/plot_types/index\" target=\"_blank\">Виды простых графиков</a></a></span></li><li><span><a href=\"#Примеры-графиков-с-кодом\" data-toc-modified-id=\"Примеры-графиков-с-кодом-1.2\"><span class=\"toc-item-num\">1.2&nbsp;&nbsp;</span><a href=\"https://matplotlib.org/stable/gallery/index.html\" target=\"_blank\">Примеры графиков с кодом</a></a></span></li><li><span><a href=\"#Примеры:-Latex,-шрифты-и-стили\" data-toc-modified-id=\"Примеры:-Latex,-шрифты-и-стили-1.3\"><span class=\"toc-item-num\">1.3&nbsp;&nbsp;</span>Примеры: Latex, шрифты и стили</a></span></li></ul></li><li><span><a href=\"#Что-визуализировать?-Загрузка-данных\" data-toc-modified-id=\"Что-визуализировать?-Загрузка-данных-2\"><span class=\"toc-item-num\">2&nbsp;&nbsp;</span>Что визуализировать? Загрузка данных</a></span></li><li><span><a href=\"#Как-использовать-функции-из-библиотеки-Matplotlib?\" data-toc-modified-id=\"Как-использовать-функции-из-библиотеки-Matplotlib?-3\"><span class=\"toc-item-num\">3&nbsp;&nbsp;</span>Как использовать функции из библиотеки Matplotlib?</a></span></li><li><span><a href=\"#Как-создать-график\" data-toc-modified-id=\"Как-создать-график-4\"><span class=\"toc-item-num\">4&nbsp;&nbsp;</span>Как создать график</a></span><ul class=\"toc-item\"><li><span><a href=\"#Как-не-нужно-создавать-графики\" data-toc-modified-id=\"Как-не-нужно-создавать-графики-4.1\"><span class=\"toc-item-num\">4.1&nbsp;&nbsp;</span>Как не нужно создавать графики</a></span></li><li><span><a href=\"#Важные-частые-параметры-и-запись-в-файл\" data-toc-modified-id=\"Важные-частые-параметры-и-запись-в-файл-4.2\"><span class=\"toc-item-num\">4.2&nbsp;&nbsp;</span>Важные частые параметры и запись в файл</a></span><ul class=\"toc-item\"><li><span><a href=\"#Figsize,-sharex,-sharey\" data-toc-modified-id=\"Figsize,-sharex,-sharey-4.2.1\"><span class=\"toc-item-num\">4.2.1&nbsp;&nbsp;</span>Figsize, sharex, sharey</a></span></li><li><span><a href=\"#Названия-графиков,-подграфиков-и-их-осей\" data-toc-modified-id=\"Названия-графиков,-подграфиков-и-их-осей-4.2.2\"><span class=\"toc-item-num\">4.2.2&nbsp;&nbsp;</span>Названия графиков, подграфиков и их осей</a></span></li><li><span><a href=\"#Запись-графиков-в-файл\" data-toc-modified-id=\"Запись-графиков-в-файл-4.2.3\"><span class=\"toc-item-num\">4.2.3&nbsp;&nbsp;</span>Запись графиков в файл</a></span></li></ul></li><li><span><a href=\"#Мозайка\" data-toc-modified-id=\"Мозайка-4.3\"><span class=\"toc-item-num\">4.3&nbsp;&nbsp;</span>Мозайка</a></span></li></ul></li><li><span><a href=\"#Гистограмма-(Histogram)\" data-toc-modified-id=\"Гистограмма-(Histogram)-5\"><span class=\"toc-item-num\">5&nbsp;&nbsp;</span>Гистограмма (Histogram)</a></span></li><li><span><a href=\"#Линейный-график-(Linear-plot)\" data-toc-modified-id=\"Линейный-график-(Linear-plot)-6\"><span class=\"toc-item-num\">6&nbsp;&nbsp;</span>Линейный график (Linear plot)</a></span></li><li><span><a href=\"#Диграмма-рассеивания-(Scatter-plot)\" data-toc-modified-id=\"Диграмма-рассеивания-(Scatter-plot)-7\"><span class=\"toc-item-num\">7&nbsp;&nbsp;</span>Диграмма рассеивания (Scatter plot)</a></span></li><li><span><a href=\"#Диграммы-размаха\" data-toc-modified-id=\"Диграммы-размаха-8\"><span class=\"toc-item-num\">8&nbsp;&nbsp;</span>Диграммы размаха</a></span><ul class=\"toc-item\"><li><span><a href=\"#Ящик-с-усами,-Скрипичный-график-(Boxplot,-Violinplot)\" data-toc-modified-id=\"Ящик-с-усами,-Скрипичный-график-(Boxplot,-Violinplot)-8.1\"><span class=\"toc-item-num\">8.1&nbsp;&nbsp;</span>Ящик с усами, Скрипичный график (Boxplot, Violinplot)</a></span></li></ul></li><li><span><a href=\"#Столбчатая-диаграмма-(Barplot)\" data-toc-modified-id=\"Столбчатая-диаграмма-(Barplot)-9\"><span class=\"toc-item-num\">9&nbsp;&nbsp;</span>Столбчатая диаграмма (Barplot)</a></span></li><li><span><a href=\"#Создайте-график-с-несколькими-непустыми-подграфамиками\" data-toc-modified-id=\"Создайте-график-с-несколькими-непустыми-подграфамиками-10\"><span class=\"toc-item-num\">10&nbsp;&nbsp;</span>Создайте график с несколькими непустыми подграфамиками</a></span></li></ul></div>"
   ]
  },
  {
   "cell_type": "markdown",
   "id": "cbc844d3",
   "metadata": {},
   "source": [
    "# [Matplotlib](https://matplotlib.org/)\n",
    "\n",
    "## [Виды простых графиков](https://matplotlib.org/stable/plot_types/index)\n",
    "\n",
    "## [Примеры графиков с кодом](https://matplotlib.org/stable/gallery/index.html)\n",
    "\n",
    "## Примеры: Latex, шрифты и стили"
   ]
  },
  {
   "cell_type": "markdown",
   "id": "5a0ee061",
   "metadata": {},
   "source": [
    "# Что визуализировать? Загрузка данных\n",
    "\n",
    "-  Загрузите данные с помощью библиотеки `Pandas`\n",
    "-  Выведите на экран первые $5$ строк датафрейма\n",
    "-  Выведите на экран последние $5$ строк датафрейма\n",
    "-  Подсчитайте число объектов в каждом классе\n",
    "-  Выведите 'summary' для числовых переменных\n",
    "\n",
    "\n",
    "*Вы можете использовать `'iris.csv'`*\n",
    "\n",
    "\n",
    "---\n",
    "\\* \"датафрейм\" - данные, которые вы считываете из файла в таблицу\n",
    "\n",
    "---\n",
    "\n",
    "\\*\\* \"объект\" - строка в таблице с данными, относящимися к одному наблюдению:\n",
    "\n",
    "|              | Имя    | Пол   |   Возраст |\n",
    "|:-------------|:-------|:------|----------:|\n",
    "| Участник № 1 | Эдуард | М     |        37 |\n",
    "\n",
    "---\n",
    "\n",
    "(↑) \"Участник № 1\" - один из объектов (англ. `object`, `record`, `row`) в датафрейме; \n",
    "\n",
    "{`Имя`, `Пол`, `Возраст`} - признаки (англ.`features`, `columns`) в датафрейме\n",
    "\n",
    "---\n",
    "\n",
    "Примечание: датафрейм из примера с участником был создан и распечатан в формате markdown ( а можно, например, в Latex или html, json) с помощью следующей команды:\n",
    "\n",
    "```python\n",
    "pd.DataFrame(data=[['Эдуард', 'М', 37]], # список со списком - матрица с одной строкой\n",
    "             columns=['Имя', 'Пол', 'Возраст'], # список\n",
    "             index=['Участник № 1']).to_markdown()\n",
    "```"
   ]
  },
  {
   "cell_type": "code",
   "execution_count": null,
   "id": "4d00a48a",
   "metadata": {},
   "outputs": [],
   "source": []
  },
  {
   "cell_type": "markdown",
   "id": "84d6abfd",
   "metadata": {},
   "source": [
    "# Как использовать функции из библиотеки Matplotlib?\n",
    "\n",
    "\n",
    "- Установите библиотеку `Matplotlib`\n",
    "- Обновите библиотеку `Matplotlib`\n",
    "- Загрузите функции библиотеки `Matplotlib`, модуля `pyplot`"
   ]
  },
  {
   "cell_type": "code",
   "execution_count": null,
   "id": "3f882a0b",
   "metadata": {
    "ExecuteTime": {
     "end_time": "2023-02-01T06:52:11.634104Z",
     "start_time": "2023-02-01T06:52:11.464914Z"
    }
   },
   "outputs": [],
   "source": []
  },
  {
   "cell_type": "markdown",
   "id": "4109dbe0",
   "metadata": {},
   "source": [
    "# Как создать график\n",
    "\n",
    "- Создайте график с помощью функции `subplots`\n",
    "\n",
    "Примечание: Если график имеет более одного подграфа, преобразуйте матрицу с подграфами в вектор с помощью команды `flatten` применив его к осям подграфов (личный метод  `axes`) `axes`."
   ]
  },
  {
   "cell_type": "code",
   "execution_count": null,
   "id": "25892dd4",
   "metadata": {},
   "outputs": [],
   "source": []
  },
  {
   "cell_type": "code",
   "execution_count": null,
   "id": "718ff443",
   "metadata": {},
   "outputs": [],
   "source": []
  },
  {
   "cell_type": "markdown",
   "id": "0e8248fc",
   "metadata": {},
   "source": [
    "## Как не нужно создавать графики\n",
    "\n",
    "Остерегайтесь создания графиков с помощью команды `subplot`."
   ]
  },
  {
   "cell_type": "code",
   "execution_count": null,
   "id": "dc139a94",
   "metadata": {
    "ExecuteTime": {
     "end_time": "2023-02-01T07:12:07.117528Z",
     "start_time": "2023-02-01T07:12:04.634482Z"
    }
   },
   "outputs": [],
   "source": []
  },
  {
   "cell_type": "code",
   "execution_count": null,
   "id": "cb1ef264",
   "metadata": {
    "ExecuteTime": {
     "end_time": "2023-02-01T07:12:20.260879Z",
     "start_time": "2023-02-01T07:12:20.061055Z"
    }
   },
   "outputs": [],
   "source": []
  },
  {
   "cell_type": "markdown",
   "id": "be262dbf",
   "metadata": {},
   "source": [
    "## Важные частые параметры и запись в файл\n",
    "\n",
    "### Figsize, sharex, sharey"
   ]
  },
  {
   "cell_type": "code",
   "execution_count": null,
   "id": "a394544e",
   "metadata": {},
   "outputs": [],
   "source": []
  },
  {
   "cell_type": "markdown",
   "id": "e5576692",
   "metadata": {},
   "source": [
    "### Названия графиков, подграфиков и их осей"
   ]
  },
  {
   "cell_type": "code",
   "execution_count": null,
   "id": "cde5bd38",
   "metadata": {},
   "outputs": [],
   "source": []
  },
  {
   "cell_type": "markdown",
   "id": "75f74c6d",
   "metadata": {},
   "source": [
    "### Запись графиков в файл"
   ]
  },
  {
   "cell_type": "code",
   "execution_count": null,
   "id": "eeec8c6f",
   "metadata": {},
   "outputs": [],
   "source": []
  },
  {
   "cell_type": "markdown",
   "id": "a4e633e6",
   "metadata": {},
   "source": [
    "## Мозайка"
   ]
  },
  {
   "cell_type": "code",
   "execution_count": null,
   "id": "99c46f4d",
   "metadata": {},
   "outputs": [],
   "source": []
  },
  {
   "cell_type": "markdown",
   "id": "75bb31bb",
   "metadata": {},
   "source": [
    "# Гистограмма (Histogram)"
   ]
  },
  {
   "cell_type": "code",
   "execution_count": null,
   "id": "1d2dc890",
   "metadata": {},
   "outputs": [],
   "source": []
  },
  {
   "cell_type": "markdown",
   "id": "58b62336",
   "metadata": {},
   "source": [
    "# Линейный график (Linear plot)"
   ]
  },
  {
   "cell_type": "code",
   "execution_count": null,
   "id": "f179c1b9",
   "metadata": {},
   "outputs": [],
   "source": []
  },
  {
   "cell_type": "markdown",
   "id": "e4ab4c67",
   "metadata": {},
   "source": [
    "# Диграмма рассеивания (Scatter plot)"
   ]
  },
  {
   "cell_type": "code",
   "execution_count": null,
   "id": "579ac7c6",
   "metadata": {},
   "outputs": [],
   "source": []
  },
  {
   "cell_type": "markdown",
   "id": "6651afde",
   "metadata": {},
   "source": [
    "# Диграммы размаха"
   ]
  },
  {
   "cell_type": "markdown",
   "id": "8e3ee920",
   "metadata": {},
   "source": [
    "## Ящик с усами, Скрипичный график (Boxplot, Violinplot)"
   ]
  },
  {
   "cell_type": "code",
   "execution_count": null,
   "id": "b5590e93",
   "metadata": {
    "ExecuteTime": {
     "end_time": "2023-02-01T07:15:03.904350Z",
     "start_time": "2023-02-01T07:15:03.735237Z"
    }
   },
   "outputs": [],
   "source": []
  },
  {
   "cell_type": "markdown",
   "id": "1244bdae",
   "metadata": {},
   "source": [
    "# Столбчатая диаграмма (Barplot)\n",
    "\n",
    "- Найдите среднее значение всех числовых переменных, сохраните их в переменной `means`;\n",
    "- Найдите стандартное отклонение всех числовых переменных и сохраните в переменную `stds`;\n",
    "- Создайте список с именами всех числовых переменных;\n",
    "- Создайте столбчатую диаграмму, используя средние значения, стандартные отклонения и названия переменных."
   ]
  },
  {
   "cell_type": "code",
   "execution_count": null,
   "id": "9bb635de",
   "metadata": {
    "ExecuteTime": {
     "end_time": "2023-02-01T07:23:16.272413Z",
     "start_time": "2023-02-01T07:23:16.128094Z"
    }
   },
   "outputs": [],
   "source": []
  },
  {
   "cell_type": "markdown",
   "id": "08a761c2",
   "metadata": {},
   "source": [
    "# Создайте график с несколькими непустыми подграфамиками"
   ]
  },
  {
   "cell_type": "code",
   "execution_count": null,
   "id": "6db0eaf0",
   "metadata": {},
   "outputs": [],
   "source": []
  }
 ],
 "metadata": {
  "kernelspec": {
   "display_name": "Python 3",
   "language": "python",
   "name": "python3"
  },
  "language_info": {
   "codemirror_mode": {
    "name": "ipython",
    "version": 3
   },
   "file_extension": ".py",
   "mimetype": "text/x-python",
   "name": "python",
   "nbconvert_exporter": "python",
   "pygments_lexer": "ipython3",
   "version": "3.8.8"
  },
  "latex_envs": {
   "LaTeX_envs_menu_present": true,
   "autoclose": false,
   "autocomplete": true,
   "bibliofile": "biblio.bib",
   "cite_by": "apalike",
   "current_citInitial": 1,
   "eqLabelWithNumbers": true,
   "eqNumInitial": 1,
   "hotkeys": {
    "equation": "Ctrl-E",
    "itemize": "Ctrl-I"
   },
   "labels_anchors": false,
   "latex_user_defs": false,
   "report_style_numbering": false,
   "user_envs_cfg": false
  },
  "nbTranslate": {
   "displayLangs": [
    "*"
   ],
   "hotkey": "alt-t",
   "langInMainMenu": true,
   "sourceLang": "en",
   "targetLang": "fr",
   "useGoogleTranslate": true
  },
  "toc": {
   "base_numbering": 1,
   "nav_menu": {},
   "number_sections": true,
   "sideBar": true,
   "skip_h1_title": false,
   "title_cell": "Table of Contents",
   "title_sidebar": "Contents",
   "toc_cell": true,
   "toc_position": {},
   "toc_section_display": true,
   "toc_window_display": false
  }
 },
 "nbformat": 4,
 "nbformat_minor": 5
}
