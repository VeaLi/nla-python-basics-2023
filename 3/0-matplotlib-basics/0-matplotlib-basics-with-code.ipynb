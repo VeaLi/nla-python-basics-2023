{
 "cells": [
  {
   "cell_type": "markdown",
   "id": "342adc1d",
   "metadata": {
    "toc": true
   },
   "source": [
    "<h1>Table of Contents<span class=\"tocSkip\"></span></h1>\n",
    "<div class=\"toc\"><ul class=\"toc-item\"><li><span><a href=\"#Matplotlib\" data-toc-modified-id=\"Matplotlib-1\"><span class=\"toc-item-num\">1&nbsp;&nbsp;</span><a href=\"https://matplotlib.org/\" target=\"_blank\">Matplotlib</a></a></span><ul class=\"toc-item\"><li><span><a href=\"#Виды-простых-графиков\" data-toc-modified-id=\"Виды-простых-графиков-1.1\"><span class=\"toc-item-num\">1.1&nbsp;&nbsp;</span><a href=\"https://matplotlib.org/stable/plot_types/index\" target=\"_blank\">Виды простых графиков</a></a></span></li><li><span><a href=\"#Примеры-графиков-с-кодом\" data-toc-modified-id=\"Примеры-графиков-с-кодом-1.2\"><span class=\"toc-item-num\">1.2&nbsp;&nbsp;</span><a href=\"https://matplotlib.org/stable/gallery/index.html\" target=\"_blank\">Примеры графиков с кодом</a></a></span></li><li><span><a href=\"#Примеры:-Latex,-шрифты-и-стили\" data-toc-modified-id=\"Примеры:-Latex,-шрифты-и-стили-1.3\"><span class=\"toc-item-num\">1.3&nbsp;&nbsp;</span>Примеры: Latex, шрифты и стили</a></span></li></ul></li><li><span><a href=\"#Что-визуализировать?-Загрузка-данных\" data-toc-modified-id=\"Что-визуализировать?-Загрузка-данных-2\"><span class=\"toc-item-num\">2&nbsp;&nbsp;</span>Что визуализировать? Загрузка данных</a></span></li><li><span><a href=\"#Как-использовать-функции-из-библиотеки-Matplotlib?\" data-toc-modified-id=\"Как-использовать-функции-из-библиотеки-Matplotlib?-3\"><span class=\"toc-item-num\">3&nbsp;&nbsp;</span>Как использовать функции из библиотеки Matplotlib?</a></span></li><li><span><a href=\"#Как-создать-график\" data-toc-modified-id=\"Как-создать-график-4\"><span class=\"toc-item-num\">4&nbsp;&nbsp;</span>Как создать график</a></span><ul class=\"toc-item\"><li><span><a href=\"#Как-не-нужно-создавать-графики\" data-toc-modified-id=\"Как-не-нужно-создавать-графики-4.1\"><span class=\"toc-item-num\">4.1&nbsp;&nbsp;</span>Как не нужно создавать графики</a></span></li><li><span><a href=\"#Важные-частые-параметры-и-запись-в-файл\" data-toc-modified-id=\"Важные-частые-параметры-и-запись-в-файл-4.2\"><span class=\"toc-item-num\">4.2&nbsp;&nbsp;</span>Важные частые параметры и запись в файл</a></span><ul class=\"toc-item\"><li><span><a href=\"#Figsize,-sharex,-sharey\" data-toc-modified-id=\"Figsize,-sharex,-sharey-4.2.1\"><span class=\"toc-item-num\">4.2.1&nbsp;&nbsp;</span>Figsize, sharex, sharey</a></span></li><li><span><a href=\"#Названия-графиков,-подграфиков-и-их-осей\" data-toc-modified-id=\"Названия-графиков,-подграфиков-и-их-осей-4.2.2\"><span class=\"toc-item-num\">4.2.2&nbsp;&nbsp;</span>Названия графиков, подграфиков и их осей</a></span></li><li><span><a href=\"#Запись-графиков-в-файл\" data-toc-modified-id=\"Запись-графиков-в-файл-4.2.3\"><span class=\"toc-item-num\">4.2.3&nbsp;&nbsp;</span>Запись графиков в файл</a></span></li></ul></li><li><span><a href=\"#Мозайка\" data-toc-modified-id=\"Мозайка-4.3\"><span class=\"toc-item-num\">4.3&nbsp;&nbsp;</span>Мозайка</a></span></li></ul></li><li><span><a href=\"#Гистограмма-(Histogram)\" data-toc-modified-id=\"Гистограмма-(Histogram)-5\"><span class=\"toc-item-num\">5&nbsp;&nbsp;</span>Гистограмма (Histogram)</a></span></li><li><span><a href=\"#Линейный-график-(Linear-plot)\" data-toc-modified-id=\"Линейный-график-(Linear-plot)-6\"><span class=\"toc-item-num\">6&nbsp;&nbsp;</span>Линейный график (Linear plot)</a></span></li><li><span><a href=\"#Диграмма-рассеивания-(Scatter-plot)\" data-toc-modified-id=\"Диграмма-рассеивания-(Scatter-plot)-7\"><span class=\"toc-item-num\">7&nbsp;&nbsp;</span>Диграмма рассеивания (Scatter plot)</a></span></li><li><span><a href=\"#Диграммы-размаха\" data-toc-modified-id=\"Диграммы-размаха-8\"><span class=\"toc-item-num\">8&nbsp;&nbsp;</span>Диграммы размаха</a></span><ul class=\"toc-item\"><li><span><a href=\"#Ящик-с-усами,-Скрипичный-график-(Boxplot,-Violinplot)\" data-toc-modified-id=\"Ящик-с-усами,-Скрипичный-график-(Boxplot,-Violinplot)-8.1\"><span class=\"toc-item-num\">8.1&nbsp;&nbsp;</span>Ящик с усами, Скрипичный график (Boxplot, Violinplot)</a></span></li></ul></li><li><span><a href=\"#Столбчатая-диаграмма-(Barplot)\" data-toc-modified-id=\"Столбчатая-диаграмма-(Barplot)-9\"><span class=\"toc-item-num\">9&nbsp;&nbsp;</span>Столбчатая диаграмма (Barplot)</a></span></li><li><span><a href=\"#Создайте-график-с-несколькими-непустыми-подграфамиками\" data-toc-modified-id=\"Создайте-график-с-несколькими-непустыми-подграфамиками-10\"><span class=\"toc-item-num\">10&nbsp;&nbsp;</span>Создайте график с несколькими непустыми подграфамиками</a></span></li></ul></div>"
   ]
  },
  {
   "cell_type": "markdown",
   "id": "cbc844d3",
   "metadata": {},
   "source": [
    "# [Matplotlib](https://matplotlib.org/)\n",
    "\n",
    "## [Виды простых графиков](https://matplotlib.org/stable/plot_types/index)\n",
    "\n",
    "## [Примеры графиков с кодом](https://matplotlib.org/stable/gallery/index.html)\n",
    "\n",
    "## Примеры: Latex, шрифты и стили"
   ]
  },
  {
   "cell_type": "markdown",
   "id": "5a0ee061",
   "metadata": {},
   "source": [
    "# Что визуализировать? Загрузка данных\n",
    "\n",
    "-  Загрузите данные с помощью библиотеки `Pandas`\n",
    "-  Выведите на экран первые $5$ строк датафрейма\n",
    "-  Выведите на экран последние $5$ строк датафрейма\n",
    "-  Подсчитайте число объектов в каждом классе\n",
    "-  Выведите 'summary' для числовых переменных\n",
    "\n",
    "\n",
    "*Вы можете использовать `'iris.csv'`*\n",
    "\n",
    "\n",
    "---\n",
    "\\* \"датафрейм\" - данные, которые вы считываете из файла в таблицу\n",
    "\n",
    "---\n",
    "\n",
    "\\*\\* \"объект\" - строка в таблице с данными, относящимися к одному наблюдению:\n",
    "\n",
    "|              | Имя    | Пол   |   Возраст |\n",
    "|:-------------|:-------|:------|----------:|\n",
    "| Участник № 1 | Эдуард | М     |        37 |\n",
    "\n",
    "---\n",
    "\n",
    "(↑) \"Участник № 1\" - один из объектов (англ. `object`, `record`, `row`) в датафрейме; \n",
    "\n",
    "{`Имя`, `Пол`, `Возраст`} - признаки (англ.`features`, `columns`) в датафрейме\n",
    "\n",
    "---\n",
    "\n",
    "Примечание: датафрейм из примера с участником был создан и распечатан в формате markdown ( а можно, например, в Latex или html, json) с помощью следующей команды:\n",
    "\n",
    "```python\n",
    "pd.DataFrame(data=[['Эдуард', 'М', 37]], # список со списком - матрица с одной строкой\n",
    "             columns=['Имя', 'Пол', 'Возраст'], # список\n",
    "             index=['Участник № 1']).to_markdown()\n",
    "```"
   ]
  },
  {
   "cell_type": "code",
   "execution_count": 1,
   "id": "4d00a48a",
   "metadata": {
    "ExecuteTime": {
     "end_time": "2023-02-01T09:41:32.781280Z",
     "start_time": "2023-02-01T09:41:27.911350Z"
    }
   },
   "outputs": [],
   "source": [
    "import pandas as pd"
   ]
  },
  {
   "cell_type": "code",
   "execution_count": 2,
   "id": "e72be843",
   "metadata": {
    "ExecuteTime": {
     "end_time": "2023-02-01T09:41:32.829279Z",
     "start_time": "2023-02-01T09:41:32.785286Z"
    }
   },
   "outputs": [],
   "source": [
    "data = pd.read_csv('iris.csv', sep=',')"
   ]
  },
  {
   "cell_type": "code",
   "execution_count": 3,
   "id": "cefff7c7",
   "metadata": {
    "ExecuteTime": {
     "end_time": "2023-02-01T09:41:32.877284Z",
     "start_time": "2023-02-01T09:41:32.832284Z"
    }
   },
   "outputs": [
    {
     "data": {
      "text/html": [
       "<div>\n",
       "<style scoped>\n",
       "    .dataframe tbody tr th:only-of-type {\n",
       "        vertical-align: middle;\n",
       "    }\n",
       "\n",
       "    .dataframe tbody tr th {\n",
       "        vertical-align: top;\n",
       "    }\n",
       "\n",
       "    .dataframe thead th {\n",
       "        text-align: right;\n",
       "    }\n",
       "</style>\n",
       "<table border=\"1\" class=\"dataframe\">\n",
       "  <thead>\n",
       "    <tr style=\"text-align: right;\">\n",
       "      <th></th>\n",
       "      <th>sepal length (cm)</th>\n",
       "      <th>sepal width (cm)</th>\n",
       "      <th>petal length (cm)</th>\n",
       "      <th>petal width (cm)</th>\n",
       "      <th>species</th>\n",
       "    </tr>\n",
       "  </thead>\n",
       "  <tbody>\n",
       "    <tr>\n",
       "      <th>145</th>\n",
       "      <td>6.7</td>\n",
       "      <td>3.0</td>\n",
       "      <td>5.2</td>\n",
       "      <td>2.3</td>\n",
       "      <td>virginica</td>\n",
       "    </tr>\n",
       "    <tr>\n",
       "      <th>146</th>\n",
       "      <td>6.3</td>\n",
       "      <td>2.5</td>\n",
       "      <td>5.0</td>\n",
       "      <td>1.9</td>\n",
       "      <td>virginica</td>\n",
       "    </tr>\n",
       "    <tr>\n",
       "      <th>147</th>\n",
       "      <td>6.5</td>\n",
       "      <td>3.0</td>\n",
       "      <td>5.2</td>\n",
       "      <td>2.0</td>\n",
       "      <td>virginica</td>\n",
       "    </tr>\n",
       "    <tr>\n",
       "      <th>148</th>\n",
       "      <td>6.2</td>\n",
       "      <td>3.4</td>\n",
       "      <td>5.4</td>\n",
       "      <td>2.3</td>\n",
       "      <td>virginica</td>\n",
       "    </tr>\n",
       "    <tr>\n",
       "      <th>149</th>\n",
       "      <td>5.9</td>\n",
       "      <td>3.0</td>\n",
       "      <td>5.1</td>\n",
       "      <td>1.8</td>\n",
       "      <td>virginica</td>\n",
       "    </tr>\n",
       "  </tbody>\n",
       "</table>\n",
       "</div>"
      ],
      "text/plain": [
       "     sepal length (cm)  sepal width (cm)  petal length (cm)  petal width (cm)  \\\n",
       "145                6.7               3.0                5.2               2.3   \n",
       "146                6.3               2.5                5.0               1.9   \n",
       "147                6.5               3.0                5.2               2.0   \n",
       "148                6.2               3.4                5.4               2.3   \n",
       "149                5.9               3.0                5.1               1.8   \n",
       "\n",
       "       species  \n",
       "145  virginica  \n",
       "146  virginica  \n",
       "147  virginica  \n",
       "148  virginica  \n",
       "149  virginica  "
      ]
     },
     "execution_count": 3,
     "metadata": {},
     "output_type": "execute_result"
    }
   ],
   "source": [
    "data.tail()"
   ]
  },
  {
   "cell_type": "code",
   "execution_count": 4,
   "id": "7081da28",
   "metadata": {
    "ExecuteTime": {
     "end_time": "2023-02-01T09:41:32.893292Z",
     "start_time": "2023-02-01T09:41:32.880290Z"
    }
   },
   "outputs": [],
   "source": [
    "# ValueError: Length mismatch: Expected axis has 5 elements, new values have 4 elements"
   ]
  },
  {
   "cell_type": "code",
   "execution_count": 5,
   "id": "c98697dc",
   "metadata": {
    "ExecuteTime": {
     "end_time": "2023-02-01T09:41:32.909281Z",
     "start_time": "2023-02-01T09:41:32.896295Z"
    }
   },
   "outputs": [
    {
     "data": {
      "text/plain": [
       "Index(['sepal length (cm)', 'sepal width (cm)', 'petal length (cm)',\n",
       "       'petal width (cm)', 'species'],\n",
       "      dtype='object')"
      ]
     },
     "execution_count": 5,
     "metadata": {},
     "output_type": "execute_result"
    }
   ],
   "source": [
    "data.columns"
   ]
  },
  {
   "cell_type": "code",
   "execution_count": 6,
   "id": "1211fb91",
   "metadata": {
    "ExecuteTime": {
     "end_time": "2023-02-01T09:41:32.925286Z",
     "start_time": "2023-02-01T09:41:32.912290Z"
    }
   },
   "outputs": [],
   "source": [
    "data.columns = ['sepal length (cm)',\n",
    "                'sepal width (cm)',\n",
    "                'petal length (cm)',\n",
    "                'petal width (cm)',\n",
    "                'species']\n",
    "# data.head()"
   ]
  },
  {
   "cell_type": "code",
   "execution_count": 7,
   "id": "025e988e",
   "metadata": {
    "ExecuteTime": {
     "end_time": "2023-02-01T09:41:32.941280Z",
     "start_time": "2023-02-01T09:41:32.929291Z"
    }
   },
   "outputs": [
    {
     "data": {
      "text/plain": [
       "['sepal length (cm)',\n",
       " 'sepal width (cm)',\n",
       " 'petal length (cm)',\n",
       " 'petal width (cm)',\n",
       " 'species']"
      ]
     },
     "execution_count": 7,
     "metadata": {},
     "output_type": "execute_result"
    }
   ],
   "source": [
    "list(data)"
   ]
  },
  {
   "cell_type": "code",
   "execution_count": 8,
   "id": "4a09a360",
   "metadata": {
    "ExecuteTime": {
     "end_time": "2023-02-01T09:41:32.957286Z",
     "start_time": "2023-02-01T09:41:32.946286Z"
    }
   },
   "outputs": [
    {
     "data": {
      "text/plain": [
       "setosa        50\n",
       "virginica     50\n",
       "versicolor    50\n",
       "Name: species, dtype: int64"
      ]
     },
     "execution_count": 8,
     "metadata": {},
     "output_type": "execute_result"
    }
   ],
   "source": [
    "data['species'].value_counts()"
   ]
  },
  {
   "cell_type": "code",
   "execution_count": 9,
   "id": "298f6c1d",
   "metadata": {
    "ExecuteTime": {
     "end_time": "2023-02-01T09:41:33.051287Z",
     "start_time": "2023-02-01T09:41:32.962296Z"
    }
   },
   "outputs": [
    {
     "data": {
      "text/html": [
       "<div>\n",
       "<style scoped>\n",
       "    .dataframe tbody tr th:only-of-type {\n",
       "        vertical-align: middle;\n",
       "    }\n",
       "\n",
       "    .dataframe tbody tr th {\n",
       "        vertical-align: top;\n",
       "    }\n",
       "\n",
       "    .dataframe thead th {\n",
       "        text-align: right;\n",
       "    }\n",
       "</style>\n",
       "<table border=\"1\" class=\"dataframe\">\n",
       "  <thead>\n",
       "    <tr style=\"text-align: right;\">\n",
       "      <th></th>\n",
       "      <th>sepal length (cm)</th>\n",
       "      <th>sepal width (cm)</th>\n",
       "      <th>petal length (cm)</th>\n",
       "      <th>petal width (cm)</th>\n",
       "    </tr>\n",
       "  </thead>\n",
       "  <tbody>\n",
       "    <tr>\n",
       "      <th>count</th>\n",
       "      <td>150.000000</td>\n",
       "      <td>150.000000</td>\n",
       "      <td>150.000000</td>\n",
       "      <td>150.000000</td>\n",
       "    </tr>\n",
       "    <tr>\n",
       "      <th>mean</th>\n",
       "      <td>5.843333</td>\n",
       "      <td>3.057333</td>\n",
       "      <td>3.758000</td>\n",
       "      <td>1.199333</td>\n",
       "    </tr>\n",
       "    <tr>\n",
       "      <th>std</th>\n",
       "      <td>0.828066</td>\n",
       "      <td>0.435866</td>\n",
       "      <td>1.765298</td>\n",
       "      <td>0.762238</td>\n",
       "    </tr>\n",
       "    <tr>\n",
       "      <th>min</th>\n",
       "      <td>4.300000</td>\n",
       "      <td>2.000000</td>\n",
       "      <td>1.000000</td>\n",
       "      <td>0.100000</td>\n",
       "    </tr>\n",
       "    <tr>\n",
       "      <th>25%</th>\n",
       "      <td>5.100000</td>\n",
       "      <td>2.800000</td>\n",
       "      <td>1.600000</td>\n",
       "      <td>0.300000</td>\n",
       "    </tr>\n",
       "    <tr>\n",
       "      <th>50%</th>\n",
       "      <td>5.800000</td>\n",
       "      <td>3.000000</td>\n",
       "      <td>4.350000</td>\n",
       "      <td>1.300000</td>\n",
       "    </tr>\n",
       "    <tr>\n",
       "      <th>75%</th>\n",
       "      <td>6.400000</td>\n",
       "      <td>3.300000</td>\n",
       "      <td>5.100000</td>\n",
       "      <td>1.800000</td>\n",
       "    </tr>\n",
       "    <tr>\n",
       "      <th>max</th>\n",
       "      <td>7.900000</td>\n",
       "      <td>4.400000</td>\n",
       "      <td>6.900000</td>\n",
       "      <td>2.500000</td>\n",
       "    </tr>\n",
       "  </tbody>\n",
       "</table>\n",
       "</div>"
      ],
      "text/plain": [
       "       sepal length (cm)  sepal width (cm)  petal length (cm)  \\\n",
       "count         150.000000        150.000000         150.000000   \n",
       "mean            5.843333          3.057333           3.758000   \n",
       "std             0.828066          0.435866           1.765298   \n",
       "min             4.300000          2.000000           1.000000   \n",
       "25%             5.100000          2.800000           1.600000   \n",
       "50%             5.800000          3.000000           4.350000   \n",
       "75%             6.400000          3.300000           5.100000   \n",
       "max             7.900000          4.400000           6.900000   \n",
       "\n",
       "       petal width (cm)  \n",
       "count        150.000000  \n",
       "mean           1.199333  \n",
       "std            0.762238  \n",
       "min            0.100000  \n",
       "25%            0.300000  \n",
       "50%            1.300000  \n",
       "75%            1.800000  \n",
       "max            2.500000  "
      ]
     },
     "execution_count": 9,
     "metadata": {},
     "output_type": "execute_result"
    }
   ],
   "source": [
    "data.describe()"
   ]
  },
  {
   "cell_type": "markdown",
   "id": "84d6abfd",
   "metadata": {},
   "source": [
    "# Как использовать функции из библиотеки Matplotlib?\n",
    "\n",
    "\n",
    "- Установите библиотеку `Matplotlib`\n",
    "- Обновите библиотеку `Matplotlib`\n",
    "- Загрузите функции библиотеки `Matplotlib`, модуля `pyplot`"
   ]
  },
  {
   "cell_type": "code",
   "execution_count": null,
   "id": "3f882a0b",
   "metadata": {
    "ExecuteTime": {
     "start_time": "2023-02-01T09:41:28.526Z"
    }
   },
   "outputs": [
    {
     "name": "stdout",
     "output_type": "stream",
     "text": [
      "Requirement already satisfied: matplotlib in a:\\programdata\\anaconda3\\lib\\site-packages (3.5.1)"
     ]
    },
    {
     "name": "stderr",
     "output_type": "stream",
     "text": [
      "WARNING: Ignoring invalid distribution -tkinter-pymol (a:\\programdata\\anaconda3\\dlls)"
     ]
    },
    {
     "name": "stdout",
     "output_type": "stream",
     "text": [
      "\n"
     ]
    },
    {
     "name": "stderr",
     "output_type": "stream",
     "text": [
      "\n"
     ]
    },
    {
     "name": "stdout",
     "output_type": "stream",
     "text": [
      "Requirement already satisfied: pillow>=6.2.0 in a:\\programdata\\anaconda3\\lib\\site-packages (from matplotlib) (9.2.0)"
     ]
    },
    {
     "name": "stderr",
     "output_type": "stream",
     "text": [
      "WARNING: Ignoring invalid distribution -pencv-python (a:\\programdata\\anaconda3\\lib\\site-packages)"
     ]
    },
    {
     "name": "stdout",
     "output_type": "stream",
     "text": [
      "\n",
      "Requirement already satisfied: python-dateutil>=2.7 in a:\\programdata\\anaconda3\\lib\\site-packages (from matplotlib) (2.8.1)"
     ]
    },
    {
     "name": "stderr",
     "output_type": "stream",
     "text": [
      "\n"
     ]
    },
    {
     "name": "stdout",
     "output_type": "stream",
     "text": [
      "\n"
     ]
    },
    {
     "name": "stderr",
     "output_type": "stream",
     "text": [
      "WARNING: Ignoring invalid distribution -lflow (a:\\programdata\\anaconda3\\lib\\site-packages)\n"
     ]
    },
    {
     "name": "stdout",
     "output_type": "stream",
     "text": [
      "Requirement already satisfied: packaging>=20.0 in a:\\programdata\\anaconda3\\lib\\site-packages (from matplotlib) (21.3)"
     ]
    },
    {
     "name": "stderr",
     "output_type": "stream",
     "text": [
      "WARNING: Ignoring invalid distribution -ip (a:\\programdata\\anaconda3\\lib\\site-packages)"
     ]
    },
    {
     "name": "stdout",
     "output_type": "stream",
     "text": [
      "\n"
     ]
    },
    {
     "name": "stderr",
     "output_type": "stream",
     "text": [
      "\n"
     ]
    },
    {
     "name": "stdout",
     "output_type": "stream",
     "text": [
      "Requirement already satisfied: pyparsing>=2.2.1 in a:\\programdata\\anaconda3\\lib\\site-packages (from matplotlib) (2.4.7)"
     ]
    },
    {
     "name": "stderr",
     "output_type": "stream",
     "text": [
      "WARNING: Ignoring invalid distribution -illow (a:\\programdata\\anaconda3\\lib\\site-packages)"
     ]
    },
    {
     "name": "stdout",
     "output_type": "stream",
     "text": [
      "\n"
     ]
    },
    {
     "name": "stderr",
     "output_type": "stream",
     "text": [
      "\n"
     ]
    },
    {
     "name": "stdout",
     "output_type": "stream",
     "text": [
      "Requirement already satisfied: kiwisolver>=1.0.1 in a:\\programdata\\anaconda3\\lib\\site-packages (from matplotlib) (1.3.1)\n"
     ]
    },
    {
     "name": "stderr",
     "output_type": "stream",
     "text": [
      "WARNING: Ignoring invalid distribution - (a:\\programdata\\anaconda3\\lib\\site-packages)"
     ]
    },
    {
     "name": "stdout",
     "output_type": "stream",
     "text": [
      "Requirement already satisfied: fonttools>=4.22.0 in a:\\programdata\\anaconda3\\lib\\site-packages (from matplotlib) (4.31.2)"
     ]
    },
    {
     "name": "stderr",
     "output_type": "stream",
     "text": [
      "\n"
     ]
    },
    {
     "name": "stdout",
     "output_type": "stream",
     "text": [
      "\n"
     ]
    },
    {
     "name": "stderr",
     "output_type": "stream",
     "text": [
      "WARNING: Ignoring invalid distribution -tkinter-pymol (a:\\programdata\\anaconda3\\dlls)"
     ]
    },
    {
     "name": "stdout",
     "output_type": "stream",
     "text": [
      "Requirement already satisfied: numpy>=1.17 in a:\\programdata\\anaconda3\\lib\\site-packages (from matplotlib) (1.22.3)"
     ]
    },
    {
     "name": "stderr",
     "output_type": "stream",
     "text": [
      "\n"
     ]
    },
    {
     "name": "stdout",
     "output_type": "stream",
     "text": [
      "\n"
     ]
    },
    {
     "name": "stderr",
     "output_type": "stream",
     "text": [
      "WARNING: Ignoring invalid distribution -pencv-python (a:\\programdata\\anaconda3\\lib\\site-packages)"
     ]
    },
    {
     "name": "stdout",
     "output_type": "stream",
     "text": [
      "Requirement already satisfied: cycler>=0.10 in a:\\programdata\\anaconda3\\lib\\site-packages (from matplotlib) (0.10.0)"
     ]
    },
    {
     "name": "stderr",
     "output_type": "stream",
     "text": [
      "\n"
     ]
    },
    {
     "name": "stdout",
     "output_type": "stream",
     "text": [
      "\n"
     ]
    },
    {
     "name": "stderr",
     "output_type": "stream",
     "text": [
      "WARNING: Ignoring invalid distribution -lflow (a:\\programdata\\anaconda3\\lib\\site-packages)"
     ]
    },
    {
     "name": "stdout",
     "output_type": "stream",
     "text": [
      "Requirement already satisfied: six in a:\\programdata\\anaconda3\\lib\\site-packages (from cycler>=0.10->matplotlib) (1.16.0)"
     ]
    },
    {
     "name": "stderr",
     "output_type": "stream",
     "text": [
      "\n"
     ]
    },
    {
     "name": "stdout",
     "output_type": "stream",
     "text": [
      "\n"
     ]
    },
    {
     "name": "stderr",
     "output_type": "stream",
     "text": [
      "WARNING: Ignoring invalid distribution -ip (a:\\programdata\\anaconda3\\lib\\site-packages)\n",
      "WARNING: Ignoring invalid distribution -illow (a:\\programdata\\anaconda3\\lib\\site-packages)\n",
      "WARNING: Ignoring invalid distribution - (a:\\programdata\\anaconda3\\lib\\site-packages)\n",
      "WARNING: Ignoring invalid distribution -tkinter-pymol (a:\\programdata\\anaconda3\\dlls)\n",
      "WARNING: Ignoring invalid distribution -pencv-python (a:\\programdata\\anaconda3\\lib\\site-packages)\n",
      "WARNING: Ignoring invalid distribution -lflow (a:\\programdata\\anaconda3\\lib\\site-packages)\n",
      "WARNING: Ignoring invalid distribution -ip (a:\\programdata\\anaconda3\\lib\\site-packages)\n",
      "WARNING: Ignoring invalid distribution -illow (a:\\programdata\\anaconda3\\lib\\site-packages)\n",
      "WARNING: Ignoring invalid distribution - (a:\\programdata\\anaconda3\\lib\\site-packages)\n",
      "WARNING: Ignoring invalid distribution -tkinter-pymol (a:\\programdata\\anaconda3\\dlls)\n",
      "WARNING: Ignoring invalid distribution -pencv-python (a:\\programdata\\anaconda3\\lib\\site-packages)\n",
      "WARNING: Ignoring invalid distribution -lflow (a:\\programdata\\anaconda3\\lib\\site-packages)\n",
      "WARNING: Ignoring invalid distribution -ip (a:\\programdata\\anaconda3\\lib\\site-packages)\n",
      "WARNING: Ignoring invalid distribution -illow (a:\\programdata\\anaconda3\\lib\\site-packages)\n",
      "WARNING: Ignoring invalid distribution - (a:\\programdata\\anaconda3\\lib\\site-packages)\n",
      "WARNING: Ignoring invalid distribution -tkinter-pymol (a:\\programdata\\anaconda3\\dlls)\n",
      "WARNING: Ignoring invalid distribution -pencv-python (a:\\programdata\\anaconda3\\lib\\site-packages)\n",
      "WARNING: Ignoring invalid distribution -lflow (a:\\programdata\\anaconda3\\lib\\site-packages)\n",
      "WARNING: Ignoring invalid distribution -ip (a:\\programdata\\anaconda3\\lib\\site-packages)\n",
      "WARNING: Ignoring invalid distribution -illow (a:\\programdata\\anaconda3\\lib\\site-packages)\n",
      "WARNING: Ignoring invalid distribution - (a:\\programdata\\anaconda3\\lib\\site-packages)\n",
      "WARNING: Ignoring invalid distribution -tkinter-pymol (a:\\programdata\\anaconda3\\dlls)\n",
      "WARNING: Ignoring invalid distribution -pencv-python (a:\\programdata\\anaconda3\\lib\\site-packages)\n",
      "WARNING: Ignoring invalid distribution -lflow (a:\\programdata\\anaconda3\\lib\\site-packages)\n",
      "WARNING: Ignoring invalid distribution -ip (a:\\programdata\\anaconda3\\lib\\site-packages)\n",
      "WARNING: Ignoring invalid distribution -illow (a:\\programdata\\anaconda3\\lib\\site-packages)\n",
      "WARNING: Ignoring invalid distribution - (a:\\programdata\\anaconda3\\lib\\site-packages)\n",
      "WARNING: You are using pip version 22.0.4; however, version 23.0 is available.\n",
      "You should consider upgrading via the 'a:\\programdata\\anaconda3\\python.exe -m pip install --upgrade pip' command.\n"
     ]
    }
   ],
   "source": [
    "!pip install matplotlib\n",
    "!pip install -U matplotlib"
   ]
  },
  {
   "cell_type": "code",
   "execution_count": null,
   "id": "62d1fe34",
   "metadata": {
    "ExecuteTime": {
     "start_time": "2023-02-01T09:41:28.560Z"
    }
   },
   "outputs": [],
   "source": [
    "import matplotlib.pyplot as plt"
   ]
  },
  {
   "cell_type": "markdown",
   "id": "4109dbe0",
   "metadata": {},
   "source": [
    "# Как создать график\n",
    "\n",
    "- Создайте график с помощью функции `subplots`\n",
    "\n",
    "Примечание: Если график имеет более одного подграфа, преобразуйте матрицу с подграфами в вектор с помощью команды `flatten` применив его к осям подграфов (личный метод  `axes`) `axes`."
   ]
  },
  {
   "cell_type": "code",
   "execution_count": null,
   "id": "25892dd4",
   "metadata": {
    "ExecuteTime": {
     "start_time": "2023-02-01T09:41:28.835Z"
    }
   },
   "outputs": [],
   "source": [
    "fig, axes = plt.subplots(2, 2)\n",
    "axes = axes.flatten()"
   ]
  },
  {
   "cell_type": "markdown",
   "id": "0e8248fc",
   "metadata": {},
   "source": [
    "## Как не нужно создавать графики\n",
    "\n",
    "Остерегайтесь создания графиков с помощью команды `subplot`."
   ]
  },
  {
   "cell_type": "code",
   "execution_count": null,
   "id": "dc139a94",
   "metadata": {
    "ExecuteTime": {
     "start_time": "2023-02-01T09:41:29.122Z"
    }
   },
   "outputs": [],
   "source": [
    "plt.subplot(111)"
   ]
  },
  {
   "cell_type": "code",
   "execution_count": null,
   "id": "cb1ef264",
   "metadata": {
    "ExecuteTime": {
     "start_time": "2023-02-01T09:41:29.164Z"
    }
   },
   "outputs": [],
   "source": [
    "plt.subplot(211)\n",
    "plt.subplot(212)"
   ]
  },
  {
   "cell_type": "markdown",
   "id": "be262dbf",
   "metadata": {},
   "source": [
    "## Важные частые параметры и запись в файл\n",
    "\n",
    "### Figsize, sharex, sharey"
   ]
  },
  {
   "cell_type": "code",
   "execution_count": null,
   "id": "a394544e",
   "metadata": {
    "ExecuteTime": {
     "start_time": "2023-02-01T09:41:29.454Z"
    }
   },
   "outputs": [],
   "source": [
    "fig, axes = plt.subplots(2, 2, figsize = (6, 6), sharex=True, sharey=True)"
   ]
  },
  {
   "cell_type": "markdown",
   "id": "e5576692",
   "metadata": {},
   "source": [
    "### Названия графиков, подграфиков и их осей"
   ]
  },
  {
   "cell_type": "code",
   "execution_count": null,
   "id": "cde5bd38",
   "metadata": {
    "ExecuteTime": {
     "start_time": "2023-02-01T09:41:29.700Z"
    }
   },
   "outputs": [],
   "source": [
    "fig, axes = plt.subplots(2, 2, figsize = (6, 6), sharex=True, sharey=True)\n",
    "\n",
    "axes = axes.flatten()\n",
    "\n",
    "axes[0].set_title('Sub Figure 1')\n",
    "axes[1].set_title('Sub Figure 2')\n",
    "axes[2].set_title('Sub Figure 3')\n",
    "axes[3].set_title('Sub Figure 4')\n",
    "\n",
    "fig.suptitle('Figure')\n",
    "\n",
    "axes[0].set_ylabel('Y-axis')\n",
    "axes[0].set_xlabel('X-axis')\n",
    "\n",
    "axes[1].set_ylabel('Y-axis')\n",
    "axes[1].set_xlabel('X-axis')\n",
    "\n",
    "axes[2].set_ylabel('Y-axis')\n",
    "axes[2].set_xlabel('X-axis')\n",
    "\n",
    "axes[3].set_ylabel('Y-axis')\n",
    "axes[3].set_xlabel('X-axis')\n",
    "\n",
    "fig.supylabel('Y')\n",
    "fig.supxlabel('X')\n",
    "\n",
    "plt.show()"
   ]
  },
  {
   "cell_type": "markdown",
   "id": "75f74c6d",
   "metadata": {},
   "source": [
    "### Запись графиков в файл"
   ]
  },
  {
   "cell_type": "code",
   "execution_count": null,
   "id": "eeec8c6f",
   "metadata": {
    "ExecuteTime": {
     "start_time": "2023-02-01T09:41:30.061Z"
    }
   },
   "outputs": [],
   "source": [
    "fig, axes = plt.subplots(2, 2, figsize = (6, 6), sharex=True, sharey=True)\n",
    "\n",
    "axes = axes.flatten()\n",
    "\n",
    "axes[0].set_title('Sub Figure 1')\n",
    "axes[1].set_title('Sub Figure 2')\n",
    "axes[2].set_title('Sub Figure 3')\n",
    "axes[3].set_title('Sub Figure 4')\n",
    "\n",
    "fig.suptitle('Figure')\n",
    "\n",
    "axes[0].set_ylabel('Y-axis')\n",
    "axes[0].set_xlabel('X-axis')\n",
    "\n",
    "axes[1].set_ylabel('Y-axis')\n",
    "axes[1].set_xlabel('X-axis')\n",
    "\n",
    "axes[2].set_ylabel('Y-axis')\n",
    "axes[2].set_xlabel('X-axis')\n",
    "\n",
    "axes[3].set_ylabel('Y-axis')\n",
    "axes[3].set_xlabel('X-axis')\n",
    "\n",
    "fig.supylabel('Y')\n",
    "fig.supxlabel('X')\n",
    "\n",
    "\n",
    "plt.savefig('empty_fig.pdf', dpi = 200, bbox_inches = 'tight')"
   ]
  },
  {
   "cell_type": "markdown",
   "id": "a4e633e6",
   "metadata": {},
   "source": [
    "## Мозайка"
   ]
  },
  {
   "cell_type": "code",
   "execution_count": null,
   "id": "99c46f4d",
   "metadata": {
    "ExecuteTime": {
     "start_time": "2023-02-01T09:41:30.376Z"
    }
   },
   "outputs": [],
   "source": [
    "plt.subplot_mosaic(\"AA;BC\");"
   ]
  },
  {
   "cell_type": "markdown",
   "id": "75bb31bb",
   "metadata": {},
   "source": [
    "# Гистограмма (Histogram)"
   ]
  },
  {
   "cell_type": "code",
   "execution_count": null,
   "id": "1d2dc890",
   "metadata": {
    "ExecuteTime": {
     "start_time": "2023-02-01T09:41:30.754Z"
    }
   },
   "outputs": [],
   "source": [
    "fig, axes = plt.subplots(1, 1, figsize = (8, 4));\n",
    "\n",
    "axes.hist(data['petal length (cm)'], edgecolor= 'k', bins = 32);\n",
    "axes.set_title(\"Petal length\")\n",
    "axes.set_ylabel('Counts')\n",
    "axes.set_xlabel('cm')"
   ]
  },
  {
   "cell_type": "markdown",
   "id": "58b62336",
   "metadata": {},
   "source": [
    "# Линейный график (Linear plot)"
   ]
  },
  {
   "cell_type": "code",
   "execution_count": null,
   "id": "f179c1b9",
   "metadata": {
    "ExecuteTime": {
     "start_time": "2023-02-01T09:41:31.040Z"
    }
   },
   "outputs": [],
   "source": [
    "fig, axes = plt.subplots(1, 1, figsize = (8, 4));\n",
    "\n",
    "axes.plot(data['petal length (cm)'], data['petal width (cm)']);\n",
    "axes.set_title('Linear plot')"
   ]
  },
  {
   "cell_type": "markdown",
   "id": "e4ab4c67",
   "metadata": {},
   "source": [
    "# Диграмма рассеивания (Scatter plot)"
   ]
  },
  {
   "cell_type": "code",
   "execution_count": null,
   "id": "579ac7c6",
   "metadata": {
    "ExecuteTime": {
     "start_time": "2023-02-01T09:41:31.427Z"
    }
   },
   "outputs": [],
   "source": [
    "fig, axes = plt.subplots(1, 1, figsize = (8, 4));\n",
    "\n",
    "axes.scatter(data['petal length (cm)'], data['petal width (cm)']);\n",
    "axes.set_title('Scatter plot')"
   ]
  },
  {
   "cell_type": "markdown",
   "id": "6651afde",
   "metadata": {},
   "source": [
    "# Диграммы размаха"
   ]
  },
  {
   "cell_type": "markdown",
   "id": "8e3ee920",
   "metadata": {},
   "source": [
    "## Ящик с усами, Скрипичный график (Boxplot, Violinplot)"
   ]
  },
  {
   "cell_type": "code",
   "execution_count": null,
   "id": "b5590e93",
   "metadata": {
    "ExecuteTime": {
     "start_time": "2023-02-01T09:41:32.102Z"
    }
   },
   "outputs": [],
   "source": [
    "fig, axes = plt.subplots(1, 1, figsize = (8, 4));\n",
    "\n",
    "axes.boxplot(data['petal length (cm)']);\n",
    "axes.set_title('Boxplot')"
   ]
  },
  {
   "cell_type": "code",
   "execution_count": null,
   "id": "e2dc4766",
   "metadata": {
    "ExecuteTime": {
     "start_time": "2023-02-01T09:41:32.134Z"
    }
   },
   "outputs": [],
   "source": [
    "fig, axes = plt.subplots(1, 1, figsize = (8, 4));\n",
    "\n",
    "axes.violinplot(data['petal length (cm)']);\n",
    "axes.set_title('Violinplot')"
   ]
  },
  {
   "cell_type": "markdown",
   "id": "1244bdae",
   "metadata": {},
   "source": [
    "# Столбчатая диаграмма (Barplot)\n",
    "\n",
    "- Найдите среднее значение всех числовых переменных, сохраните их в переменной `means`;\n",
    "- Найдите стандартное отклонение всех числовых переменных и сохраните в переменную `stds`;\n",
    "- Создайте список с именами всех числовых переменных;\n",
    "- Создайте столбчатую диаграмму, используя средние значения, стандартные отклонения и названия переменных."
   ]
  },
  {
   "cell_type": "code",
   "execution_count": null,
   "id": "9bb635de",
   "metadata": {
    "ExecuteTime": {
     "start_time": "2023-02-01T09:41:32.494Z"
    }
   },
   "outputs": [],
   "source": [
    "m1 = data['petal length (cm)'].mean()\n",
    "m2 = data['petal width (cm)'].mean()\n",
    "\n",
    "m3 = data['sepal length (cm)'].mean()\n",
    "m4 = data['sepal width (cm)'].mean()\n",
    "\n",
    "means = [m1, m2, m3, m4]\n",
    "\n",
    "means"
   ]
  },
  {
   "cell_type": "code",
   "execution_count": null,
   "id": "92f8e3a8",
   "metadata": {
    "ExecuteTime": {
     "start_time": "2023-02-01T09:41:32.529Z"
    }
   },
   "outputs": [],
   "source": [
    "means = data.iloc[:, :4].mean().values\n",
    "stds = data.iloc[:, :4].std().values"
   ]
  },
  {
   "cell_type": "code",
   "execution_count": null,
   "id": "307079df",
   "metadata": {
    "ExecuteTime": {
     "start_time": "2023-02-01T09:41:32.567Z"
    }
   },
   "outputs": [],
   "source": [
    "names = data.iloc[:, :4].columns.values\n",
    "names"
   ]
  },
  {
   "cell_type": "code",
   "execution_count": null,
   "id": "74bc5499",
   "metadata": {
    "ExecuteTime": {
     "start_time": "2023-02-01T09:41:32.597Z"
    }
   },
   "outputs": [],
   "source": [
    "fig, axes = plt.subplots(1,1, figsize = (8, 6))\n",
    "axes.bar(names, means, yerr = stds, color = ['red', 'orange', 'green', 'black'])\n",
    "axes.set_title('Bar plot')\n",
    "axes.set_ylabel('Mean $_i$')\n",
    "axes.set_xlabel('Iris species')\n",
    "\n",
    "plt.savefig('my first bar plot.pdf')"
   ]
  },
  {
   "cell_type": "markdown",
   "id": "08a761c2",
   "metadata": {},
   "source": [
    "# Создайте график с несколькими непустыми подграфамиками"
   ]
  },
  {
   "cell_type": "code",
   "execution_count": null,
   "id": "6db0eaf0",
   "metadata": {
    "ExecuteTime": {
     "start_time": "2023-02-01T09:41:32.922Z"
    }
   },
   "outputs": [],
   "source": [
    "fig, axes = plt.subplots(2, 2, figsize = (8, 8), sharex=False, sharey=False)\n",
    "axes = axes.flatten()\n",
    "\n",
    "axes[0].hist(data['petal length (cm)'], label = 'petal length (cm)', alpha = 0.5, color='orange')\n",
    "axes[0].hist(data['petal width (cm)'], label = 'petal width (cm)', alpha = 0.5, color='green')\n",
    "axes[0].legend()\n",
    "\n",
    "\n",
    "axes[1].scatter(data['petal length (cm)'], data['petal width (cm)'], label = 'Scatter plot')\n",
    "axes[1].legend()\n",
    "\n",
    "\n",
    "axes[2].bar(names, means, yerr = stds, color = ['red', 'orange', 'green', 'black'])\n",
    "axes[2].set_title('Bar plot')\n",
    "axes[2].set_ylabel('Mean $_i$')\n",
    "axes[2].set_xlabel('Iris species')\n",
    "axes[2].tick_params(axis = 'x' , rotation = 45)\n",
    "\n",
    "g = sns.histplot(data=data, x = data['petal length (cm)'], ax = axes[3])\n",
    "\n",
    "plt.savefig('fig with subplots.pdf', bbox_inches='tight')"
   ]
  },
  {
   "cell_type": "code",
   "execution_count": null,
   "id": "1ce8f757",
   "metadata": {},
   "outputs": [],
   "source": []
  },
  {
   "cell_type": "code",
   "execution_count": null,
   "id": "b1f8d1cb",
   "metadata": {},
   "outputs": [],
   "source": []
  },
  {
   "cell_type": "code",
   "execution_count": null,
   "id": "306402a2",
   "metadata": {},
   "outputs": [],
   "source": []
  },
  {
   "cell_type": "code",
   "execution_count": null,
   "id": "435ff67f",
   "metadata": {},
   "outputs": [],
   "source": []
  }
 ],
 "metadata": {
  "kernelspec": {
   "display_name": "Python 3",
   "language": "python",
   "name": "python3"
  },
  "language_info": {
   "codemirror_mode": {
    "name": "ipython",
    "version": 3
   },
   "file_extension": ".py",
   "mimetype": "text/x-python",
   "name": "python",
   "nbconvert_exporter": "python",
   "pygments_lexer": "ipython3",
   "version": "3.8.8"
  },
  "latex_envs": {
   "LaTeX_envs_menu_present": true,
   "autoclose": false,
   "autocomplete": true,
   "bibliofile": "biblio.bib",
   "cite_by": "apalike",
   "current_citInitial": 1,
   "eqLabelWithNumbers": true,
   "eqNumInitial": 1,
   "hotkeys": {
    "equation": "Ctrl-E",
    "itemize": "Ctrl-I"
   },
   "labels_anchors": false,
   "latex_user_defs": false,
   "report_style_numbering": false,
   "user_envs_cfg": false
  },
  "nbTranslate": {
   "displayLangs": [
    "*"
   ],
   "hotkey": "alt-t",
   "langInMainMenu": true,
   "sourceLang": "en",
   "targetLang": "fr",
   "useGoogleTranslate": true
  },
  "toc": {
   "base_numbering": 1,
   "nav_menu": {},
   "number_sections": true,
   "sideBar": true,
   "skip_h1_title": false,
   "title_cell": "Table of Contents",
   "title_sidebar": "Contents",
   "toc_cell": true,
   "toc_position": {},
   "toc_section_display": true,
   "toc_window_display": false
  }
 },
 "nbformat": 4,
 "nbformat_minor": 5
}
